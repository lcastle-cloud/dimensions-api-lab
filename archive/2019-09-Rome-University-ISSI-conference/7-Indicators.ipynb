{
 "cells": [
  {
   "cell_type": "markdown",
   "metadata": {
    "Collapsed": "false"
   },
   "source": [
    "<a href=\"https://colab.research.google.com/github/digital-science/dimensions-api-lab/blob/master/3-workshops/2019-09-Rome-University-ISSI-conference/7-Indicators.ipynb\" target=\"_parent\"><img src=\"https://colab.research.google.com/assets/colab-badge.svg\" alt=\"Open Dimensions API Lab In Google Colab\"/></a>"
   ]
  },
  {
   "cell_type": "markdown",
   "metadata": {
    "Collapsed": "false",
    "slideshow": {
     "slide_type": "slide"
    }
   },
   "source": [
    "# 7. Indicators  \n",
    "\n",
    "This Notebook shows how it's possible to generate indicators programmatically, using the raw data from the Dimensions API with Jupyter Notebooks. \n"
   ]
  },
  {
   "cell_type": "code",
   "execution_count": 1,
   "metadata": {
    "Collapsed": "false"
   },
   "outputs": [
    {
     "data": {
      "text/html": [
       "        <script type=\"text/javascript\">\n",
       "        window.PlotlyConfig = {MathJaxConfig: 'local'};\n",
       "        if (window.MathJax) {MathJax.Hub.Config({SVG: {font: \"STIX-Web\"}});}\n",
       "        if (typeof require !== 'undefined') {\n",
       "        require.undef(\"plotly\");\n",
       "        requirejs.config({\n",
       "            paths: {\n",
       "                'plotly': ['https://cdn.plot.ly/plotly-latest.min']\n",
       "            }\n",
       "        });\n",
       "        require(['plotly'], function(Plotly) {\n",
       "            window._Plotly = Plotly;\n",
       "        });\n",
       "        }\n",
       "        </script>\n",
       "        "
      ]
     },
     "metadata": {},
     "output_type": "display_data"
    }
   ],
   "source": [
    "import dimcli\n",
    "from dimcli.shortcuts import dslquery, dslqueryall\n",
    "import pandas as pd\n",
    "from pandas.io.json import json_normalize\n",
    "import plotly_express as px\n",
    "from plotly.offline import init_notebook_mode # needed for exports \n",
    "init_notebook_mode(connected=True)"
   ]
  },
  {
   "cell_type": "markdown",
   "metadata": {
    "Collapsed": "false"
   },
   "source": [
    "Dimensions data source are mined for organizations identifiers using GRID, the [Global Research Identifier Database](https://grid.ac/). So we can use GRID IDs to perform searches across all source in Dimensions. \n",
    "\n",
    "The GRID ID for Rome La Sapienza is [grid.7841.a](https://grid.ac/institutes/grid.7841.a). \n"
   ]
  },
  {
   "cell_type": "code",
   "execution_count": 2,
   "metadata": {
    "Collapsed": "false"
   },
   "outputs": [],
   "source": [
    "GRIDID = \"grid.7841.a\""
   ]
  },
  {
   "cell_type": "markdown",
   "metadata": {
    "Collapsed": "false"
   },
   "source": [
    "## Example: the H-index\n",
    "\n",
    "##### Background\n",
    "\n",
    "> The [h-index](https://en.wikipedia.org/wiki/H-index) is an author-level metric that attempts to measure both the productivity and citation impact of the publications of a scientist or scholar. The index is based on the set of the scientist's most cited papers and the number of citations that they have received in other publications.\n",
    "\n",
    "A more precise definition:\n",
    "\n",
    "> The h-index is defined as the maximum value of h such that the given author/journal has published h papers that have each been cited at least h times.\n",
    "\n",
    "How to calculate it:\n",
    "\n",
    "> Formally, if f is the function that corresponds to the number of citations for each publication, we compute the h-index as follows. First we order the values of f from the largest to the lowest value. Then, we look for the last position in which f is greater than or equal to the position (we call h this position). For example, if we have a researcher with 5 publications A, B, C, D, and E with 10, 8, 5, 4, and 3 citations, respectively, the h-index is equal to 4 because the 4th publication has 4 citations and the 5th has only 3. In contrast, if the same publications have 25, 8, 5, 3, and 3 citations, then the index is 3 because the fourth paper has only 3 citations ([wikipedia](https://en.wikipedia.org/wiki/H-index))"
   ]
  },
  {
   "cell_type": "markdown",
   "metadata": {
    "Collapsed": "false"
   },
   "source": [
    "#### Selecting a researcher\n",
    "\n",
    "Let's take a researcher ID from the previous tutorial eg [Shahram Rahatlou ur.013334067161.01](https://app.dimensions.ai/discover/publication?and_facet_researcher=ur.013334067161.01) and save its ID into a variable that can be referenced later.\n",
    "\n",
    "> Try modifying the researcher ID below to get different results! "
   ]
  },
  {
   "cell_type": "code",
   "execution_count": 3,
   "metadata": {
    "Collapsed": "false"
   },
   "outputs": [],
   "source": [
    "RESEARCHER = \"ur.013334067161.01\""
   ]
  },
  {
   "cell_type": "markdown",
   "metadata": {
    "Collapsed": "false"
   },
   "source": [
    "#### Generic function for calculating the H-Index "
   ]
  },
  {
   "cell_type": "markdown",
   "metadata": {
    "Collapsed": "false"
   },
   "source": [
    "The h-Index function takes a list of citations and outputs the h-index value as explained above: "
   ]
  },
  {
   "cell_type": "code",
   "execution_count": 4,
   "metadata": {
    "Collapsed": "false"
   },
   "outputs": [],
   "source": [
    "def the_H_function(sorted_citations_list, n=1):\n",
    "    \"\"\"from a list of integers [n1, n2 ..] representing publications citations, \n",
    "    return the max list-position which is >= integer\n",
    "    \n",
    "    eg \n",
    "    >>> the_H_function([10, 8, 5, 4, 3]) => 4\n",
    "    >>> the_H_function([25, 8, 5, 3, 3]) => 3\n",
    "    >>> the_H_function([1000, 20]) => 2\n",
    "    \"\"\"\n",
    "    if sorted_citations_list and sorted_citations_list[0] >= n:\n",
    "        return the_H_function(sorted_citations_list[1:], n+1)\n",
    "    else:\n",
    "        return n-1"
   ]
  },
  {
   "cell_type": "markdown",
   "metadata": {
    "Collapsed": "false"
   },
   "source": [
    "The H-index function is generic and can take any list of numbers representing publication citations. \n",
    "\n",
    "### Input: researchers citations data from Dimensions\n",
    "\n",
    "In order to pass some real-world data to the H-Index function, we can easily use the Dimensions API to extract all publication citations for a researcher, like this: "
   ]
  },
  {
   "cell_type": "code",
   "execution_count": 5,
   "metadata": {
    "Collapsed": "false"
   },
   "outputs": [],
   "source": [
    "def get_pubs_citations(researcher_id):\n",
    "    q = \"\"\"search publications where researchers.id = \"{}\" return publications[times_cited] sort by times_cited limit 1000\"\"\"\n",
    "    pubs = dslquery(q.format(researcher_id))\n",
    "    return list(pubs.as_dataframe().fillna(0)['times_cited'])"
   ]
  },
  {
   "cell_type": "markdown",
   "metadata": {
    "Collapsed": "false"
   },
   "source": [
    "Finally, we combine the two functions to calculate the H-Index for a specific researcher:"
   ]
  },
  {
   "cell_type": "code",
   "execution_count": 6,
   "metadata": {
    "Collapsed": "false"
   },
   "outputs": [
    {
     "name": "stdout",
     "output_type": "stream",
     "text": [
      "Returned Publications: 1000 (total = 1102)\n",
      "H_index is: 94\n"
     ]
    }
   ],
   "source": [
    "print(\"H_index is:\", the_H_function(get_pubs_citations(RESEARCHER)))"
   ]
  },
  {
   "cell_type": "markdown",
   "metadata": {
    "Collapsed": "false"
   },
   "source": [
    "---\n",
    "# Activities\n",
    "\n",
    "* Try extracting the H-Index for a group of researchers you are interested in (eg `search researchers where ...`) \n",
    "* Try comparing the citations count value of researchers with the H-Index. How can this be visualized? What data do we need? \n",
    "* Think of other indicators what one could build using Dimensions data"
   ]
  },
  {
   "cell_type": "markdown",
   "metadata": {
    "Collapsed": "false"
   },
   "source": [
    "---\n",
    "# Want to learn more?\n",
    "\n",
    "Check out the [Dimensions API Lab](https://digital-science.github.io/dimensions-api-lab/) website, which contains many tutorials and reusable Jupyter notebooks for scholarly data analytics. "
   ]
  }
 ],
 "metadata": {
  "kernel_info": {
   "name": "python3"
  },
  "kernelspec": {
   "display_name": "Python 3",
   "language": "python",
   "name": "python3"
  },
  "language_info": {
   "codemirror_mode": {
    "name": "ipython",
    "version": 3
   },
   "file_extension": ".py",
   "mimetype": "text/x-python",
   "name": "python",
   "nbconvert_exporter": "python",
   "pygments_lexer": "ipython3",
   "version": "3.7.4"
  },
  "nteract": {
   "version": "0.14.5"
  }
 },
 "nbformat": 4,
 "nbformat_minor": 4
}
