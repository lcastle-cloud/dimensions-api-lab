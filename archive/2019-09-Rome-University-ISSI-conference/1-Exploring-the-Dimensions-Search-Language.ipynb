{
 "cells": [
  {
   "cell_type": "markdown",
   "metadata": {
    "Collapsed": "false"
   },
   "source": [
    "<a href=\"https://colab.research.google.com/github/digital-science/dimensions-api-lab/blob/master/3-workshops/2019-09-Rome-University-ISSI-conference/1-Exploring-the-Dimensions-Search-Language.ipynb\" target=\"_parent\"><img src=\"https://colab.research.google.com/assets/colab-badge.svg\" alt=\"Open Dimensions API Lab In Google Colab\"/></a>"
   ]
  },
  {
   "cell_type": "markdown",
   "metadata": {
    "Collapsed": "false",
    "slideshow": {
     "slide_type": "slide"
    }
   },
   "source": [
    "# 1. Exploring The Dimensions Search Language (DSL)\n",
    "\n",
    "This Notebook takes you through the basics of using the Dimensions API with Jupyter Notebooks. \n",
    "\n",
    "> See also: [official DSL documentation online](https://docs.dimensions.ai/dsl/)\n",
    "\n",
    "In this and the other notebooks in this tutorial we will be using the [Dimcli library](https://github.com/lambdamusic/dimcli). DimCLI is an open source Python library which contains various commands that make it easier to interact with the Dimensions API from Python notebooks."
   ]
  },
  {
   "cell_type": "code",
   "execution_count": 7,
   "metadata": {
    "Collapsed": "false",
    "slideshow": {
     "slide_type": "skip"
    }
   },
   "outputs": [],
   "source": [
    "from dimcli.shortcuts import dslquery"
   ]
  },
  {
   "cell_type": "markdown",
   "metadata": {
    "Collapsed": "false",
    "slideshow": {
     "slide_type": "slide"
    }
   },
   "source": [
    "## The Basics\n",
    "\n",
    "The `dslquery` function works in just the same way as the dimensions API inteface works in the application. \n",
    "* submit your query\n",
    "* get back json results"
   ]
  },
  {
   "cell_type": "code",
   "execution_count": 8,
   "metadata": {
    "Collapsed": "false",
    "scrolled": true,
    "slideshow": {
     "slide_type": "slide"
    }
   },
   "outputs": [
    {
     "name": "stdout",
     "output_type": "stream",
     "text": [
      "Returned Publications: 1 (total = 1)\n"
     ]
    },
    {
     "data": {
      "application/json": {
       "_stats": {
        "limit": 1,
        "offset": 0,
        "total_count": 1
       },
       "_warnings": [
        "Field 'RCDC' is deprecated in favor of category_rcdc. Please refer to https://docs.dimensions.ai/dsl/releasenotes.html for more details",
        "Field 'HRCS_RAC' is deprecated in favor of category_hrcs_rac. Please refer to https://docs.dimensions.ai/dsl/releasenotes.html for more details",
        "Field 'references' is deprecated in favor of reference_ids. Please refer to https://docs.dimensions.ai/dsl/releasenotes.html for more details",
        "Field 'author_affiliations' is deprecated in favor of authors. Please refer to https://docs.dimensions.ai/dsl/releasenotes.html for more details",
        "Field 'open_access' is deprecated in favor of open_access_categories. Please refer to https://docs.dimensions.ai/dsl/releasenotes.html for more details",
        "Field 'FOR' is deprecated in favor of category_for. Please refer to https://docs.dimensions.ai/dsl/releasenotes.html for more details",
        "Field 'FOR_first' is deprecated in favor of category_for. Please refer to https://docs.dimensions.ai/dsl/releasenotes.html for more details",
        "Field 'terms' is deprecated in favor of concepts. Please refer to https://docs.dimensions.ai/dsl/releasenotes.html for more details",
        "Field 'HRCS_HC' is deprecated in favor of category_hrcs_hc. Please refer to https://docs.dimensions.ai/dsl/releasenotes.html for more details"
       ],
       "publications": [
        {
         "FOR": [
          {
           "id": "2921",
           "name": "0912 Materials Engineering"
          }
         ],
         "FOR_first": [
          {
           "id": "2209",
           "name": "09 Engineering"
          }
         ],
         "altmetric": 26,
         "altmetric_id": 43292476,
         "author_affiliations": [
          [
           {
            "affiliations": [
             {
              "city": "Madrid",
              "city_id": 3117735,
              "country": "Spain",
              "country_code": "ES",
              "id": "grid.482876.7",
              "name": "IMDEA Nanoscience",
              "state": null,
              "state_code": null
             }
            ],
            "current_organization_id": "grid.452504.2",
            "first_name": "Ester M.",
            "last_name": "Palmero",
            "orcid": "['0000-0001-8223-3200']",
            "researcher_id": "ur.013741637062.76"
           },
           {
            "affiliations": [
             {
              "city": "Madrid",
              "city_id": 3117735,
              "country": "Spain",
              "country_code": "ES",
              "id": "grid.482876.7",
              "name": "IMDEA Nanoscience",
              "state": null,
              "state_code": null
             }
            ],
            "current_organization_id": "grid.482876.7",
            "first_name": "Javier",
            "last_name": "Rial",
            "orcid": "",
            "researcher_id": "ur.07414614063.30"
           },
           {
            "affiliations": [
             {
              "city": "Madrid",
              "city_id": 3117735,
              "country": "Spain",
              "country_code": "ES",
              "id": "grid.482876.7",
              "name": "IMDEA Nanoscience",
              "state": null,
              "state_code": null
             }
            ],
            "current_organization_id": "grid.482876.7",
            "first_name": "Javier",
            "last_name": "de Vicente",
            "orcid": "",
            "researcher_id": "ur.013235051422.01"
           },
           {
            "affiliations": [
             {
              "city": "Madrid",
              "city_id": 3117735,
              "country": "Spain",
              "country_code": "ES",
              "id": "grid.482876.7",
              "name": "IMDEA Nanoscience",
              "state": null,
              "state_code": null
             }
            ],
            "current_organization_id": "grid.5515.4",
            "first_name": "Julio",
            "last_name": "Camarero",
            "orcid": "['0000-0003-0078-7280']",
            "researcher_id": "ur.01027655236.11"
           },
           {
            "affiliations": [
             {
              "city": "Höganäs",
              "city_id": 2706003,
              "country": "Sweden",
              "country_code": "SE",
              "id": "grid.424709.c",
              "name": "Höganäs (Sweden)",
              "state": null,
              "state_code": null
             }
            ],
            "current_organization_id": "grid.424709.c",
            "first_name": "Björn",
            "last_name": "Skårman",
            "orcid": "",
            "researcher_id": "ur.014623751315.63"
           },
           {
            "affiliations": [
             {
              "city": "Höganäs",
              "city_id": 2706003,
              "country": "Sweden",
              "country_code": "SE",
              "id": "grid.424709.c",
              "name": "Höganäs (Sweden)",
              "state": null,
              "state_code": null
             }
            ],
            "current_organization_id": "grid.424709.c",
            "first_name": "Hilmar",
            "last_name": "Vidarsson",
            "orcid": "",
            "researcher_id": "ur.01156222124.78"
           },
           {
            "affiliations": [
             {
              "city": "Höganäs",
              "city_id": 2706003,
              "country": "Sweden",
              "country_code": "SE",
              "id": "grid.424709.c",
              "name": "Höganäs (Sweden)",
              "state": null,
              "state_code": null
             }
            ],
            "current_organization_id": "grid.8148.5",
            "first_name": "Per-Olof",
            "last_name": "Larsson",
            "orcid": "",
            "researcher_id": "ur.071444746.01"
           },
           {
            "affiliations": [
             {
              "city": "Madrid",
              "city_id": 3117735,
              "country": "Spain",
              "country_code": "ES",
              "id": "grid.482876.7",
              "name": "IMDEA Nanoscience",
              "state": null,
              "state_code": null
             }
            ],
            "current_organization_id": "grid.482876.7",
            "first_name": "Alberto",
            "last_name": "Bollero",
            "orcid": "['0000-0002-3282-0981']",
            "researcher_id": "ur.0763542206.68"
           }
          ]
         ],
         "authors": [
          {
           "affiliations": [
            {
             "city": "Madrid",
             "city_id": 3117735,
             "country": "Spain",
             "country_code": "ES",
             "id": "grid.482876.7",
             "name": "IMDEA Nanoscience",
             "state": null,
             "state_code": null
            }
           ],
           "current_organization_id": "grid.452504.2",
           "first_name": "Ester M.",
           "last_name": "Palmero",
           "orcid": "['0000-0001-8223-3200']",
           "researcher_id": "ur.013741637062.76"
          },
          {
           "affiliations": [
            {
             "city": "Madrid",
             "city_id": 3117735,
             "country": "Spain",
             "country_code": "ES",
             "id": "grid.482876.7",
             "name": "IMDEA Nanoscience",
             "state": null,
             "state_code": null
            }
           ],
           "current_organization_id": "grid.482876.7",
           "first_name": "Javier",
           "last_name": "Rial",
           "orcid": "",
           "researcher_id": "ur.07414614063.30"
          },
          {
           "affiliations": [
            {
             "city": "Madrid",
             "city_id": 3117735,
             "country": "Spain",
             "country_code": "ES",
             "id": "grid.482876.7",
             "name": "IMDEA Nanoscience",
             "state": null,
             "state_code": null
            }
           ],
           "current_organization_id": "grid.482876.7",
           "first_name": "Javier",
           "last_name": "de Vicente",
           "orcid": "",
           "researcher_id": "ur.013235051422.01"
          },
          {
           "affiliations": [
            {
             "city": "Madrid",
             "city_id": 3117735,
             "country": "Spain",
             "country_code": "ES",
             "id": "grid.482876.7",
             "name": "IMDEA Nanoscience",
             "state": null,
             "state_code": null
            }
           ],
           "current_organization_id": "grid.5515.4",
           "first_name": "Julio",
           "last_name": "Camarero",
           "orcid": "['0000-0003-0078-7280']",
           "researcher_id": "ur.01027655236.11"
          },
          {
           "affiliations": [
            {
             "city": "Höganäs",
             "city_id": 2706003,
             "country": "Sweden",
             "country_code": "SE",
             "id": "grid.424709.c",
             "name": "Höganäs (Sweden)",
             "state": null,
             "state_code": null
            }
           ],
           "current_organization_id": "grid.424709.c",
           "first_name": "Björn",
           "last_name": "Skårman",
           "orcid": "",
           "researcher_id": "ur.014623751315.63"
          },
          {
           "affiliations": [
            {
             "city": "Höganäs",
             "city_id": 2706003,
             "country": "Sweden",
             "country_code": "SE",
             "id": "grid.424709.c",
             "name": "Höganäs (Sweden)",
             "state": null,
             "state_code": null
            }
           ],
           "current_organization_id": "grid.424709.c",
           "first_name": "Hilmar",
           "last_name": "Vidarsson",
           "orcid": "",
           "researcher_id": "ur.01156222124.78"
          },
          {
           "affiliations": [
            {
             "city": "Höganäs",
             "city_id": 2706003,
             "country": "Sweden",
             "country_code": "SE",
             "id": "grid.424709.c",
             "name": "Höganäs (Sweden)",
             "state": null,
             "state_code": null
            }
           ],
           "current_organization_id": "grid.8148.5",
           "first_name": "Per-Olof",
           "last_name": "Larsson",
           "orcid": "",
           "researcher_id": "ur.071444746.01"
          },
          {
           "affiliations": [
            {
             "city": "Madrid",
             "city_id": 3117735,
             "country": "Spain",
             "country_code": "ES",
             "id": "grid.482876.7",
             "name": "IMDEA Nanoscience",
             "state": null,
             "state_code": null
            }
           ],
           "current_organization_id": "grid.482876.7",
           "first_name": "Alberto",
           "last_name": "Bollero",
           "orcid": "['0000-0002-3282-0981']",
           "researcher_id": "ur.0763542206.68"
          }
         ],
         "category_for": [
          {
           "id": "2921",
           "name": "0912 Materials Engineering"
          },
          {
           "id": "2209",
           "name": "09 Engineering"
          }
         ],
         "concepts": [
          "content",
          "flexible filaments",
          "system",
          "polyethylene",
          "shape",
          "traditional manufacturing",
          "fabrication",
          "filament extrusion",
          "composite materials",
          "deterioration",
          "efficiency",
          "transport applications",
          "compacted magnet",
          "precursor",
          "manufacturing restrictions",
          "structure",
          "matrix",
          "technological applications",
          "aerospace sector",
          "processing techniques",
          "homogeneous composites",
          "related technologies",
          "scalable design",
          "synthesis",
          "final device",
          "spherical particles",
          "properties",
          "application",
          "magnets",
          "gas",
          "composites",
          "length",
          "electromechanical systems",
          "functional structure",
          "micro electromechanical systems",
          "printing",
          "scalable",
          "technique",
          "energy",
          "maximum",
          "magnetic measurements",
          "polymer",
          "extrusion",
          "present design",
          "work",
          "technology",
          "casting",
          "materials",
          "solution casting",
          "composite synthesis",
          "design",
          "products",
          "different processing techniques",
          "particle content",
          "permanent magnet components",
          "PE material",
          "route",
          "device",
          "magnet composite",
          "continuous length",
          "manufacturing",
          "magnet components",
          "particles",
          "components",
          "measurements",
          "phase"
         ],
         "date": "2018-12-31",
         "date_inserted": "2018-06-01",
         "doi": "10.1080/14686996.2018.1471321",
         "funder_countries": [
          {
           "id": "ES",
           "name": "Spain"
          }
         ],
         "funders": [
          {
           "country_name": "Spain",
           "id": "grid.418921.7",
           "name": "Comunidad de Madrid"
          },
          {
           "acronym": "MINECO",
           "country_name": "Spain",
           "id": "grid.451322.3",
           "name": "Ministry of Economy, Industry and Competitiveness"
          }
         ],
         "id": "pub.1104296509",
         "issn": [
          "1468-6996",
          "1878-5514"
         ],
         "issue": "1",
         "journal": {
          "id": "jour.1048844",
          "title": "Science and Technology of Advanced Materials"
         },
         "journal_lists": [
          "Norwegian register level 1",
          "DOAJ",
          "ERA 2015",
          "PubMed"
         ],
         "linkout": "https://www.tandfonline.com/doi/pdf/10.1080/14686996.2018.1471321?needAccess=true",
         "open_access": [
          "Open Access - all",
          "Open Access - publisher",
          "Open Access - published"
         ],
         "open_access_categories": [
          {
           "description": "Article is freely available",
           "id": "oa_all",
           "name": "All OA"
          },
          {
           "description": "Freely available on publisher page, but without an open licence",
           "id": "gold_bronze",
           "name": "Bronze"
          }
         ],
         "pages": "465-473",
         "pmcid": "PMC5990948",
         "pmid": "29887921",
         "publisher": "Taylor & Francis",
         "recent_citations": 7,
         "reference_ids": [
          "pub.1003008311",
          "pub.1059133440",
          "pub.1016707234",
          "pub.1052978629",
          "pub.1038537710",
          "pub.1008571100",
          "pub.1006096355",
          "pub.1044100206",
          "pub.1006536023",
          "pub.1036044049",
          "pub.1084130443",
          "pub.1091298697",
          "pub.1030962280",
          "pub.1071988007",
          "pub.1053233274",
          "pub.1084527494",
          "pub.1057938439",
          "pub.1011594972",
          "pub.1016356469",
          "pub.1061291865",
          "pub.1044820020",
          "pub.1046970790",
          "pub.1085396124",
          "pub.1058365449",
          "pub.1021120712",
          "pub.1027964092",
          "pub.1029799271"
         ],
         "references": [
          "pub.1003008311",
          "pub.1059133440",
          "pub.1016707234",
          "pub.1052978629",
          "pub.1038537710",
          "pub.1008571100",
          "pub.1006096355",
          "pub.1044100206",
          "pub.1006536023",
          "pub.1036044049",
          "pub.1084130443",
          "pub.1091298697",
          "pub.1030962280",
          "pub.1071988007",
          "pub.1053233274",
          "pub.1084527494",
          "pub.1057938439",
          "pub.1011594972",
          "pub.1016356469",
          "pub.1061291865",
          "pub.1044820020",
          "pub.1046970790",
          "pub.1085396124",
          "pub.1058365449",
          "pub.1021120712",
          "pub.1027964092",
          "pub.1029799271"
         ],
         "research_org_cities": [
          {
           "id": 2706003,
           "name": "Höganäs"
          },
          {
           "id": 3117735,
           "name": "Madrid"
          }
         ],
         "research_org_countries": [
          {
           "id": "ES",
           "name": "Spain"
          },
          {
           "id": "SE",
           "name": "Sweden"
          }
         ],
         "research_org_country_names": [
          "Sweden",
          "Spain"
         ],
         "research_orgs": [
          {
           "country_name": "Spain",
           "id": "grid.482876.7",
           "name": "IMDEA Nanoscience"
          },
          {
           "country_name": "Sweden",
           "id": "grid.424709.c",
           "name": "Höganäs (Sweden)"
          }
         ],
         "researchers": [
          {
           "first_name": "Ester Maria",
           "id": "ur.013741637062.76",
           "last_name": "Palmero",
           "orcid_id": [
            "0000-0001-8223-3200"
           ],
           "research_orgs": [
            "grid.482876.7",
            "grid.452504.2",
            "grid.4711.3",
            "grid.5718.b"
           ]
          },
          {
           "first_name": "Javier",
           "id": "ur.07414614063.30",
           "last_name": "Rial",
           "research_orgs": [
            "grid.482876.7",
            "grid.5515.4",
            "grid.429045.e"
           ]
          },
          {
           "first_name": "Javier",
           "id": "ur.013235051422.01",
           "last_name": "De Vicente",
           "research_orgs": [
            "grid.482876.7"
           ]
          },
          {
           "first_name": "Julio",
           "id": "ur.01027655236.11",
           "last_name": "Camarero",
           "orcid_id": [
            "0000-0003-0078-7280"
           ],
           "research_orgs": [
            "grid.4444.0",
            "grid.482876.7",
            "grid.5515.4",
            "grid.9621.c",
            "grid.429045.e"
           ]
          },
          {
           "first_name": "Björn",
           "id": "ur.014623751315.63",
           "last_name": "Skårman",
           "research_orgs": [
            "grid.424709.c"
           ]
          },
          {
           "first_name": "Hilmar",
           "id": "ur.01156222124.78",
           "last_name": "Vidarsson",
           "research_orgs": [
            "grid.8761.8",
            "grid.424709.c",
            "grid.427935.e"
           ]
          },
          {
           "first_name": "Per-Olof",
           "id": "ur.071444746.01",
           "last_name": "Larsson",
           "research_orgs": [
            "grid.4514.4",
            "grid.424709.c",
            "grid.28803.31",
            "grid.8148.5"
           ]
          },
          {
           "first_name": "Alberto",
           "id": "ur.0763542206.68",
           "last_name": "Bollero",
           "orcid_id": [
            "0000-0002-3282-0981"
           ],
           "research_orgs": [
            "grid.482876.7",
            "grid.4795.f",
            "grid.457348.9",
            "grid.14841.38",
            "grid.464100.7",
            "grid.5515.4",
            "grid.420019.e",
            "grid.9647.c",
            "grid.429045.e"
           ]
          }
         ],
         "terms": [
          "content",
          "flexible filaments",
          "system",
          "polyethylene",
          "shape",
          "traditional manufacturing",
          "fabrication",
          "filament extrusion",
          "composite materials",
          "deterioration",
          "efficiency",
          "transport applications",
          "compacted magnet",
          "precursor",
          "manufacturing restrictions",
          "structure",
          "matrix",
          "technological applications",
          "aerospace sector",
          "processing techniques",
          "homogeneous composites",
          "related technologies",
          "scalable design",
          "synthesis",
          "final device",
          "spherical particles",
          "properties",
          "application",
          "magnets",
          "gas",
          "composites",
          "length",
          "electromechanical systems",
          "functional structure",
          "micro electromechanical systems",
          "printing",
          "scalable",
          "technique",
          "energy",
          "maximum",
          "magnetic measurements",
          "polymer",
          "extrusion",
          "present design",
          "work",
          "technology",
          "casting",
          "materials",
          "solution casting",
          "composite synthesis",
          "design",
          "products",
          "different processing techniques",
          "particle content",
          "permanent magnet components",
          "PE material",
          "route",
          "device",
          "magnet composite",
          "continuous length",
          "manufacturing",
          "magnet components",
          "particles",
          "components",
          "measurements",
          "phase"
         ],
         "times_cited": 7,
         "title": "Development of permanent magnet MnAlC/polymer composites and flexible filament for bonding and 3D-printing technologies",
         "type": "article",
         "volume": "19",
         "year": 2018
        }
       ]
      },
      "text/plain": [
       "<dimcli.Result object #4792657232. Dict keys: '_stats', '_warnings', 'publications'>"
      ]
     },
     "execution_count": 8,
     "metadata": {
      "application/json": {
       "expanded": false,
       "root": "root"
      }
     },
     "output_type": "execute_result"
    }
   ],
   "source": [
    "#A Basic Query  \n",
    "\n",
    "dslquery(\"\"\"\n",
    "     search publications\n",
    "       where id = \"pub.1104296509\"\n",
    "     return publications[all]\n",
    "     limit 1\n",
    "\"\"\")\n"
   ]
  },
  {
   "cell_type": "markdown",
   "metadata": {
    "Collapsed": "false",
    "slideshow": {
     "slide_type": "slide"
    }
   },
   "source": [
    "## The Basics- control the fields you return"
   ]
  },
  {
   "cell_type": "code",
   "execution_count": 9,
   "metadata": {
    "Collapsed": "false",
    "scrolled": true,
    "slideshow": {
     "slide_type": "subslide"
    }
   },
   "outputs": [
    {
     "name": "stdout",
     "output_type": "stream",
     "text": [
      "Returned Publications: 5 (total = 103377517)\n"
     ]
    },
    {
     "data": {
      "application/json": {
       "_stats": {
        "limit": 5,
        "offset": 0,
        "total_count": 103377517
       },
       "publications": [
        {
         "id": "pub.1113244530",
         "title": "Sure 16,1 - 23,118",
         "year": 2019
        },
        {
         "id": "pub.1113146259",
         "title": "Deutungsmacht von Zeitdiagnosen",
         "year": 2019
        },
        {
         "id": "pub.1113271690",
         "title": "“So You Want to Write about American Indians?” Ethical Reflections on Euro-Academia’s Research on Indigenous Cultural Narratives",
         "year": 2019
        },
        {
         "id": "pub.1117142285",
         "title": "The Moral Nexus",
         "year": 2019
        },
        {
         "id": "pub.1117152054",
         "title": "VC",
         "year": 2019
        }
       ]
      },
      "text/plain": [
       "<dimcli.Result object #4792658000. Dict keys: '_stats', 'publications'>"
      ]
     },
     "execution_count": 9,
     "metadata": {
      "application/json": {
       "expanded": false,
       "root": "root"
      }
     },
     "output_type": "execute_result"
    }
   ],
   "source": [
    "#A Basic Query - control the fields you return\n",
    "\n",
    "dslquery(\"\"\"\n",
    "     search publications\n",
    "     return publications[id+title+year]\n",
    "     limit 5\n",
    "\"\"\")"
   ]
  },
  {
   "cell_type": "markdown",
   "metadata": {
    "Collapsed": "false",
    "slideshow": {
     "slide_type": "slide"
    }
   },
   "source": [
    "## The Basics- make a mistake, and the DSL will tell you what fields that you could have used"
   ]
  },
  {
   "cell_type": "code",
   "execution_count": 10,
   "metadata": {
    "Collapsed": "false",
    "scrolled": true,
    "slideshow": {
     "slide_type": "subslide"
    }
   },
   "outputs": [
    {
     "name": "stdout",
     "output_type": "stream",
     "text": [
      "Returned Errors: 1\n",
      "Semantic errors found:\n",
      "\tField / Fieldset 'dois' is not present in Source 'publications'. Available fields: FOR,FOR_first,HRCS_HC,HRCS_RAC,RCDC,abstract,altmetric,altmetric_id,author_affiliations,authors,book_doi,book_series_title,book_title,category_bra,category_for,category_hra,category_hrcs_hc,category_hrcs_rac,category_rcdc,concepts,date,date_inserted,doi,field_citation_ratio,funder_countries,funders,id,issn,issue,journal,journal_lists,linkout,mesh_terms,open_access,open_access_categories,pages,pmcid,pmid,proceedings_title,publisher,recent_citations,reference_ids,references,relative_citation_ratio,research_org_cities,research_org_countries,research_org_country_names,research_org_state_codes,research_org_state_names,research_orgs,researchers,supporting_grant_ids,terms,times_cited,title,type,volume,year and available fieldsets: all,basics,book,categories,extras\n"
     ]
    }
   ],
   "source": [
    "#Make a mistake, and the DSL will tell you what fields are available\n",
    "\n",
    "badquery = dslquery(\"\"\"\n",
    "     search publications \n",
    "     return publications[dois]\n",
    "     limit 100\n",
    "\"\"\")\n",
    "\n",
    "print(badquery['errors']['query']['details'][0])\n"
   ]
  },
  {
   "cell_type": "code",
   "execution_count": 11,
   "metadata": {
    "Collapsed": "false",
    "scrolled": true,
    "slideshow": {
     "slide_type": "slide"
    }
   },
   "outputs": [
    {
     "name": "stdout",
     "output_type": "stream",
     "text": [
      "Returned Publications: 1 (total = 103377517)\n"
     ]
    },
    {
     "data": {
      "application/json": {
       "_stats": {
        "limit": 1,
        "offset": 0,
        "total_count": 103377517
       },
       "_warnings": [
        "Field 'references' is deprecated in favor of reference_ids. Please refer to https://docs.dimensions.ai/dsl/releasenotes.html for more details",
        "Field 'terms' is deprecated in favor of concepts. Please refer to https://docs.dimensions.ai/dsl/releasenotes.html for more details",
        "Field 'author_affiliations' is deprecated in favor of authors. Please refer to https://docs.dimensions.ai/dsl/releasenotes.html for more details",
        "Field 'RCDC' is deprecated in favor of category_rcdc. Please refer to https://docs.dimensions.ai/dsl/releasenotes.html for more details",
        "Field 'FOR' is deprecated in favor of category_for. Please refer to https://docs.dimensions.ai/dsl/releasenotes.html for more details",
        "Field 'HRCS_RAC' is deprecated in favor of category_hrcs_rac. Please refer to https://docs.dimensions.ai/dsl/releasenotes.html for more details",
        "Field 'FOR_first' is deprecated in favor of category_for. Please refer to https://docs.dimensions.ai/dsl/releasenotes.html for more details",
        "Field 'HRCS_HC' is deprecated in favor of category_hrcs_hc. Please refer to https://docs.dimensions.ai/dsl/releasenotes.html for more details",
        "Field 'open_access' is deprecated in favor of open_access_categories. Please refer to https://docs.dimensions.ai/dsl/releasenotes.html for more details"
       ],
       "publications": [
        {
         "date": "2019-12-31",
         "date_inserted": "2019-04-06",
         "doi": "10.14315/9783641247560",
         "id": "pub.1113244530",
         "open_access_categories": [
          {
           "description": "No freely available copy has been identified",
           "id": "closed",
           "name": "Closed"
          }
         ],
         "publisher": "Gutersloher Verlaghaus",
         "title": "Sure 16,1 - 23,118",
         "type": "book",
         "year": 2019
        }
       ]
      },
      "text/plain": [
       "<dimcli.Result object #4792674832. Dict keys: '_stats', '_warnings', 'publications'>"
      ]
     },
     "execution_count": 11,
     "metadata": {
      "application/json": {
       "expanded": false,
       "root": "root"
      }
     },
     "output_type": "execute_result"
    }
   ],
   "source": [
    "#A Basic Query - get all fields\n",
    "\n",
    "dslquery(\"\"\"\n",
    "     search publications \n",
    "     return publications[all]\n",
    "     limit 1\n",
    "\"\"\")"
   ]
  },
  {
   "cell_type": "markdown",
   "metadata": {
    "Collapsed": "false",
    "slideshow": {
     "slide_type": "slide"
    }
   },
   "source": [
    "## The Basics: you can search for full text in the full text or in abstracts"
   ]
  },
  {
   "cell_type": "code",
   "execution_count": 12,
   "metadata": {
    "Collapsed": "false",
    "scrolled": true,
    "slideshow": {
     "slide_type": "subslide"
    }
   },
   "outputs": [
    {
     "name": "stdout",
     "output_type": "stream",
     "text": [
      "Returned Publications: 1 (total = 760669)\n"
     ]
    },
    {
     "data": {
      "application/json": {
       "_stats": {
        "limit": 1,
        "offset": 0,
        "total_count": 760669
       },
       "publications": [
        {
         "author_affiliations": [
          [
           {
            "affiliations": [
             {
              "city": "Oviedo",
              "city_id": 3114711,
              "country": "Spain",
              "country_code": "ES",
              "id": "grid.10863.3c",
              "name": "University of Oviedo",
              "state": null,
              "state_code": null
             }
            ],
            "current_organization_id": "",
            "first_name": "Christian",
            "last_name": "Chimeno-Trinchet",
            "orcid": "",
            "researcher_id": ""
           },
           {
            "affiliations": [
             {
              "city": "Oviedo",
              "city_id": 3114711,
              "country": "Spain",
              "country_code": "ES",
              "id": "grid.10863.3c",
              "name": "University of Oviedo",
              "state": null,
              "state_code": null
             }
            ],
            "current_organization_id": "",
            "first_name": "Alfonso",
            "last_name": "Fernández-González",
            "orcid": "",
            "researcher_id": ""
           },
           {
            "affiliations": [
             {
              "city": "Oviedo",
              "city_id": 3114711,
              "country": "Spain",
              "country_code": "ES",
              "id": "grid.10863.3c",
              "name": "University of Oviedo",
              "state": null,
              "state_code": null
             }
            ],
            "current_organization_id": "",
            "first_name": "Josefa Ángela García",
            "last_name": "Calzón",
            "orcid": "",
            "researcher_id": ""
           },
           {
            "affiliations": [
             {
              "city": "Oviedo",
              "city_id": 3114711,
              "country": "Spain",
              "country_code": "ES",
              "id": "grid.10863.3c",
              "name": "University of Oviedo",
              "state": null,
              "state_code": null
             }
            ],
            "current_organization_id": "",
            "first_name": "Marta Elena",
            "last_name": "Díaz-García",
            "orcid": "",
            "researcher_id": ""
           },
           {
            "affiliations": [
             {
              "city": "Oviedo",
              "city_id": 3114711,
              "country": "Spain",
              "country_code": "ES",
              "id": "grid.10863.3c",
              "name": "University of Oviedo",
              "state": null,
              "state_code": null
             }
            ],
            "current_organization_id": "",
            "first_name": "Rosana Badía",
            "last_name": "Laíño",
            "orcid": "",
            "researcher_id": ""
           }
          ]
         ],
         "id": "pub.1117505850",
         "issue": "1",
         "journal": {
          "id": "jour.1048844",
          "title": "Science and Technology of Advanced Materials"
         },
         "pages": "657-672",
         "title": "Alkyl-capped copper oxide nanospheres and nanoprolates for sustainability: water treatment and improved lubricating performance",
         "type": "article",
         "volume": "20",
         "year": 2019
        }
       ]
      },
      "text/plain": [
       "<dimcli.Result object #4792711056. Dict keys: '_stats', 'publications'>"
      ]
     },
     "execution_count": 12,
     "metadata": {
      "application/json": {
       "expanded": false,
       "root": "root"
      }
     },
     "output_type": "execute_result"
    }
   ],
   "source": [
    "dslquery(\"\"\"\n",
    "     search publications for \"nanotechnology\"\n",
    "       \n",
    "     return publications\n",
    "     limit 1\n",
    "\"\"\")"
   ]
  },
  {
   "cell_type": "code",
   "execution_count": 13,
   "metadata": {
    "Collapsed": "false",
    "scrolled": true,
    "slideshow": {
     "slide_type": "subslide"
    }
   },
   "outputs": [
    {
     "name": "stdout",
     "output_type": "stream",
     "text": [
      "Returned Publications: 1 (total = 40595)\n"
     ]
    },
    {
     "data": {
      "application/json": {
       "_stats": {
        "limit": 1,
        "offset": 0,
        "total_count": 40595
       },
       "publications": [
        {
         "author_affiliations": [
          [
           {
            "affiliations": [
             {
              "city": "Tsukuba",
              "city_id": 2110683,
              "country": "Japan",
              "country_code": "JP",
              "id": "grid.21941.3f",
              "name": "National Institute for Materials Science",
              "state": null,
              "state_code": null
             }
            ],
            "current_organization_id": "grid.21941.3f",
            "first_name": "Katsuhiko",
            "last_name": "Ariga",
            "orcid": "['0000-0002-2445-2955']",
            "researcher_id": "ur.01167705640.31"
           },
           {
            "affiliations": [
             {
              "city": "Tsukuba",
              "city_id": 2110683,
              "country": "Japan",
              "country_code": "JP",
              "id": "grid.21941.3f",
              "name": "National Institute for Materials Science",
              "state": null,
              "state_code": null
             }
            ],
            "current_organization_id": "grid.21941.3f",
            "first_name": "Michihiro",
            "last_name": "Nishikawa",
            "orcid": "",
            "researcher_id": "ur.016537563446.05"
           },
           {
            "affiliations": [
             {
              "city": "Tsukuba",
              "city_id": 2110683,
              "country": "Japan",
              "country_code": "JP",
              "id": "grid.21941.3f",
              "name": "National Institute for Materials Science",
              "state": null,
              "state_code": null
             }
            ],
            "current_organization_id": "grid.21941.3f",
            "first_name": "Taizo",
            "last_name": "Mori",
            "orcid": "",
            "researcher_id": "ur.01276370277.16"
           },
           {
            "affiliations": [
             {
              "city": "Tokyo",
              "city_id": 1850147,
              "country": "Japan",
              "country_code": "JP",
              "id": "grid.26999.3d",
              "name": "University of Tokyo",
              "state": null,
              "state_code": null
             }
            ],
            "current_organization_id": "grid.26999.3d",
            "first_name": "Jun",
            "last_name": "Takeya",
            "orcid": "",
            "researcher_id": "ur.01361056216.65"
           },
           {
            "affiliations": [
             {
              "city": "Tsukuba",
              "city_id": 2110683,
              "country": "Japan",
              "country_code": "JP",
              "id": "grid.21941.3f",
              "name": "National Institute for Materials Science",
              "state": null,
              "state_code": null
             }
            ],
            "current_organization_id": "grid.21941.3f",
            "first_name": "Lok Kumar",
            "last_name": "Shrestha",
            "orcid": "['0000-0003-2680-6291']",
            "researcher_id": "ur.01170654666.42"
           },
           {
            "affiliations": [
             {
              "city": "Tsukuba",
              "city_id": 2110683,
              "country": "Japan",
              "country_code": "JP",
              "id": "grid.21941.3f",
              "name": "National Institute for Materials Science",
              "state": null,
              "state_code": null
             }
            ],
            "current_organization_id": "grid.21941.3f",
            "first_name": "Jonathan P.",
            "last_name": "Hill",
            "orcid": "['0000-0002-4229-5842']",
            "researcher_id": "ur.01142107721.94"
           }
          ]
         ],
         "id": "pub.1110633851",
         "issue": "1",
         "journal": {
          "id": "jour.1048844",
          "title": "Science and Technology of Advanced Materials"
         },
         "pages": "51-95",
         "title": "Self-assembly as a key player for materials nanoarchitectonics",
         "type": "article",
         "volume": "20",
         "year": 2019
        }
       ]
      },
      "text/plain": [
       "<dimcli.Result object #4792741584. Dict keys: '_stats', 'publications'>"
      ]
     },
     "execution_count": 13,
     "metadata": {
      "application/json": {
       "expanded": false,
       "root": "root"
      }
     },
     "output_type": "execute_result"
    }
   ],
   "source": [
    "dslquery(\"\"\"\n",
    "     search publications in title_abstract_only for \"nanotechnology\" \n",
    "     return publications\n",
    "     limit 1\n",
    "\"\"\")"
   ]
  },
  {
   "cell_type": "markdown",
   "metadata": {
    "Collapsed": "false",
    "slideshow": {
     "slide_type": "slide"
    }
   },
   "source": [
    "## The Basics - a simple author search\n"
   ]
  },
  {
   "cell_type": "code",
   "execution_count": 14,
   "metadata": {
    "Collapsed": "false",
    "scrolled": true,
    "slideshow": {
     "slide_type": "subslide"
    }
   },
   "outputs": [
    {
     "name": "stdout",
     "output_type": "stream",
     "text": [
      "Returned Publications: 10 (total = 49)\n"
     ]
    },
    {
     "data": {
      "application/json": {
       "_stats": {
        "limit": 10,
        "offset": 0,
        "total_count": 49
       },
       "publications": [
        {
         "author_affiliations": [
          [
           {
            "affiliations": [
             {
              "city": "Oxford",
              "city_id": 2640729,
              "country": "United Kingdom",
              "country_code": "GB",
              "id": "grid.4991.5",
              "name": "University of Oxford",
              "state": null,
              "state_code": null
             }
            ],
            "current_organization_id": "",
            "first_name": "David",
            "last_name": "Zeitlyn",
            "orcid": "",
            "researcher_id": ""
           },
           {
            "affiliations": [
             {
              "city": "London",
              "city_id": 2643743,
              "country": "United Kingdom",
              "country_code": "GB",
              "id": "grid.452594.b",
              "name": "Digital Science (United Kingdom)",
              "state": null,
              "state_code": null
             },
             {
              "city": "London",
              "city_id": 2643743,
              "country": "United Kingdom",
              "country_code": "GB",
              "id": "grid.7445.2",
              "name": "Imperial College London",
              "state": null,
              "state_code": null
             },
             {
              "city": "St Louis",
              "city_id": 4407066,
              "country": "United States",
              "country_code": "US",
              "id": "grid.4367.6",
              "name": "Washington University in St. Louis",
              "state": "Missouri",
              "state_code": "US-MO"
             }
            ],
            "current_organization_id": "",
            "first_name": "Daniel W.",
            "last_name": "Hook",
            "orcid": "",
            "researcher_id": ""
           }
          ]
         ],
         "id": "pub.1115957159",
         "issue": "5",
         "journal": {
          "id": "jour.1037553",
          "title": "PLoS ONE"
         },
         "pages": "e0216783",
         "title": "Perception, prestige and PageRank",
         "type": "article",
         "volume": "14",
         "year": 2019
        },
        {
         "author_affiliations": [
          [
           {
            "affiliations": [
             {
              "name": "Washington University in St. LouisUSA"
             }
            ],
            "current_organization_id": "grid.4367.6",
            "first_name": "Carl M",
            "last_name": "Bender",
            "orcid": "['0000-0002-3840-1155']",
            "researcher_id": "ur.01310552610.52"
           },
           {
            "affiliations": [],
            "current_organization_id": "grid.8250.f",
            "first_name": "Patrick E",
            "last_name": "Dorey",
            "orcid": "",
            "researcher_id": "ur.013031721717.97"
           },
           {
            "affiliations": [],
            "current_organization_id": "",
            "first_name": "Clare",
            "last_name": "Dunning",
            "orcid": "",
            "researcher_id": "ur.016256640576.27"
           },
           {
            "affiliations": [],
            "current_organization_id": "",
            "first_name": "Andreas",
            "last_name": "Fring",
            "orcid": "",
            "researcher_id": ""
           },
           {
            "affiliations": [],
            "current_organization_id": "",
            "first_name": "Daniel W",
            "last_name": "Hook",
            "orcid": "",
            "researcher_id": ""
           },
           {
            "affiliations": [],
            "current_organization_id": "",
            "first_name": "Hugh F",
            "last_name": "Jones",
            "orcid": "",
            "researcher_id": ""
           },
           {
            "affiliations": [],
            "current_organization_id": "",
            "first_name": "Sergii",
            "last_name": "Kuzhel",
            "orcid": "",
            "researcher_id": ""
           },
           {
            "affiliations": [],
            "current_organization_id": "",
            "first_name": "Géza",
            "last_name": "Lévai",
            "orcid": "",
            "researcher_id": ""
           },
           {
            "affiliations": [],
            "current_organization_id": "grid.7605.4",
            "first_name": "Roberto",
            "last_name": "Tateo",
            "orcid": "['0000-0002-9549-5450']",
            "researcher_id": "ur.011444520764.30"
           }
          ]
         ],
         "id": "pub.1108567148",
         "title": "PT Symmetry",
         "type": "monograph",
         "year": 2019
        },
        {
         "author_affiliations": [
          [
           {
            "affiliations": [
             {
              "city": "Edinburgh",
              "city_id": 2650225,
              "country": "United Kingdom",
              "country_code": "GB",
              "id": "grid.20409.3f",
              "name": "Edinburgh Napier University",
              "state": null,
              "state_code": null
             }
            ],
            "current_organization_id": "",
            "first_name": "Daniel",
            "last_name": "Hook",
            "orcid": "",
            "researcher_id": ""
           },
           {
            "affiliations": [
             {
              "city": "Edinburgh",
              "city_id": 2650225,
              "country": "United Kingdom",
              "country_code": "GB",
              "id": "grid.20409.3f",
              "name": "Edinburgh Napier University",
              "state": null,
              "state_code": null
             }
            ],
            "current_organization_id": "",
            "first_name": "William",
            "last_name": "Laing",
            "orcid": "",
            "researcher_id": ""
           },
           {
            "affiliations": [
             {
              "city": "Edinburgh",
              "city_id": 2650225,
              "country": "United Kingdom",
              "country_code": "GB",
              "id": "grid.20409.3f",
              "name": "Edinburgh Napier University",
              "state": null,
              "state_code": null
             }
            ],
            "current_organization_id": "grid.20409.3f",
            "first_name": "Abdelfateh",
            "last_name": "Kerrouche",
            "orcid": "",
            "researcher_id": "ur.016555103257.15"
           },
           {
            "affiliations": [
             {
              "city": "Edinburgh",
              "city_id": 2650225,
              "country": "United Kingdom",
              "country_code": "GB",
              "id": "grid.20409.3f",
              "name": "Edinburgh Napier University",
              "state": null,
              "state_code": null
             }
            ],
            "current_organization_id": "grid.20409.3f",
            "first_name": "Daniel",
            "last_name": "Barreto",
            "orcid": "['0000-0003-4790-3250']",
            "researcher_id": "ur.012576057725.50"
           },
           {
            "affiliations": [
             {
              "city": "Edinburgh",
              "city_id": 2650225,
              "country": "United Kingdom",
              "country_code": "GB",
              "id": "grid.20409.3f",
              "name": "Edinburgh Napier University",
              "state": null,
              "state_code": null
             }
            ],
            "current_organization_id": "grid.20409.3f",
            "first_name": "Lourdes S. M.",
            "last_name": "Alwis",
            "orcid": "",
            "researcher_id": "ur.010240513126.15"
           }
          ]
         ],
         "id": "pub.1111011264",
         "journal": {
          "id": "jour.1047781",
          "title": "2010 IEEE Sensors"
         },
         "pages": "1-4",
         "title": "Optical Fiber Sensor Design for Ground Slope Movement Monitoring for Railway Safety Operations",
         "type": "proceeding",
         "year": 2018
        },
        {
         "author_affiliations": [
          [
           {
            "affiliations": [
             {
              "city": "London",
              "city_id": 2643743,
              "country": "United Kingdom",
              "country_code": "GB",
              "id": "grid.452594.b",
              "name": "Digital Science (United Kingdom)",
              "state": null,
              "state_code": null
             },
             {
              "city": "London",
              "city_id": 2643743,
              "country": "United Kingdom",
              "country_code": "GB",
              "id": "grid.7445.2",
              "name": "Imperial College London",
              "state": null,
              "state_code": null
             },
             {
              "city": "St Louis",
              "city_id": 4407066,
              "country": "United States",
              "country_code": "US",
              "id": "grid.4367.6",
              "name": "Washington University in St. Louis",
              "state": "Missouri",
              "state_code": "US-MO"
             }
            ],
            "current_organization_id": "grid.7445.2",
            "first_name": "Daniel W.",
            "last_name": "Hook",
            "orcid": "['0000-0001-9746-1193']",
            "researcher_id": "ur.01123321343.51"
           },
           {
            "affiliations": [
             {
              "city": "London",
              "city_id": 2643743,
              "country": "United Kingdom",
              "country_code": "GB",
              "id": "grid.452594.b",
              "name": "Digital Science (United Kingdom)",
              "state": null,
              "state_code": null
             }
            ],
            "current_organization_id": "grid.452594.b",
            "first_name": "Simon J.",
            "last_name": "Porter",
            "orcid": "['0000-0002-6151-8423']",
            "researcher_id": "ur.012016042104.74"
           },
           {
            "affiliations": [
             {
              "city": "London",
              "city_id": 2643743,
              "country": "United Kingdom",
              "country_code": "GB",
              "id": "grid.452594.b",
              "name": "Digital Science (United Kingdom)",
              "state": null,
              "state_code": null
             }
            ],
            "current_organization_id": "grid.452594.b",
            "first_name": "Christian",
            "last_name": "Herzog",
            "orcid": "['0000-0002-9983-0033']",
            "researcher_id": "ur.014544122464.10"
           }
          ]
         ],
         "id": "pub.1106289502",
         "journal": {
          "id": "jour.1292498",
          "title": "Frontiers in Research Metrics and Analytics"
         },
         "pages": "23",
         "title": "Dimensions: Building Context for Search and Evaluation",
         "type": "article",
         "volume": "3",
         "year": 2018
        },
        {
         "author_affiliations": [
          [
           {
            "affiliations": [],
            "current_organization_id": "grid.433688.2",
            "first_name": "Daniel",
            "last_name": "Hook",
            "orcid": "",
            "researcher_id": "ur.07403446145.09"
           },
           {
            "affiliations": [],
            "current_organization_id": "grid.433688.2",
            "first_name": "Katarzyna",
            "last_name": "Wygladacz",
            "orcid": "",
            "researcher_id": "ur.0756356645.19"
           },
           {
            "affiliations": [],
            "current_organization_id": "",
            "first_name": "Marjorie",
            "last_name": "Rah",
            "orcid": "",
            "researcher_id": ""
           }
          ]
         ],
         "id": "pub.1105321123",
         "journal": {
          "id": "jour.1091476",
          "title": "Contact Lens and Anterior Eye"
         },
         "pages": "s45",
         "title": "Assessment of the interaction between a natural wetting agent and silicone hydrogel contact lenses containing PVP using novel imaging techniques",
         "type": "article",
         "volume": "41",
         "year": 2018
        },
        {
         "author_affiliations": [
          [
           {
            "affiliations": [
             {
              "name": "Vision Care, Bausch & Lomb Incorporated, Rochester, New York"
             }
            ],
            "current_organization_id": "",
            "first_name": "Andrew J.",
            "last_name": "Hoteling",
            "orcid": "",
            "researcher_id": "ur.01045401304.40"
           },
           {
            "affiliations": [
             {
              "name": "Vision Care, Bausch & Lomb Incorporated, Rochester, New York"
             }
            ],
            "current_organization_id": "",
            "first_name": "William F.",
            "last_name": "Nichols",
            "orcid": "",
            "researcher_id": ""
           },
           {
            "affiliations": [
             {
              "name": "Vision Care, Bausch & Lomb Incorporated, Rochester, New York"
             }
            ],
            "current_organization_id": "",
            "first_name": "Patricia S.",
            "last_name": "Harmon",
            "orcid": "",
            "researcher_id": ""
           },
           {
            "affiliations": [
             {
              "name": "Vision Care, Bausch & Lomb Incorporated, Rochester, New York"
             }
            ],
            "current_organization_id": "",
            "first_name": "Shawn M.",
            "last_name": "Conlon",
            "orcid": "",
            "researcher_id": ""
           },
           {
            "affiliations": [
             {
              "name": "Vision Care, Bausch & Lomb Incorporated, Rochester, New York"
             }
            ],
            "current_organization_id": "",
            "first_name": "Ivan M.",
            "last_name": "Nuñez",
            "orcid": "",
            "researcher_id": ""
           },
           {
            "affiliations": [
             {
              "name": "Vision Care, Bausch & Lomb Incorporated, Rochester, New York"
             }
            ],
            "current_organization_id": "",
            "first_name": "Joseph W.",
            "last_name": "Hoff",
            "orcid": "",
            "researcher_id": ""
           },
           {
            "affiliations": [
             {
              "name": "Vision Care, Bausch & Lomb Incorporated, Rochester, New York"
             }
            ],
            "current_organization_id": "grid.29857.31",
            "first_name": "Orlando M.",
            "last_name": "Cabarcos",
            "orcid": "",
            "researcher_id": "ur.01112406573.51"
           },
           {
            "affiliations": [
             {
              "name": "Vision Care, Bausch & Lomb Incorporated, Rochester, New York"
             }
            ],
            "current_organization_id": "",
            "first_name": "Robert B.",
            "last_name": "Steffen",
            "orcid": "",
            "researcher_id": ""
           },
           {
            "affiliations": [
             {
              "name": "Vision Care, Bausch & Lomb Incorporated, Rochester, New York"
             }
            ],
            "current_organization_id": "grid.433688.2",
            "first_name": "Daniel J.",
            "last_name": "Hook",
            "orcid": "",
            "researcher_id": "ur.07403446145.09"
           }
          ]
         ],
         "id": "pub.1085413261",
         "issue": "3",
         "journal": {
          "id": "jour.1312091",
          "title": "Journal of Biomedical Materials Research Part B Applied Biomaterials"
         },
         "pages": "1064-1072",
         "title": "Characterization and quantitation of PVP content in a silicone hydrogel contact lens produced by dual‐phase polymerization processing",
         "type": "article",
         "volume": "106",
         "year": 2018
        },
        {
         "author_affiliations": [
          [
           {
            "affiliations": [
             {
              "city": "St Louis",
              "city_id": 4407066,
              "country": "United States",
              "country_code": "US",
              "id": "grid.4367.6",
              "name": "Washington University in St. Louis",
              "state": "Missouri",
              "state_code": "US-MO"
             }
            ],
            "current_organization_id": "grid.4367.6",
            "first_name": "Carl M.",
            "last_name": "Bender",
            "orcid": "['0000-0002-3840-1155']",
            "researcher_id": "ur.01310552610.52"
           },
           {
            "affiliations": [
             {
              "city": "St Louis",
              "city_id": 4407066,
              "country": "United States",
              "country_code": "US",
              "id": "grid.4367.6",
              "name": "Washington University in St. Louis",
              "state": "Missouri",
              "state_code": "US-MO"
             }
            ],
            "current_organization_id": "grid.4367.6",
            "first_name": "Nima",
            "last_name": "Hassanpour",
            "orcid": "",
            "researcher_id": "ur.016700034171.07"
           },
           {
            "affiliations": [
             {
              "city": "St Louis",
              "city_id": 4407066,
              "country": "United States",
              "country_code": "US",
              "id": "grid.4367.6",
              "name": "Washington University in St. Louis",
              "state": "Missouri",
              "state_code": "US-MO"
             },
             {
              "city": "London",
              "city_id": 2643743,
              "country": "United Kingdom",
              "country_code": "GB",
              "id": "grid.7445.2",
              "name": "Imperial College London",
              "state": null,
              "state_code": null
             }
            ],
            "current_organization_id": "grid.7445.2",
            "first_name": "Daniel W.",
            "last_name": "Hook",
            "orcid": "['0000-0001-9746-1193']",
            "researcher_id": "ur.01123321343.51"
           },
           {
            "affiliations": [
             {
              "city": "Heidelberg",
              "city_id": 2907911,
              "country": "Germany",
              "country_code": "DE",
              "id": "grid.7700.0",
              "name": "Heidelberg University",
              "state": null,
              "state_code": null
             }
            ],
            "current_organization_id": "grid.7700.0",
            "first_name": "S. P.",
            "last_name": "Klevansky",
            "orcid": "",
            "researcher_id": "ur.011205262121.46"
           },
           {
            "affiliations": [
             {
              "city": "St Louis",
              "city_id": 4407066,
              "country": "United States",
              "country_code": "US",
              "id": "grid.4367.6",
              "name": "Washington University in St. Louis",
              "state": "Missouri",
              "state_code": "US-MO"
             },
             {
              "city": "Heidelberg",
              "city_id": 2907911,
              "country": "Germany",
              "country_code": "DE",
              "id": "grid.7700.0",
              "name": "Heidelberg University",
              "state": null,
              "state_code": null
             }
            ],
            "current_organization_id": "",
            "first_name": "Christoph",
            "last_name": "Sünderhauf",
            "orcid": "",
            "researcher_id": ""
           },
           {
            "affiliations": [
             {
              "city": "St Louis",
              "city_id": 4407066,
              "country": "United States",
              "country_code": "US",
              "id": "grid.4367.6",
              "name": "Washington University in St. Louis",
              "state": "Missouri",
              "state_code": "US-MO"
             },
             {
              "city": "Beijing",
              "city_id": 1816670,
              "country": "China",
              "country_code": "CN",
              "id": "grid.410726.6",
              "name": "University of Chinese Academy of Sciences",
              "state": null,
              "state_code": null
             },
             {
              "city": "Beijing",
              "city_id": 1816670,
              "country": "China",
              "country_code": "CN",
              "id": "grid.458463.8",
              "name": "Academy of Mathematics and Systems Science",
              "state": null,
              "state_code": null
             }
            ],
            "current_organization_id": "",
            "first_name": "Zichao",
            "last_name": "Wen",
            "orcid": "",
            "researcher_id": ""
           }
          ]
         ],
         "id": "pub.1085511076",
         "issue": "5",
         "journal": {
          "id": "jour.1053349",
          "title": "Physical Review A"
         },
         "pages": "052113",
         "title": "Behavior of eigenvalues in a region of broken PT symmetry",
         "type": "article",
         "volume": "95",
         "year": 2017
        },
        {
         "author_affiliations": [
          [
           {
            "affiliations": [
             {
              "city": "St Louis",
              "city_id": 4407066,
              "country": "United States",
              "country_code": "US",
              "id": "grid.4367.6",
              "name": "Washington University in St. Louis",
              "state": "Missouri",
              "state_code": "US-MO"
             },
             {
              "city": "London",
              "city_id": 2643743,
              "country": "United Kingdom",
              "country_code": "GB",
              "id": "grid.13097.3c",
              "name": "King's College London",
              "state": null,
              "state_code": null
             }
            ],
            "current_organization_id": "grid.4367.6",
            "first_name": "Carl M",
            "last_name": "Bender",
            "orcid": "['0000-0002-3840-1155']",
            "researcher_id": "ur.01310552610.52"
           },
           {
            "affiliations": [],
            "current_organization_id": "grid.7445.2",
            "first_name": "Daniel W",
            "last_name": "Hook",
            "orcid": "['0000-0001-9746-1193']",
            "researcher_id": "ur.01123321343.51"
           },
           {
            "affiliations": [
             {
              "city": "London",
              "city_id": 2643743,
              "country": "United Kingdom",
              "country_code": "GB",
              "id": "grid.13097.3c",
              "name": "King's College London",
              "state": null,
              "state_code": null
             },
             {
              "city": "Geneva",
              "city_id": 2660646,
              "country": "Switzerland",
              "country_code": "CH",
              "id": "grid.9132.9",
              "name": "European Organization for Nuclear Research",
              "state": null,
              "state_code": null
             }
            ],
            "current_organization_id": "grid.13097.3c",
            "first_name": "Nick E",
            "last_name": "Mavromatos",
            "orcid": "",
            "researcher_id": "ur.013370754534.78"
           },
           {
            "affiliations": [
             {
              "city": "London",
              "city_id": 2643743,
              "country": "United Kingdom",
              "country_code": "GB",
              "id": "grid.13097.3c",
              "name": "King's College London",
              "state": null,
              "state_code": null
             }
            ],
            "current_organization_id": "grid.13097.3c",
            "first_name": "Sarben",
            "last_name": "Sarkar",
            "orcid": "['0000-0003-1369-7794']",
            "researcher_id": "ur.014114026641.24"
           }
          ]
         ],
         "id": "pub.1059174631",
         "issue": "45",
         "journal": {
          "id": "jour.1084797",
          "title": "Journal of Physics A: Mathematical and Theoretical"
         },
         "pages": "45lt01",
         "title": "-symmetric interpretation of unstable effective potentials",
         "type": "article",
         "volume": "49",
         "year": 2016
        },
        {
         "author_affiliations": [
          [
           {
            "affiliations": [
             {
              "city": "Bridgewater",
              "city_id": 8299576,
              "country": "United States",
              "country_code": "US",
              "id": "grid.433688.2",
              "name": "Bausch Health (United States)",
              "state": "New Jersey",
              "state_code": "US-NJ"
             }
            ],
            "current_organization_id": "grid.433688.2",
            "first_name": "Katarzyna A",
            "last_name": "Wygladacz",
            "orcid": "",
            "researcher_id": "ur.0756356645.19"
           },
           {
            "affiliations": [
             {
              "city": "Bridgewater",
              "city_id": 8299576,
              "country": "United States",
              "country_code": "US",
              "id": "grid.433688.2",
              "name": "Bausch Health (United States)",
              "state": "New Jersey",
              "state_code": "US-NJ"
             }
            ],
            "current_organization_id": "grid.433688.2",
            "first_name": "Daniel J",
            "last_name": "Hook",
            "orcid": "",
            "researcher_id": "ur.07403446145.09"
           }
          ]
         ],
         "id": "pub.1044133006",
         "journal": {
          "id": "jour.1313374",
          "title": "Clinical Ophthalmology"
         },
         "pages": "1423-1433",
         "title": "Visualization of a hyaluronan network on the surface of silicone-hydrogel materials",
         "type": "article",
         "volume": "Volume 10",
         "year": 2016
        },
        {
         "author_affiliations": [
          [
           {
            "affiliations": [
             {
              "city": "Buffalo",
              "city_id": 5110629,
              "country": "United States",
              "country_code": "US",
              "id": "grid.273335.3",
              "name": "University at Buffalo, State University of New York",
              "state": "New York",
              "state_code": "US-NY"
             }
            ],
            "current_organization_id": "",
            "first_name": "Dustin T",
            "last_name": "McCall",
            "orcid": "",
            "researcher_id": ""
           },
           {
            "affiliations": [
             {
              "city": "Buffalo",
              "city_id": 5110629,
              "country": "United States",
              "country_code": "US",
              "id": "grid.273335.3",
              "name": "University at Buffalo, State University of New York",
              "state": "New York",
              "state_code": "US-NY"
             }
            ],
            "current_organization_id": "grid.273335.3",
            "first_name": "Yi",
            "last_name": "Zhang",
            "orcid": "",
            "researcher_id": "ur.01005654245.53"
           },
           {
            "affiliations": [
             {
              "name": "Bausch + Lomb Incorporated, 1400 Goodman St. N., Rochester, New York 14609, United States."
             }
            ],
            "current_organization_id": "grid.433688.2",
            "first_name": "Daniel J",
            "last_name": "Hook",
            "orcid": "",
            "researcher_id": "ur.07403446145.09"
           },
           {
            "affiliations": [
             {
              "city": "Buffalo",
              "city_id": 5110629,
              "country": "United States",
              "country_code": "US",
              "id": "grid.273335.3",
              "name": "University at Buffalo, State University of New York",
              "state": "New York",
              "state_code": "US-NY"
             }
            ],
            "current_organization_id": "grid.273335.3",
            "first_name": "Frank V",
            "last_name": "Bright",
            "orcid": "['0000-0002-1500-5969']",
            "researcher_id": "ur.0702116275.98"
           }
          ]
         ],
         "id": "pub.1055116418",
         "issue": "41",
         "journal": {
          "id": "jour.1126508",
          "title": "Langmuir"
         },
         "pages": "11370-7",
         "title": "Optimizing Pin-Printed and Hydrosilylated Microarray Spot Density on Porous Silicon Platforms.",
         "type": "article",
         "volume": "31",
         "year": 2015
        }
       ]
      },
      "text/plain": [
       "<dimcli.Result object #4792820432. Dict keys: '_stats', 'publications'>"
      ]
     },
     "execution_count": 14,
     "metadata": {
      "application/json": {
       "expanded": false,
       "root": "root"
      }
     },
     "output_type": "execute_result"
    }
   ],
   "source": [
    "\n",
    "dslquery(\"\"\"\n",
    "     search publications in authors for \"\\\\\"Daniel Hook\\\\\"\"\n",
    "     return publications\n",
    "     limit 10\n",
    "\"\"\")"
   ]
  },
  {
   "cell_type": "markdown",
   "metadata": {
    "Collapsed": "false",
    "slideshow": {
     "slide_type": "slide"
    }
   },
   "source": [
    "## ..or search for a researcher by a specific id"
   ]
  },
  {
   "cell_type": "code",
   "execution_count": 15,
   "metadata": {
    "Collapsed": "false",
    "scrolled": true,
    "slideshow": {
     "slide_type": "subslide"
    }
   },
   "outputs": [
    {
     "name": "stdout",
     "output_type": "stream",
     "text": [
      "Returned Publications: 1 (total = 6)\n"
     ]
    },
    {
     "data": {
      "application/json": {
       "_stats": {
        "limit": 1,
        "offset": 0,
        "total_count": 6
       },
       "publications": [
        {
         "doi": "10.3390/v10050250",
         "researchers": [
          {
           "first_name": "Nagma",
           "id": "ur.013514345521.07",
           "last_name": "Parveen",
           "research_orgs": [
            "grid.5949.1",
            "grid.5596.f",
            "grid.5371.0"
           ]
          },
          {
           "first_name": "Doortje",
           "id": "ur.01045210614.25",
           "last_name": "Borrenberghs",
           "research_orgs": [
            "grid.5596.f"
           ]
          },
          {
           "first_name": "Susana Ferreira",
           "id": "ur.01123422665.94",
           "last_name": "Rocha",
           "orcid_id": [
            "0000-0003-1258-9396"
           ],
           "research_orgs": [
            "grid.5949.1",
            "grid.5596.f",
            "grid.461801.a",
            "grid.9983.b",
            "grid.467824.b"
           ]
          },
          {
           "first_name": "Jelle",
           "id": "ur.01361166556.89",
           "last_name": "Hendrix",
           "orcid_id": [
            "0000-0001-5731-1297"
           ],
           "research_orgs": [
            "grid.12155.32",
            "grid.5596.f",
            "grid.5252.0"
           ]
          }
         ]
        }
       ]
      },
      "text/plain": [
       "<dimcli.Result object #4792748176. Dict keys: '_stats', 'publications'>"
      ]
     },
     "execution_count": 15,
     "metadata": {
      "application/json": {
       "expanded": false,
       "root": "root"
      }
     },
     "output_type": "execute_result"
    }
   ],
   "source": [
    "#A Basic Query - or request just thoses that you want...\n",
    "\n",
    "dslquery(\"\"\"\n",
    "     search publications \n",
    "     where researchers.id = \"ur.013514345521.07\"\n",
    "       \n",
    "     return publications[doi+researchers]\n",
    "     limit 1\n",
    "\"\"\")"
   ]
  },
  {
   "cell_type": "markdown",
   "metadata": {
    "Collapsed": "false",
    "slideshow": {
     "slide_type": "slide"
    }
   },
   "source": [
    "## You can also query by facets"
   ]
  },
  {
   "cell_type": "code",
   "execution_count": 16,
   "metadata": {
    "Collapsed": "false",
    "scrolled": true,
    "slideshow": {
     "slide_type": "subslide"
    }
   },
   "outputs": [
    {
     "name": "stdout",
     "output_type": "stream",
     "text": [
      "Returned For_first: 20\n"
     ]
    },
    {
     "data": {
      "application/json": {
       "FOR_first": [
        {
         "count": 15788376,
         "id": "2211",
         "name": "11 Medical and Health Sciences"
        },
        {
         "count": 6243585,
         "id": "2206",
         "name": "06 Biological Sciences"
        },
        {
         "count": 6057260,
         "id": "2209",
         "name": "09 Engineering"
        },
        {
         "count": 4566977,
         "id": "2203",
         "name": "03 Chemical Sciences"
        },
        {
         "count": 3710907,
         "id": "2208",
         "name": "08 Information and Computing Sciences"
        },
        {
         "count": 2377230,
         "id": "2202",
         "name": "02 Physical Sciences"
        },
        {
         "count": 2129745,
         "id": "2201",
         "name": "01 Mathematical Sciences"
        },
        {
         "count": 2071444,
         "id": "2217",
         "name": "17 Psychology and Cognitive Sciences"
        },
        {
         "count": 1282934,
         "id": "2216",
         "name": "16 Studies in Human Society"
        },
        {
         "count": 1099712,
         "id": "2204",
         "name": "04 Earth Sciences"
        },
        {
         "count": 963072,
         "id": "2210",
         "name": "10 Technology"
        },
        {
         "count": 937582,
         "id": "2214",
         "name": "14 Economics"
        },
        {
         "count": 782179,
         "id": "2205",
         "name": "05 Environmental Sciences"
        },
        {
         "count": 754179,
         "id": "2221",
         "name": "21 History and Archaeology"
        },
        {
         "count": 662749,
         "id": "2220",
         "name": "20 Language, Communication and Culture"
        },
        {
         "count": 618285,
         "id": "2213",
         "name": "13 Education"
        },
        {
         "count": 604447,
         "id": "2215",
         "name": "15 Commerce, Management, Tourism and Services"
        },
        {
         "count": 367381,
         "id": "2207",
         "name": "07 Agricultural and Veterinary Sciences"
        },
        {
         "count": 314578,
         "id": "2218",
         "name": "18 Law and Legal Studies"
        },
        {
         "count": 291541,
         "id": "2222",
         "name": "22 Philosophy and Religious Studies"
        }
       ],
       "_stats": {
        "total_count": 103377517
       }
      },
      "text/plain": [
       "<dimcli.Result object #4792822928. Dict keys: '_stats', 'FOR_first'>"
      ]
     },
     "execution_count": 16,
     "metadata": {
      "application/json": {
       "expanded": false,
       "root": "root"
      }
     },
     "output_type": "execute_result"
    }
   ],
   "source": [
    "dslquery(\"\"\"\n",
    "     search publications \n",
    "     return FOR_first \n",
    "\"\"\")"
   ]
  },
  {
   "cell_type": "markdown",
   "metadata": {
    "Collapsed": "false",
    "slideshow": {
     "slide_type": "slide"
    }
   },
   "source": [
    "## You can return up to 1000 facet rows"
   ]
  },
  {
   "cell_type": "code",
   "execution_count": 17,
   "metadata": {
    "Collapsed": "false",
    "scrolled": true,
    "slideshow": {
     "slide_type": "subslide"
    }
   },
   "outputs": [
    {
     "name": "stdout",
     "output_type": "stream",
     "text": [
      "Returned Year: 59\n"
     ]
    },
    {
     "data": {
      "application/json": {
       "_stats": {
        "total_count": 760669
       },
       "year": [
        {
         "count": 79355,
         "id": 2018
        },
        {
         "count": 72772,
         "id": 2017
        },
        {
         "count": 70225,
         "id": 2016
        },
        {
         "count": 66470,
         "id": 2015
        },
        {
         "count": 65276,
         "id": 2019
        },
        {
         "count": 62070,
         "id": 2014
        },
        {
         "count": 57455,
         "id": 2013
        },
        {
         "count": 49140,
         "id": 2012
        },
        {
         "count": 46463,
         "id": 2011
        },
        {
         "count": 35965,
         "id": 2010
        },
        {
         "count": 32838,
         "id": 2009
        },
        {
         "count": 32251,
         "id": 2008
        },
        {
         "count": 21558,
         "id": 2007
        },
        {
         "count": 17523,
         "id": 2006
        },
        {
         "count": 12927,
         "id": 2005
        },
        {
         "count": 9338,
         "id": 2004
        },
        {
         "count": 6088,
         "id": 2003
        },
        {
         "count": 4480,
         "id": 2002
        },
        {
         "count": 2950,
         "id": 2001
        },
        {
         "count": 2185,
         "id": 2000
        },
        {
         "count": 1686,
         "id": 1999
        },
        {
         "count": 1530,
         "id": 1998
        },
        {
         "count": 1339,
         "id": 1996
        },
        {
         "count": 1190,
         "id": 1994
        },
        {
         "count": 1118,
         "id": 1997
        },
        {
         "count": 940,
         "id": 1993
        },
        {
         "count": 935,
         "id": 1995
        },
        {
         "count": 789,
         "id": 1992
        },
        {
         "count": 782,
         "id": 1991
        },
        {
         "count": 507,
         "id": 1988
        },
        {
         "count": 458,
         "id": 1990
        },
        {
         "count": 400,
         "id": 1989
        },
        {
         "count": 373,
         "id": 1985
        },
        {
         "count": 365,
         "id": 1987
        },
        {
         "count": 304,
         "id": 1986
        },
        {
         "count": 291,
         "id": 1983
        },
        {
         "count": 175,
         "id": 1984
        },
        {
         "count": 13,
         "id": 1969
        },
        {
         "count": 13,
         "id": 1970
        },
        {
         "count": 5,
         "id": 1973
        },
        {
         "count": 4,
         "id": 1971
        },
        {
         "count": 4,
         "id": 1980
        },
        {
         "count": 3,
         "id": 1966
        },
        {
         "count": 3,
         "id": 1972
        },
        {
         "count": 3,
         "id": 1975
        },
        {
         "count": 3,
         "id": 1978
        },
        {
         "count": 2,
         "id": 1899
        },
        {
         "count": 2,
         "id": 1955
        },
        {
         "count": 2,
         "id": 1957
        },
        {
         "count": 1,
         "id": 1870
        },
        {
         "count": 1,
         "id": 1949
        },
        {
         "count": 1,
         "id": 1958
        },
        {
         "count": 1,
         "id": 1960
        },
        {
         "count": 1,
         "id": 1962
        },
        {
         "count": 1,
         "id": 1974
        },
        {
         "count": 1,
         "id": 1976
        },
        {
         "count": 1,
         "id": 1977
        },
        {
         "count": 1,
         "id": 1979
        },
        {
         "count": 1,
         "id": 1982
        }
       ]
      },
      "text/plain": [
       "<dimcli.Result object #4792697936. Dict keys: '_stats', 'year'>"
      ]
     },
     "execution_count": 17,
     "metadata": {
      "application/json": {
       "expanded": false,
       "root": "root"
      }
     },
     "output_type": "execute_result"
    }
   ],
   "source": [
    "\n",
    "dslquery(\"\"\"\n",
    "     search publications for \"nanotechnology\"\n",
    "     return year limit 1000\n",
    "\"\"\")"
   ]
  },
  {
   "cell_type": "markdown",
   "metadata": {
    "Collapsed": "false",
    "slideshow": {
     "slide_type": "slide"
    }
   },
   "source": [
    "## Just make a mistake, and you will ge the complete list of available facets"
   ]
  },
  {
   "cell_type": "code",
   "execution_count": 18,
   "metadata": {
    "Collapsed": "false",
    "scrolled": true,
    "slideshow": {
     "slide_type": "subslide"
    }
   },
   "outputs": [
    {
     "name": "stdout",
     "output_type": "stream",
     "text": [
      "Returned Errors: 1\n"
     ]
    },
    {
     "data": {
      "application/json": {
       "errors": {
        "query": {
         "details": [
          "Semantic errors found:\n\tFacet 'years' is not present in source 'publications'. Available facets are: FOR,FOR_first,HRCS_HC,HRCS_RAC,RCDC,category_bra,category_for,category_hra,category_hrcs_hc,category_hrcs_rac,category_rcdc,funder_countries,funders,journal,mesh_terms,open_access_categories,publisher,research_org_cities,research_org_countries,research_org_state_codes,research_orgs,researchers,type,year"
         ],
         "header": "Semantic Error",
         "query": "\n     search publications \n     return years \n"
        }
       }
      },
      "text/plain": [
       "<dimcli.Result object #4791936528. Dict keys: 'errors'>"
      ]
     },
     "execution_count": 18,
     "metadata": {
      "application/json": {
       "expanded": false,
       "root": "root"
      }
     },
     "output_type": "execute_result"
    }
   ],
   "source": [
    "dslquery(\"\"\"\n",
    "     search publications \n",
    "     return years \n",
    "\"\"\")"
   ]
  },
  {
   "cell_type": "markdown",
   "metadata": {
    "Collapsed": "false",
    "slideshow": {
     "slide_type": "slide"
    }
   },
   "source": [
    "## Dimcli makes it easier to turn JSON results into Pandas Dataframes"
   ]
  },
  {
   "cell_type": "markdown",
   "metadata": {
    "Collapsed": "false"
   },
   "source": [
    "DimCli includes a few utilities that make it easier to transform Dimensions JSON data into Pandas [dataframe objects](https://pandas.pydata.org/pandas-docs/stable/getting_started/dsintro.html#dataframe). Dataframes are then easy to sort, analyse, export as CSV and use within visualisation softwares.\n",
    "\n",
    ">  [pandas](https://pandas.pydata.org/pandas-docs/stable/) is a popular software library written for the Python programming language for data manipulation and analysis."
   ]
  },
  {
   "cell_type": "code",
   "execution_count": 19,
   "metadata": {
    "Collapsed": "false",
    "scrolled": true
   },
   "outputs": [
    {
     "name": "stdout",
     "output_type": "stream",
     "text": [
      "Returned Publications: 100 (total = 760669)\n"
     ]
    }
   ],
   "source": [
    "res = dslquery(\"\"\"\n",
    "     search publications for \"nanotechnology\"\n",
    "     return publications[doi+title+altmetric] sort by altmetric\n",
    "     limit 100 \n",
    "\"\"\")"
   ]
  },
  {
   "cell_type": "code",
   "execution_count": 20,
   "metadata": {
    "Collapsed": "false"
   },
   "outputs": [
    {
     "data": {
      "text/html": [
       "<div>\n",
       "<style scoped>\n",
       "    .dataframe tbody tr th:only-of-type {\n",
       "        vertical-align: middle;\n",
       "    }\n",
       "\n",
       "    .dataframe tbody tr th {\n",
       "        vertical-align: top;\n",
       "    }\n",
       "\n",
       "    .dataframe thead th {\n",
       "        text-align: right;\n",
       "    }\n",
       "</style>\n",
       "<table border=\"1\" class=\"dataframe\">\n",
       "  <thead>\n",
       "    <tr style=\"text-align: right;\">\n",
       "      <th></th>\n",
       "      <th>altmetric</th>\n",
       "      <th>doi</th>\n",
       "      <th>title</th>\n",
       "    </tr>\n",
       "  </thead>\n",
       "  <tbody>\n",
       "    <tr>\n",
       "      <th>0</th>\n",
       "      <td>3728</td>\n",
       "      <td>10.1038/nature21377</td>\n",
       "      <td>Evidence for early life in Earth’s oldest hydr...</td>\n",
       "    </tr>\n",
       "    <tr>\n",
       "      <th>1</th>\n",
       "      <td>2330</td>\n",
       "      <td>10.1126/science.aae0061</td>\n",
       "      <td>Emergence of healing in the Antarctic ozone layer</td>\n",
       "    </tr>\n",
       "    <tr>\n",
       "      <th>2</th>\n",
       "      <td>2290</td>\n",
       "      <td>10.1038/ncomms15261</td>\n",
       "      <td>A bioprosthetic ovary created using 3D printed...</td>\n",
       "    </tr>\n",
       "    <tr>\n",
       "      <th>3</th>\n",
       "      <td>2135</td>\n",
       "      <td>10.1038/s41562-018-0520-3</td>\n",
       "      <td>Extreme opponents of genetically modified food...</td>\n",
       "    </tr>\n",
       "    <tr>\n",
       "      <th>4</th>\n",
       "      <td>2104</td>\n",
       "      <td>10.1016/j.pbiomolbio.2018.03.004</td>\n",
       "      <td>Cause of Cambrian Explosion - Terrestrial or c...</td>\n",
       "    </tr>\n",
       "    <tr>\n",
       "      <th>5</th>\n",
       "      <td>1966</td>\n",
       "      <td>10.1126/science.aal1579</td>\n",
       "      <td>Observation of the Wigner-Huntington transitio...</td>\n",
       "    </tr>\n",
       "    <tr>\n",
       "      <th>6</th>\n",
       "      <td>1831</td>\n",
       "      <td>10.1002/advs.201900344</td>\n",
       "      <td>3D Printing of Personalized Thick and Perfusab...</td>\n",
       "    </tr>\n",
       "    <tr>\n",
       "      <th>7</th>\n",
       "      <td>1564</td>\n",
       "      <td>10.1126/science.aam8743</td>\n",
       "      <td>Water harvesting from air with metal-organic f...</td>\n",
       "    </tr>\n",
       "    <tr>\n",
       "      <th>8</th>\n",
       "      <td>1540</td>\n",
       "      <td>10.1038/nature23282</td>\n",
       "      <td>Hypothalamic stem cells control ageing speed p...</td>\n",
       "    </tr>\n",
       "    <tr>\n",
       "      <th>9</th>\n",
       "      <td>1518</td>\n",
       "      <td>10.1038/s41550-019-0813-0</td>\n",
       "      <td>Enabling Martian habitability with silica aero...</td>\n",
       "    </tr>\n",
       "  </tbody>\n",
       "</table>\n",
       "</div>"
      ],
      "text/plain": [
       "   altmetric                               doi  \\\n",
       "0       3728               10.1038/nature21377   \n",
       "1       2330           10.1126/science.aae0061   \n",
       "2       2290               10.1038/ncomms15261   \n",
       "3       2135         10.1038/s41562-018-0520-3   \n",
       "4       2104  10.1016/j.pbiomolbio.2018.03.004   \n",
       "5       1966           10.1126/science.aal1579   \n",
       "6       1831            10.1002/advs.201900344   \n",
       "7       1564           10.1126/science.aam8743   \n",
       "8       1540               10.1038/nature23282   \n",
       "9       1518         10.1038/s41550-019-0813-0   \n",
       "\n",
       "                                               title  \n",
       "0  Evidence for early life in Earth’s oldest hydr...  \n",
       "1  Emergence of healing in the Antarctic ozone layer  \n",
       "2  A bioprosthetic ovary created using 3D printed...  \n",
       "3  Extreme opponents of genetically modified food...  \n",
       "4  Cause of Cambrian Explosion - Terrestrial or c...  \n",
       "5  Observation of the Wigner-Huntington transitio...  \n",
       "6  3D Printing of Personalized Thick and Perfusab...  \n",
       "7  Water harvesting from air with metal-organic f...  \n",
       "8  Hypothalamic stem cells control ageing speed p...  \n",
       "9  Enabling Martian habitability with silica aero...  "
      ]
     },
     "execution_count": 20,
     "metadata": {},
     "output_type": "execute_result"
    }
   ],
   "source": [
    "df = res.as_dataframe()\n",
    "df.head(10)"
   ]
  },
  {
   "cell_type": "code",
   "execution_count": 21,
   "metadata": {
    "Collapsed": "false"
   },
   "outputs": [],
   "source": [
    "# save the data to a CSV file\n",
    "df.to_csv(\"query_results.csv\", index=False)"
   ]
  },
  {
   "cell_type": "markdown",
   "metadata": {
    "Collapsed": "false"
   },
   "source": [
    "---\n",
    "# Activities\n",
    "\n",
    "* Try modifying any of the queries above to see how the result change \n",
    "* Open up a terminal window (New > Terminal) and type `dimcli` to launch the query console\n",
    "    * you will be able to launch queries interactively with autocomplete - which is a handy way to learn the DSL query language via trial and error!  "
   ]
  },
  {
   "cell_type": "markdown",
   "metadata": {
    "Collapsed": "false"
   },
   "source": [
    "---\n",
    "# Want to learn more?\n",
    "\n",
    "Check out the [Dimensions API Lab](https://digital-science.github.io/dimensions-api-lab/) website, which contains many tutorials and reusable Jupyter notebooks for scholarly data analytics. "
   ]
  }
 ],
 "metadata": {
  "kernel_info": {
   "name": "dimcli_env"
  },
  "kernelspec": {
   "display_name": "dimcli_env",
   "language": "python",
   "name": "dimcli_env"
  },
  "language_info": {
   "codemirror_mode": {
    "name": "ipython",
    "version": 3
   },
   "file_extension": ".py",
   "mimetype": "text/x-python",
   "name": "python",
   "nbconvert_exporter": "python",
   "pygments_lexer": "ipython3",
   "version": "3.7.4"
  },
  "nteract": {
   "version": "0.14.5"
  }
 },
 "nbformat": 4,
 "nbformat_minor": 4
}
