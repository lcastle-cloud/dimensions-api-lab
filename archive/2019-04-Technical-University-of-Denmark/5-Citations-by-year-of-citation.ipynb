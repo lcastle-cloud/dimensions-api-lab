{
 "cells": [
  {
   "cell_type": "markdown",
   "metadata": {
    "Collapsed": "false"
   },
   "source": [
    "<a href=\"https://colab.research.google.com/github/digital-science/dimensions-api-lab/blob/master/3-workshops/2019-04-Technical-University-of-Denmark/5-Citations-by-year-of-citation.ipynb\" target=\"_parent\"><img src=\"https://colab.research.google.com/assets/colab-badge.svg\" alt=\"Open Dimensions API Lab In Google Colab\"/></a>"
   ]
  },
  {
   "cell_type": "markdown",
   "metadata": {
    "Collapsed": "false"
   },
   "source": [
    "## Citations by year of citation"
   ]
  },
  {
   "cell_type": "code",
   "execution_count": 1,
   "metadata": {
    "Collapsed": "false"
   },
   "outputs": [],
   "source": [
    "from dimcli.shortcuts import dslquery_json as dslquery\n",
    "import pandas as pd\n",
    "import matplotlib.pyplot as plt\n",
    "from collections import Counter\n",
    "from IPython.display import Image"
   ]
  },
  {
   "cell_type": "markdown",
   "metadata": {
    "Collapsed": "false"
   },
   "source": [
    "## 1)  Seed your citation graph\n",
    "Define a function that will give you back the publications that you want to start your citation graph from.\n",
    "\n",
    "This example uses a single publication, but you could choose to look at a set of publications using any query."
   ]
  },
  {
   "cell_type": "code",
   "execution_count": 2,
   "metadata": {
    "Collapsed": "false"
   },
   "outputs": [],
   "source": [
    "def searchPubs(limit=1000, skip=0):\n",
    "    data = \"\"\"search publications \n",
    "          where id=\"pub.1001131784\"\n",
    "          return publications[id+times_cited+year]\n",
    "          limit {} skip {}\n",
    "    \"\"\".format(limit,skip)\n",
    "    return data"
   ]
  },
  {
   "cell_type": "markdown",
   "metadata": {
    "Collapsed": "false"
   },
   "source": [
    "## 2) Get the citing papers\n",
    "Define a function that returns the citing papers, and the details that you will need to process them."
   ]
  },
  {
   "cell_type": "code",
   "execution_count": 3,
   "metadata": {
    "Collapsed": "false"
   },
   "outputs": [],
   "source": [
    "def citedpublications(ids,limit=1000,skip=0):\n",
    "    data = \"\"\"search publications\n",
    "                  where (references in [{}])\n",
    "              return publications[id+year+references] sort by id\n",
    "                  limit {} skip {}\n",
    "    \"\"\".format(','.join(['\"{}\"'.format(id) for id in ids]),limit,skip)\n",
    "    print(skip)\n",
    "    return data"
   ]
  },
  {
   "cell_type": "markdown",
   "metadata": {
    "Collapsed": "false"
   },
   "source": [
    "## 3) Process the citing papers and get a 1 degree citation graph\n",
    "For the set of papers that you are interested in, process the citing papers to extract the relevant 1d citation graph, partitoned by year"
   ]
  },
  {
   "cell_type": "code",
   "execution_count": 4,
   "metadata": {
    "Collapsed": "false"
   },
   "outputs": [],
   "source": [
    "def dslsearchcitedpublications(cited_ids):\n",
    "    \n",
    "    idchunks = [cited_ids[x:x + 500] for x in range(0, len(cited_ids), 500)]\n",
    "    result = {}\n",
    "    years = {}\n",
    "    \n",
    "    total_pubs = []\n",
    "    for idc in idchunks:        \n",
    "        skip = 0\n",
    "        pubs = []        \n",
    "        while skip == 0 or len(pubs)== 1000:\n",
    "            pubs = dslquery(citedpublications(idc, skip=skip)).get('publications',[])\n",
    "            total_pubs += pubs\n",
    "            skip += 1000   \n",
    "    \n",
    "    for i, p in enumerate(total_pubs):\n",
    "\n",
    "        rs= []\n",
    "        \n",
    "        for r in p['references']:\n",
    "            try:\n",
    "                rs.append(r)\n",
    "            except:\n",
    "                print(\"found this anomalous data {}\".format(r))\n",
    "                \n",
    "        references_set = set(rs)\n",
    "        \n",
    "        #Only return those citations that refer to the cited_ids  \n",
    "        #(you could actually speed this set up by using dataframes)\n",
    "        focusedcites = list(references_set - set(references_set - set(cited_ids)))\n",
    "\n",
    "        #Citation graph\n",
    "        citelinks = [\"{}-{}\".format(p['id'],f) for f in focusedcites]\n",
    "\n",
    "        #Cumulatively partition Citation graph by year of citing publication\n",
    "        year_key = str(p.get('year','no_year'))\n",
    "        if year_key in years.keys():\n",
    "            years[year_key] = list(set(years[year_key] + citelinks))\n",
    "        else:\n",
    "            years[year_key] = citelinks\n",
    " \n",
    "    return years"
   ]
  },
  {
   "cell_type": "markdown",
   "metadata": {
    "Collapsed": "false"
   },
   "source": [
    "## Put the steps together\n",
    "\n",
    "* Get the publications you are interested in \n",
    "* Then get and process the publications that cite them"
   ]
  },
  {
   "cell_type": "code",
   "execution_count": 5,
   "metadata": {
    "Collapsed": "false"
   },
   "outputs": [],
   "source": [
    "def dslsearchpublications():\n",
    "    skip = 0\n",
    "    pubs = []\n",
    "    total_pubs = []\n",
    "    result = {}\n",
    "    while (skip == 0) or (len(pubs) == 1000):\n",
    "        pubs = dslquery(searchPubs(skip=skip)).get('publications',[])\n",
    "        total_pubs += pubs\n",
    "        skip += 1000   \n",
    "        \n",
    "    result['ciations_by_citing_year'] = dslsearchcitedpublications([p['id'] for p in total_pubs])\n",
    "                         \n",
    "    return result"
   ]
  },
  {
   "cell_type": "code",
   "execution_count": 6,
   "metadata": {
    "Collapsed": "false"
   },
   "outputs": [
    {
     "name": "stdout",
     "output_type": "stream",
     "text": [
      "Execution time: 0.46980810165405273\n",
      "0\n",
      "Execution time: 1.2476401329040527\n"
     ]
    }
   ],
   "source": [
    "result = dslsearchpublications()"
   ]
  },
  {
   "cell_type": "code",
   "execution_count": 7,
   "metadata": {
    "Collapsed": "false"
   },
   "outputs": [],
   "source": [
    "cbyc = []\n",
    "for k in result['ciations_by_citing_year'].keys():\n",
    "    cbyc.append([ k, len(result['ciations_by_citing_year'][k])])"
   ]
  },
  {
   "cell_type": "code",
   "execution_count": 8,
   "metadata": {
    "Collapsed": "false"
   },
   "outputs": [],
   "source": [
    "df = pd.DataFrame(cbyc)"
   ]
  },
  {
   "cell_type": "code",
   "execution_count": 9,
   "metadata": {
    "Collapsed": "false"
   },
   "outputs": [],
   "source": [
    "df.columns = ['year','citation_count']"
   ]
  },
  {
   "cell_type": "code",
   "execution_count": 10,
   "metadata": {
    "Collapsed": "false"
   },
   "outputs": [
    {
     "data": {
      "text/plain": [
       "<matplotlib.axes._subplots.AxesSubplot at 0x106590710>"
      ]
     },
     "execution_count": 10,
     "metadata": {},
     "output_type": "execute_result"
    },
    {
     "data": {
      "image/png": "[encoded data removed]",
      "text/plain": [
       "<Figure size 432x288 with 1 Axes>"
      ]
     },
     "metadata": {
      "needs_background": "light"
     },
     "output_type": "display_data"
    }
   ],
   "source": [
    "#Primary Citations by year of citation\n",
    "df.set_index('year').sort_index().plot.bar()"
   ]
  },
  {
   "cell_type": "markdown",
   "metadata": {
    "Collapsed": "false"
   },
   "source": [
    "---\n",
    "# Want to learn more?\n",
    "\n",
    "Check out the [Dimensions API Lab](https://digital-science.github.io/dimensions-api-lab/) website, which contains many tutorials and reusable Jupyter notebooks for scholarly data analytics. "
   ]
  }
 ],
 "metadata": {
  "kernel_info": {
   "name": "python3"
  },
  "kernelspec": {
   "display_name": "Python 3",
   "language": "python",
   "name": "python3"
  },
  "language_info": {
   "codemirror_mode": {
    "name": "ipython",
    "version": 3
   },
   "file_extension": ".py",
   "mimetype": "text/x-python",
   "name": "python",
   "nbconvert_exporter": "python",
   "pygments_lexer": "ipython3",
   "version": "3.7.4"
  },
  "nteract": {
   "version": "0.14.5"
  }
 },
 "nbformat": 4,
 "nbformat_minor": 4
}
