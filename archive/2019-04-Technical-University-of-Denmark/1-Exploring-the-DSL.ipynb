{
 "cells": [
  {
   "cell_type": "markdown",
   "metadata": {
    "Collapsed": "false"
   },
   "source": [
    "<a href=\"https://colab.research.google.com/github/digital-science/dimensions-api-lab/blob/master/3-workshops/2019-04-Technical-University-of-Denmark/1-Exploring-the-DSL.ipynb\" target=\"_parent\"><img src=\"https://colab.research.google.com/assets/colab-badge.svg\" alt=\"Open Dimensions API Lab In Google Colab\"/></a>"
   ]
  },
  {
   "cell_type": "markdown",
   "metadata": {
    "Collapsed": "false",
    "slideshow": {
     "slide_type": "slide"
    }
   },
   "source": [
    "# Exploring The Dimensions  API\n",
    "\n",
    "This Notebook takes you through the basics of using the Dimensions API with Jupyter Notebooks. \n",
    "\n",
    "> NOTE: This example has been recenlty updated so to work with the DimCli library\n"
   ]
  },
  {
   "cell_type": "code",
   "execution_count": null,
   "metadata": {
    "Collapsed": "false",
    "slideshow": {
     "slide_type": "skip"
    }
   },
   "outputs": [],
   "source": [
    "from dimcli.shortcuts import dslquery_json as dslquery"
   ]
  },
  {
   "cell_type": "markdown",
   "metadata": {
    "Collapsed": "false",
    "slideshow": {
     "slide_type": "slide"
    }
   },
   "source": [
    "## The Basics\n",
    "\n",
    "The dslquery function works in just the same way as the dimensions API inteface works in the application. \n",
    "* submit your query\n",
    "* get back json results"
   ]
  },
  {
   "cell_type": "code",
   "execution_count": null,
   "metadata": {
    "Collapsed": "false",
    "scrolled": true,
    "slideshow": {
     "slide_type": "slide"
    }
   },
   "outputs": [],
   "source": [
    "#A Basic Query  \n",
    "\n",
    "dslquery(\"\"\"\n",
    "     search publications\n",
    "       where id = \"pub.1104296509\"\n",
    "     return publications[all]\n",
    "     limit 1\n",
    "\"\"\")\n"
   ]
  },
  {
   "cell_type": "markdown",
   "metadata": {
    "Collapsed": "false",
    "slideshow": {
     "slide_type": "slide"
    }
   },
   "source": [
    "## The Basics- control the fields you return"
   ]
  },
  {
   "cell_type": "code",
   "execution_count": null,
   "metadata": {
    "Collapsed": "false",
    "scrolled": true,
    "slideshow": {
     "slide_type": "subslide"
    }
   },
   "outputs": [],
   "source": [
    "#A Basic Query - control the fields you return\n",
    "\n",
    "dslquery(\"\"\"\n",
    "     search publications\n",
    "     return publications[id+title+year]\n",
    "     limit 5\n",
    "\"\"\")"
   ]
  },
  {
   "cell_type": "markdown",
   "metadata": {
    "Collapsed": "false",
    "slideshow": {
     "slide_type": "slide"
    }
   },
   "source": [
    "## The Basics- make a mistake, and the DSL will tell you what fields that you could have used"
   ]
  },
  {
   "cell_type": "code",
   "execution_count": null,
   "metadata": {
    "Collapsed": "false",
    "scrolled": true,
    "slideshow": {
     "slide_type": "subslide"
    }
   },
   "outputs": [],
   "source": [
    "#Make a mistake, and the DSL will tell you what fields are available\n",
    "\n",
    "badquery = dslquery(\"\"\"\n",
    "     search publications \n",
    "     return publications[dois]\n",
    "     limit 100\n",
    "\"\"\")\n",
    "\n",
    "print(badquery['errors']['query']['details'][0])\n"
   ]
  },
  {
   "cell_type": "code",
   "execution_count": null,
   "metadata": {
    "Collapsed": "false",
    "scrolled": true,
    "slideshow": {
     "slide_type": "slide"
    }
   },
   "outputs": [],
   "source": [
    "#A Basic Query - get all fields\n",
    "\n",
    "dslquery(\"\"\"\n",
    "     search publications \n",
    "     return publications[all]\n",
    "     limit 1\n",
    "\"\"\")"
   ]
  },
  {
   "cell_type": "markdown",
   "metadata": {
    "Collapsed": "false",
    "slideshow": {
     "slide_type": "slide"
    }
   },
   "source": [
    "## The Basics: you can search for full text in the full text or in abstracts"
   ]
  },
  {
   "cell_type": "code",
   "execution_count": null,
   "metadata": {
    "Collapsed": "false",
    "scrolled": true,
    "slideshow": {
     "slide_type": "subslide"
    }
   },
   "outputs": [],
   "source": [
    "dslquery(\"\"\"\n",
    "     search publications for \"nanotechnology\"\n",
    "       \n",
    "     return publications\n",
    "     limit 1\n",
    "\"\"\")"
   ]
  },
  {
   "cell_type": "code",
   "execution_count": null,
   "metadata": {
    "Collapsed": "false",
    "scrolled": true,
    "slideshow": {
     "slide_type": "subslide"
    }
   },
   "outputs": [],
   "source": [
    "dslquery(\"\"\"\n",
    "     search publications in title_abstract_only for \"nanotechnology\" \n",
    "     return publications\n",
    "     limit 1\n",
    "\"\"\")"
   ]
  },
  {
   "cell_type": "markdown",
   "metadata": {
    "Collapsed": "false",
    "slideshow": {
     "slide_type": "slide"
    }
   },
   "source": [
    "## The Basics - a simple author search\n"
   ]
  },
  {
   "cell_type": "code",
   "execution_count": 17,
   "metadata": {
    "Collapsed": "false",
    "scrolled": true,
    "slideshow": {
     "slide_type": "subslide"
    }
   },
   "outputs": [
    {
     "data": {
      "text/plain": [
       "{'_stats': {'total_count': 49, 'limit': 10, 'offset': 0},\n",
       " 'publications': [{'author_affiliations': [[{'first_name': 'David',\n",
       "      'last_name': 'Zeitlyn',\n",
       "      'orcid': '',\n",
       "      'current_organization_id': '',\n",
       "      'researcher_id': '',\n",
       "      'affiliations': [{'id': 'grid.4991.5',\n",
       "        'name': 'University of Oxford',\n",
       "        'city': 'Oxford',\n",
       "        'city_id': 2640729,\n",
       "        'country': 'United Kingdom',\n",
       "        'country_code': 'GB',\n",
       "        'state': None,\n",
       "        'state_code': None}]},\n",
       "     {'first_name': 'Daniel W.',\n",
       "      'last_name': 'Hook',\n",
       "      'orcid': '',\n",
       "      'current_organization_id': '',\n",
       "      'researcher_id': '',\n",
       "      'affiliations': [{'id': 'grid.452594.b',\n",
       "        'name': 'Digital Science (United Kingdom)',\n",
       "        'city': 'London',\n",
       "        'city_id': 2643743,\n",
       "        'country': 'United Kingdom',\n",
       "        'country_code': 'GB',\n",
       "        'state': None,\n",
       "        'state_code': None},\n",
       "       {'id': 'grid.7445.2',\n",
       "        'name': 'Imperial College London',\n",
       "        'city': 'London',\n",
       "        'city_id': 2643743,\n",
       "        'country': 'United Kingdom',\n",
       "        'country_code': 'GB',\n",
       "        'state': None,\n",
       "        'state_code': None},\n",
       "       {'id': 'grid.4367.6',\n",
       "        'name': 'Washington University in St. Louis',\n",
       "        'city': 'St Louis',\n",
       "        'city_id': 4407066,\n",
       "        'country': 'United States',\n",
       "        'country_code': 'US',\n",
       "        'state': 'Missouri',\n",
       "        'state_code': 'US-MO'}]}]],\n",
       "   'type': 'article',\n",
       "   'id': 'pub.1115957159',\n",
       "   'journal': {'id': 'jour.1037553', 'title': 'PLoS ONE'},\n",
       "   'year': 2019,\n",
       "   'title': 'Perception, prestige and PageRank',\n",
       "   'pages': 'e0216783',\n",
       "   'issue': '5',\n",
       "   'volume': '14'},\n",
       "  {'author_affiliations': [[{'first_name': 'Carl M',\n",
       "      'last_name': 'Bender',\n",
       "      'orcid': \"['0000-0002-3840-1155']\",\n",
       "      'current_organization_id': 'grid.4367.6',\n",
       "      'researcher_id': 'ur.01310552610.52',\n",
       "      'affiliations': [{'name': 'Washington University in St. LouisUSA'}]},\n",
       "     {'first_name': 'Patrick E',\n",
       "      'last_name': 'Dorey',\n",
       "      'orcid': '',\n",
       "      'current_organization_id': 'grid.8250.f',\n",
       "      'researcher_id': 'ur.013031721717.97',\n",
       "      'affiliations': []},\n",
       "     {'first_name': 'Clare',\n",
       "      'last_name': 'Dunning',\n",
       "      'orcid': '',\n",
       "      'current_organization_id': '',\n",
       "      'researcher_id': 'ur.016256640576.27',\n",
       "      'affiliations': []},\n",
       "     {'first_name': 'Andreas',\n",
       "      'last_name': 'Fring',\n",
       "      'orcid': '',\n",
       "      'current_organization_id': '',\n",
       "      'researcher_id': '',\n",
       "      'affiliations': []},\n",
       "     {'first_name': 'Daniel W',\n",
       "      'last_name': 'Hook',\n",
       "      'orcid': '',\n",
       "      'current_organization_id': '',\n",
       "      'researcher_id': '',\n",
       "      'affiliations': []},\n",
       "     {'first_name': 'Hugh F',\n",
       "      'last_name': 'Jones',\n",
       "      'orcid': '',\n",
       "      'current_organization_id': '',\n",
       "      'researcher_id': '',\n",
       "      'affiliations': []},\n",
       "     {'first_name': 'Sergii',\n",
       "      'last_name': 'Kuzhel',\n",
       "      'orcid': '',\n",
       "      'current_organization_id': '',\n",
       "      'researcher_id': '',\n",
       "      'affiliations': []},\n",
       "     {'first_name': 'Géza',\n",
       "      'last_name': 'Lévai',\n",
       "      'orcid': '',\n",
       "      'current_organization_id': '',\n",
       "      'researcher_id': '',\n",
       "      'affiliations': []},\n",
       "     {'first_name': 'Roberto',\n",
       "      'last_name': 'Tateo',\n",
       "      'orcid': \"['0000-0002-9549-5450']\",\n",
       "      'current_organization_id': 'grid.7605.4',\n",
       "      'researcher_id': 'ur.011444520764.30',\n",
       "      'affiliations': []}]],\n",
       "   'type': 'monograph',\n",
       "   'id': 'pub.1108567148',\n",
       "   'year': 2019,\n",
       "   'title': 'PT Symmetry'},\n",
       "  {'author_affiliations': [[{'first_name': 'Daniel',\n",
       "      'last_name': 'Hook',\n",
       "      'orcid': '',\n",
       "      'current_organization_id': '',\n",
       "      'researcher_id': '',\n",
       "      'affiliations': [{'id': 'grid.20409.3f',\n",
       "        'name': 'Edinburgh Napier University',\n",
       "        'city': 'Edinburgh',\n",
       "        'city_id': 2650225,\n",
       "        'country': 'United Kingdom',\n",
       "        'country_code': 'GB',\n",
       "        'state': None,\n",
       "        'state_code': None}]},\n",
       "     {'first_name': 'William',\n",
       "      'last_name': 'Laing',\n",
       "      'orcid': '',\n",
       "      'current_organization_id': '',\n",
       "      'researcher_id': '',\n",
       "      'affiliations': [{'id': 'grid.20409.3f',\n",
       "        'name': 'Edinburgh Napier University',\n",
       "        'city': 'Edinburgh',\n",
       "        'city_id': 2650225,\n",
       "        'country': 'United Kingdom',\n",
       "        'country_code': 'GB',\n",
       "        'state': None,\n",
       "        'state_code': None}]},\n",
       "     {'first_name': 'Abdelfateh',\n",
       "      'last_name': 'Kerrouche',\n",
       "      'orcid': '',\n",
       "      'current_organization_id': 'grid.20409.3f',\n",
       "      'researcher_id': 'ur.016555103257.15',\n",
       "      'affiliations': [{'id': 'grid.20409.3f',\n",
       "        'name': 'Edinburgh Napier University',\n",
       "        'city': 'Edinburgh',\n",
       "        'city_id': 2650225,\n",
       "        'country': 'United Kingdom',\n",
       "        'country_code': 'GB',\n",
       "        'state': None,\n",
       "        'state_code': None}]},\n",
       "     {'first_name': 'Daniel',\n",
       "      'last_name': 'Barreto',\n",
       "      'orcid': \"['0000-0003-4790-3250']\",\n",
       "      'current_organization_id': 'grid.20409.3f',\n",
       "      'researcher_id': 'ur.012576057725.50',\n",
       "      'affiliations': [{'id': 'grid.20409.3f',\n",
       "        'name': 'Edinburgh Napier University',\n",
       "        'city': 'Edinburgh',\n",
       "        'city_id': 2650225,\n",
       "        'country': 'United Kingdom',\n",
       "        'country_code': 'GB',\n",
       "        'state': None,\n",
       "        'state_code': None}]},\n",
       "     {'first_name': 'Lourdes S. M.',\n",
       "      'last_name': 'Alwis',\n",
       "      'orcid': '',\n",
       "      'current_organization_id': 'grid.20409.3f',\n",
       "      'researcher_id': 'ur.010240513126.15',\n",
       "      'affiliations': [{'id': 'grid.20409.3f',\n",
       "        'name': 'Edinburgh Napier University',\n",
       "        'city': 'Edinburgh',\n",
       "        'city_id': 2650225,\n",
       "        'country': 'United Kingdom',\n",
       "        'country_code': 'GB',\n",
       "        'state': None,\n",
       "        'state_code': None}]}]],\n",
       "   'type': 'proceeding',\n",
       "   'id': 'pub.1111011264',\n",
       "   'journal': {'id': 'jour.1047781', 'title': '2010 IEEE Sensors'},\n",
       "   'year': 2018,\n",
       "   'title': 'Optical Fiber Sensor Design for Ground Slope Movement Monitoring for Railway Safety Operations',\n",
       "   'pages': '1-4'},\n",
       "  {'author_affiliations': [[{'first_name': 'Daniel W.',\n",
       "      'last_name': 'Hook',\n",
       "      'orcid': \"['0000-0001-9746-1193']\",\n",
       "      'current_organization_id': 'grid.7445.2',\n",
       "      'researcher_id': 'ur.01123321343.51',\n",
       "      'affiliations': [{'id': 'grid.452594.b',\n",
       "        'name': 'Digital Science (United Kingdom)',\n",
       "        'city': 'London',\n",
       "        'city_id': 2643743,\n",
       "        'country': 'United Kingdom',\n",
       "        'country_code': 'GB',\n",
       "        'state': None,\n",
       "        'state_code': None},\n",
       "       {'id': 'grid.7445.2',\n",
       "        'name': 'Imperial College London',\n",
       "        'city': 'London',\n",
       "        'city_id': 2643743,\n",
       "        'country': 'United Kingdom',\n",
       "        'country_code': 'GB',\n",
       "        'state': None,\n",
       "        'state_code': None},\n",
       "       {'id': 'grid.4367.6',\n",
       "        'name': 'Washington University in St. Louis',\n",
       "        'city': 'St Louis',\n",
       "        'city_id': 4407066,\n",
       "        'country': 'United States',\n",
       "        'country_code': 'US',\n",
       "        'state': 'Missouri',\n",
       "        'state_code': 'US-MO'}]},\n",
       "     {'first_name': 'Simon J.',\n",
       "      'last_name': 'Porter',\n",
       "      'orcid': \"['0000-0002-6151-8423']\",\n",
       "      'current_organization_id': 'grid.452594.b',\n",
       "      'researcher_id': 'ur.012016042104.74',\n",
       "      'affiliations': [{'id': 'grid.452594.b',\n",
       "        'name': 'Digital Science (United Kingdom)',\n",
       "        'city': 'London',\n",
       "        'city_id': 2643743,\n",
       "        'country': 'United Kingdom',\n",
       "        'country_code': 'GB',\n",
       "        'state': None,\n",
       "        'state_code': None}]},\n",
       "     {'first_name': 'Christian',\n",
       "      'last_name': 'Herzog',\n",
       "      'orcid': \"['0000-0002-9983-0033']\",\n",
       "      'current_organization_id': 'grid.452594.b',\n",
       "      'researcher_id': 'ur.014544122464.10',\n",
       "      'affiliations': [{'id': 'grid.452594.b',\n",
       "        'name': 'Digital Science (United Kingdom)',\n",
       "        'city': 'London',\n",
       "        'city_id': 2643743,\n",
       "        'country': 'United Kingdom',\n",
       "        'country_code': 'GB',\n",
       "        'state': None,\n",
       "        'state_code': None}]}]],\n",
       "   'type': 'article',\n",
       "   'id': 'pub.1106289502',\n",
       "   'journal': {'id': 'jour.1292498',\n",
       "    'title': 'Frontiers in Research Metrics and Analytics'},\n",
       "   'year': 2018,\n",
       "   'title': 'Dimensions: Building Context for Search and Evaluation',\n",
       "   'pages': '23',\n",
       "   'volume': '3'},\n",
       "  {'author_affiliations': [[{'first_name': 'Daniel',\n",
       "      'last_name': 'Hook',\n",
       "      'orcid': '',\n",
       "      'current_organization_id': 'grid.433688.2',\n",
       "      'researcher_id': 'ur.07403446145.09',\n",
       "      'affiliations': []},\n",
       "     {'first_name': 'Katarzyna',\n",
       "      'last_name': 'Wygladacz',\n",
       "      'orcid': '',\n",
       "      'current_organization_id': 'grid.433688.2',\n",
       "      'researcher_id': 'ur.0756356645.19',\n",
       "      'affiliations': []},\n",
       "     {'first_name': 'Marjorie',\n",
       "      'last_name': 'Rah',\n",
       "      'orcid': '',\n",
       "      'current_organization_id': '',\n",
       "      'researcher_id': '',\n",
       "      'affiliations': []}]],\n",
       "   'type': 'article',\n",
       "   'id': 'pub.1105321123',\n",
       "   'journal': {'id': 'jour.1091476', 'title': 'Contact Lens and Anterior Eye'},\n",
       "   'year': 2018,\n",
       "   'title': 'Assessment of the interaction between a natural wetting agent and silicone hydrogel contact lenses containing PVP using novel imaging techniques',\n",
       "   'pages': 's45',\n",
       "   'volume': '41'},\n",
       "  {'author_affiliations': [[{'first_name': 'Andrew J.',\n",
       "      'last_name': 'Hoteling',\n",
       "      'orcid': '',\n",
       "      'current_organization_id': '',\n",
       "      'researcher_id': 'ur.01045401304.40',\n",
       "      'affiliations': [{'name': 'Vision Care, Bausch & Lomb Incorporated, Rochester, New York'}]},\n",
       "     {'first_name': 'William F.',\n",
       "      'last_name': 'Nichols',\n",
       "      'orcid': '',\n",
       "      'current_organization_id': '',\n",
       "      'researcher_id': '',\n",
       "      'affiliations': [{'name': 'Vision Care, Bausch & Lomb Incorporated, Rochester, New York'}]},\n",
       "     {'first_name': 'Patricia S.',\n",
       "      'last_name': 'Harmon',\n",
       "      'orcid': '',\n",
       "      'current_organization_id': '',\n",
       "      'researcher_id': '',\n",
       "      'affiliations': [{'name': 'Vision Care, Bausch & Lomb Incorporated, Rochester, New York'}]},\n",
       "     {'first_name': 'Shawn M.',\n",
       "      'last_name': 'Conlon',\n",
       "      'orcid': '',\n",
       "      'current_organization_id': '',\n",
       "      'researcher_id': '',\n",
       "      'affiliations': [{'name': 'Vision Care, Bausch & Lomb Incorporated, Rochester, New York'}]},\n",
       "     {'first_name': 'Ivan M.',\n",
       "      'last_name': 'Nuñez',\n",
       "      'orcid': '',\n",
       "      'current_organization_id': '',\n",
       "      'researcher_id': '',\n",
       "      'affiliations': [{'name': 'Vision Care, Bausch & Lomb Incorporated, Rochester, New York'}]},\n",
       "     {'first_name': 'Joseph W.',\n",
       "      'last_name': 'Hoff',\n",
       "      'orcid': '',\n",
       "      'current_organization_id': '',\n",
       "      'researcher_id': '',\n",
       "      'affiliations': [{'name': 'Vision Care, Bausch & Lomb Incorporated, Rochester, New York'}]},\n",
       "     {'first_name': 'Orlando M.',\n",
       "      'last_name': 'Cabarcos',\n",
       "      'orcid': '',\n",
       "      'current_organization_id': 'grid.29857.31',\n",
       "      'researcher_id': 'ur.01112406573.51',\n",
       "      'affiliations': [{'name': 'Vision Care, Bausch & Lomb Incorporated, Rochester, New York'}]},\n",
       "     {'first_name': 'Robert B.',\n",
       "      'last_name': 'Steffen',\n",
       "      'orcid': '',\n",
       "      'current_organization_id': '',\n",
       "      'researcher_id': '',\n",
       "      'affiliations': [{'name': 'Vision Care, Bausch & Lomb Incorporated, Rochester, New York'}]},\n",
       "     {'first_name': 'Daniel J.',\n",
       "      'last_name': 'Hook',\n",
       "      'orcid': '',\n",
       "      'current_organization_id': 'grid.433688.2',\n",
       "      'researcher_id': 'ur.07403446145.09',\n",
       "      'affiliations': [{'name': 'Vision Care, Bausch & Lomb Incorporated, Rochester, New York'}]}]],\n",
       "   'type': 'article',\n",
       "   'id': 'pub.1085413261',\n",
       "   'journal': {'id': 'jour.1312091',\n",
       "    'title': 'Journal of Biomedical Materials Research Part B Applied Biomaterials'},\n",
       "   'year': 2018,\n",
       "   'title': 'Characterization and quantitation of PVP content in a silicone hydrogel contact lens produced by dual‐phase polymerization processing',\n",
       "   'pages': '1064-1072',\n",
       "   'issue': '3',\n",
       "   'volume': '106'},\n",
       "  {'author_affiliations': [[{'first_name': 'Carl M.',\n",
       "      'last_name': 'Bender',\n",
       "      'orcid': \"['0000-0002-3840-1155']\",\n",
       "      'current_organization_id': 'grid.4367.6',\n",
       "      'researcher_id': 'ur.01310552610.52',\n",
       "      'affiliations': [{'id': 'grid.4367.6',\n",
       "        'name': 'Washington University in St. Louis',\n",
       "        'city': 'St Louis',\n",
       "        'city_id': 4407066,\n",
       "        'country': 'United States',\n",
       "        'country_code': 'US',\n",
       "        'state': 'Missouri',\n",
       "        'state_code': 'US-MO'}]},\n",
       "     {'first_name': 'Nima',\n",
       "      'last_name': 'Hassanpour',\n",
       "      'orcid': '',\n",
       "      'current_organization_id': 'grid.4367.6',\n",
       "      'researcher_id': 'ur.016700034171.07',\n",
       "      'affiliations': [{'id': 'grid.4367.6',\n",
       "        'name': 'Washington University in St. Louis',\n",
       "        'city': 'St Louis',\n",
       "        'city_id': 4407066,\n",
       "        'country': 'United States',\n",
       "        'country_code': 'US',\n",
       "        'state': 'Missouri',\n",
       "        'state_code': 'US-MO'}]},\n",
       "     {'first_name': 'Daniel W.',\n",
       "      'last_name': 'Hook',\n",
       "      'orcid': \"['0000-0001-9746-1193']\",\n",
       "      'current_organization_id': 'grid.7445.2',\n",
       "      'researcher_id': 'ur.01123321343.51',\n",
       "      'affiliations': [{'id': 'grid.4367.6',\n",
       "        'name': 'Washington University in St. Louis',\n",
       "        'city': 'St Louis',\n",
       "        'city_id': 4407066,\n",
       "        'country': 'United States',\n",
       "        'country_code': 'US',\n",
       "        'state': 'Missouri',\n",
       "        'state_code': 'US-MO'},\n",
       "       {'id': 'grid.7445.2',\n",
       "        'name': 'Imperial College London',\n",
       "        'city': 'London',\n",
       "        'city_id': 2643743,\n",
       "        'country': 'United Kingdom',\n",
       "        'country_code': 'GB',\n",
       "        'state': None,\n",
       "        'state_code': None}]},\n",
       "     {'first_name': 'S. P.',\n",
       "      'last_name': 'Klevansky',\n",
       "      'orcid': '',\n",
       "      'current_organization_id': 'grid.7700.0',\n",
       "      'researcher_id': 'ur.011205262121.46',\n",
       "      'affiliations': [{'id': 'grid.7700.0',\n",
       "        'name': 'Heidelberg University',\n",
       "        'city': 'Heidelberg',\n",
       "        'city_id': 2907911,\n",
       "        'country': 'Germany',\n",
       "        'country_code': 'DE',\n",
       "        'state': None,\n",
       "        'state_code': None}]},\n",
       "     {'first_name': 'Christoph',\n",
       "      'last_name': 'Sünderhauf',\n",
       "      'orcid': '',\n",
       "      'current_organization_id': '',\n",
       "      'researcher_id': '',\n",
       "      'affiliations': [{'id': 'grid.4367.6',\n",
       "        'name': 'Washington University in St. Louis',\n",
       "        'city': 'St Louis',\n",
       "        'city_id': 4407066,\n",
       "        'country': 'United States',\n",
       "        'country_code': 'US',\n",
       "        'state': 'Missouri',\n",
       "        'state_code': 'US-MO'},\n",
       "       {'id': 'grid.7700.0',\n",
       "        'name': 'Heidelberg University',\n",
       "        'city': 'Heidelberg',\n",
       "        'city_id': 2907911,\n",
       "        'country': 'Germany',\n",
       "        'country_code': 'DE',\n",
       "        'state': None,\n",
       "        'state_code': None}]},\n",
       "     {'first_name': 'Zichao',\n",
       "      'last_name': 'Wen',\n",
       "      'orcid': '',\n",
       "      'current_organization_id': '',\n",
       "      'researcher_id': '',\n",
       "      'affiliations': [{'id': 'grid.4367.6',\n",
       "        'name': 'Washington University in St. Louis',\n",
       "        'city': 'St Louis',\n",
       "        'city_id': 4407066,\n",
       "        'country': 'United States',\n",
       "        'country_code': 'US',\n",
       "        'state': 'Missouri',\n",
       "        'state_code': 'US-MO'},\n",
       "       {'id': 'grid.410726.6',\n",
       "        'name': 'University of Chinese Academy of Sciences',\n",
       "        'city': 'Beijing',\n",
       "        'city_id': 1816670,\n",
       "        'country': 'China',\n",
       "        'country_code': 'CN',\n",
       "        'state': None,\n",
       "        'state_code': None},\n",
       "       {'id': 'grid.458463.8',\n",
       "        'name': 'Academy of Mathematics and Systems Science',\n",
       "        'city': 'Beijing',\n",
       "        'city_id': 1816670,\n",
       "        'country': 'China',\n",
       "        'country_code': 'CN',\n",
       "        'state': None,\n",
       "        'state_code': None}]}]],\n",
       "   'type': 'article',\n",
       "   'id': 'pub.1085511076',\n",
       "   'journal': {'id': 'jour.1053349', 'title': 'Physical Review A'},\n",
       "   'year': 2017,\n",
       "   'title': 'Behavior of eigenvalues in a region of broken PT symmetry',\n",
       "   'pages': '052113',\n",
       "   'issue': '5',\n",
       "   'volume': '95'},\n",
       "  {'author_affiliations': [[{'first_name': 'Carl M',\n",
       "      'last_name': 'Bender',\n",
       "      'orcid': \"['0000-0002-3840-1155']\",\n",
       "      'current_organization_id': 'grid.4367.6',\n",
       "      'researcher_id': 'ur.01310552610.52',\n",
       "      'affiliations': [{'id': 'grid.4367.6',\n",
       "        'name': 'Washington University in St. Louis',\n",
       "        'city': 'St Louis',\n",
       "        'city_id': 4407066,\n",
       "        'country': 'United States',\n",
       "        'country_code': 'US',\n",
       "        'state': 'Missouri',\n",
       "        'state_code': 'US-MO'},\n",
       "       {'id': 'grid.13097.3c',\n",
       "        'name': \"King's College London\",\n",
       "        'city': 'London',\n",
       "        'city_id': 2643743,\n",
       "        'country': 'United Kingdom',\n",
       "        'country_code': 'GB',\n",
       "        'state': None,\n",
       "        'state_code': None}]},\n",
       "     {'first_name': 'Daniel W',\n",
       "      'last_name': 'Hook',\n",
       "      'orcid': \"['0000-0001-9746-1193']\",\n",
       "      'current_organization_id': 'grid.7445.2',\n",
       "      'researcher_id': 'ur.01123321343.51',\n",
       "      'affiliations': []},\n",
       "     {'first_name': 'Nick E',\n",
       "      'last_name': 'Mavromatos',\n",
       "      'orcid': '',\n",
       "      'current_organization_id': 'grid.13097.3c',\n",
       "      'researcher_id': 'ur.013370754534.78',\n",
       "      'affiliations': [{'id': 'grid.13097.3c',\n",
       "        'name': \"King's College London\",\n",
       "        'city': 'London',\n",
       "        'city_id': 2643743,\n",
       "        'country': 'United Kingdom',\n",
       "        'country_code': 'GB',\n",
       "        'state': None,\n",
       "        'state_code': None},\n",
       "       {'id': 'grid.9132.9',\n",
       "        'name': 'European Organization for Nuclear Research',\n",
       "        'city': 'Geneva',\n",
       "        'city_id': 2660646,\n",
       "        'country': 'Switzerland',\n",
       "        'country_code': 'CH',\n",
       "        'state': None,\n",
       "        'state_code': None}]},\n",
       "     {'first_name': 'Sarben',\n",
       "      'last_name': 'Sarkar',\n",
       "      'orcid': \"['0000-0003-1369-7794']\",\n",
       "      'current_organization_id': 'grid.13097.3c',\n",
       "      'researcher_id': 'ur.014114026641.24',\n",
       "      'affiliations': [{'id': 'grid.13097.3c',\n",
       "        'name': \"King's College London\",\n",
       "        'city': 'London',\n",
       "        'city_id': 2643743,\n",
       "        'country': 'United Kingdom',\n",
       "        'country_code': 'GB',\n",
       "        'state': None,\n",
       "        'state_code': None}]}]],\n",
       "   'type': 'article',\n",
       "   'id': 'pub.1059174631',\n",
       "   'journal': {'id': 'jour.1084797',\n",
       "    'title': 'Journal of Physics A: Mathematical and Theoretical'},\n",
       "   'year': 2016,\n",
       "   'title': '-symmetric interpretation of unstable effective potentials',\n",
       "   'pages': '45lt01',\n",
       "   'issue': '45',\n",
       "   'volume': '49'},\n",
       "  {'author_affiliations': [[{'first_name': 'Katarzyna A',\n",
       "      'last_name': 'Wygladacz',\n",
       "      'orcid': '',\n",
       "      'current_organization_id': 'grid.433688.2',\n",
       "      'researcher_id': 'ur.0756356645.19',\n",
       "      'affiliations': [{'id': 'grid.433688.2',\n",
       "        'name': 'Bausch Health (United States)',\n",
       "        'city': 'Bridgewater',\n",
       "        'city_id': 8299576,\n",
       "        'country': 'United States',\n",
       "        'country_code': 'US',\n",
       "        'state': 'New Jersey',\n",
       "        'state_code': 'US-NJ'}]},\n",
       "     {'first_name': 'Daniel J',\n",
       "      'last_name': 'Hook',\n",
       "      'orcid': '',\n",
       "      'current_organization_id': 'grid.433688.2',\n",
       "      'researcher_id': 'ur.07403446145.09',\n",
       "      'affiliations': [{'id': 'grid.433688.2',\n",
       "        'name': 'Bausch Health (United States)',\n",
       "        'city': 'Bridgewater',\n",
       "        'city_id': 8299576,\n",
       "        'country': 'United States',\n",
       "        'country_code': 'US',\n",
       "        'state': 'New Jersey',\n",
       "        'state_code': 'US-NJ'}]}]],\n",
       "   'type': 'article',\n",
       "   'id': 'pub.1044133006',\n",
       "   'journal': {'id': 'jour.1313374', 'title': 'Clinical Ophthalmology'},\n",
       "   'year': 2016,\n",
       "   'title': 'Visualization of a hyaluronan network on the surface of silicone-hydrogel materials',\n",
       "   'pages': '1423-1433',\n",
       "   'volume': 'Volume 10'},\n",
       "  {'author_affiliations': [[{'first_name': 'Dustin T',\n",
       "      'last_name': 'McCall',\n",
       "      'orcid': '',\n",
       "      'current_organization_id': '',\n",
       "      'researcher_id': '',\n",
       "      'affiliations': [{'id': 'grid.273335.3',\n",
       "        'name': 'University at Buffalo, State University of New York',\n",
       "        'city': 'Buffalo',\n",
       "        'city_id': 5110629,\n",
       "        'country': 'United States',\n",
       "        'country_code': 'US',\n",
       "        'state': 'New York',\n",
       "        'state_code': 'US-NY'}]},\n",
       "     {'first_name': 'Yi',\n",
       "      'last_name': 'Zhang',\n",
       "      'orcid': '',\n",
       "      'current_organization_id': 'grid.273335.3',\n",
       "      'researcher_id': 'ur.01005654245.53',\n",
       "      'affiliations': [{'id': 'grid.273335.3',\n",
       "        'name': 'University at Buffalo, State University of New York',\n",
       "        'city': 'Buffalo',\n",
       "        'city_id': 5110629,\n",
       "        'country': 'United States',\n",
       "        'country_code': 'US',\n",
       "        'state': 'New York',\n",
       "        'state_code': 'US-NY'}]},\n",
       "     {'first_name': 'Daniel J',\n",
       "      'last_name': 'Hook',\n",
       "      'orcid': '',\n",
       "      'current_organization_id': 'grid.433688.2',\n",
       "      'researcher_id': 'ur.07403446145.09',\n",
       "      'affiliations': [{'name': 'Bausch + Lomb Incorporated, 1400 Goodman St. N., Rochester, New York 14609, United States.'}]},\n",
       "     {'first_name': 'Frank V',\n",
       "      'last_name': 'Bright',\n",
       "      'orcid': \"['0000-0002-1500-5969']\",\n",
       "      'current_organization_id': 'grid.273335.3',\n",
       "      'researcher_id': 'ur.0702116275.98',\n",
       "      'affiliations': [{'id': 'grid.273335.3',\n",
       "        'name': 'University at Buffalo, State University of New York',\n",
       "        'city': 'Buffalo',\n",
       "        'city_id': 5110629,\n",
       "        'country': 'United States',\n",
       "        'country_code': 'US',\n",
       "        'state': 'New York',\n",
       "        'state_code': 'US-NY'}]}]],\n",
       "   'type': 'article',\n",
       "   'id': 'pub.1055116418',\n",
       "   'journal': {'id': 'jour.1126508', 'title': 'Langmuir'},\n",
       "   'year': 2015,\n",
       "   'title': 'Optimizing Pin-Printed and Hydrosilylated Microarray Spot Density on Porous Silicon Platforms.',\n",
       "   'pages': '11370-7',\n",
       "   'issue': '41',\n",
       "   'volume': '31'}]}"
      ]
     },
     "execution_count": 17,
     "metadata": {},
     "output_type": "execute_result"
    }
   ],
   "source": [
    "\n",
    "dslquery(\"\"\"\n",
    "     search publications in authors for \"\\\\\"Daniel Hook\\\\\"\"\n",
    "     return publications\n",
    "     limit 10\n",
    "\"\"\")"
   ]
  },
  {
   "cell_type": "markdown",
   "metadata": {
    "Collapsed": "false",
    "slideshow": {
     "slide_type": "slide"
    }
   },
   "source": [
    "## ..or search for a researcher by a specific id"
   ]
  },
  {
   "cell_type": "code",
   "execution_count": null,
   "metadata": {
    "Collapsed": "false",
    "scrolled": true,
    "slideshow": {
     "slide_type": "subslide"
    }
   },
   "outputs": [],
   "source": [
    "#A Basic Query - or request just thoses that you want...\n",
    "\n",
    "dslquery(\"\"\"\n",
    "     search publications \n",
    "     where researchers.id = \"ur.013514345521.07\"\n",
    "       \n",
    "     return publications[doi+researchers]\n",
    "     limit 1\n",
    "\"\"\")"
   ]
  },
  {
   "cell_type": "markdown",
   "metadata": {
    "Collapsed": "false",
    "slideshow": {
     "slide_type": "slide"
    }
   },
   "source": [
    "## You can also query by facets"
   ]
  },
  {
   "cell_type": "code",
   "execution_count": null,
   "metadata": {
    "Collapsed": "false",
    "scrolled": true,
    "slideshow": {
     "slide_type": "subslide"
    }
   },
   "outputs": [],
   "source": [
    "dslquery(\"\"\"\n",
    "     search publications \n",
    "     return FOR_first \n",
    "\"\"\")"
   ]
  },
  {
   "cell_type": "markdown",
   "metadata": {
    "Collapsed": "false",
    "slideshow": {
     "slide_type": "slide"
    }
   },
   "source": [
    "## You can return up to 1000 facet rows"
   ]
  },
  {
   "cell_type": "code",
   "execution_count": null,
   "metadata": {
    "Collapsed": "false",
    "scrolled": true,
    "slideshow": {
     "slide_type": "subslide"
    }
   },
   "outputs": [],
   "source": [
    "\n",
    "dslquery(\"\"\"\n",
    "     search publications for \"nanotechnology\"\n",
    "     return year limit 1000\n",
    "\"\"\")"
   ]
  },
  {
   "cell_type": "markdown",
   "metadata": {
    "Collapsed": "false",
    "slideshow": {
     "slide_type": "slide"
    }
   },
   "source": [
    "## Just make a mistake, and you will ge the complete list of available facets"
   ]
  },
  {
   "cell_type": "code",
   "execution_count": 18,
   "metadata": {
    "Collapsed": "false",
    "scrolled": true,
    "slideshow": {
     "slide_type": "subslide"
    }
   },
   "outputs": [
    {
     "data": {
      "text/plain": [
       "{'errors': {'query': {'header': 'Semantic Error',\n",
       "   'details': [\"Semantic errors found:\\n\\tFacet 'years' is not present in source 'publications'. Available facets are: FOR,FOR_first,HRCS_HC,HRCS_RAC,RCDC,funder_countries,funders,journal,mesh_terms,open_access_categories,publisher,research_org_cities,research_org_countries,research_org_state_codes,research_orgs,researchers,type,year\"],\n",
       "   'query': '\\n     search publications \\n     return years \\n'}}}"
      ]
     },
     "execution_count": 18,
     "metadata": {},
     "output_type": "execute_result"
    }
   ],
   "source": [
    "dslquery(\"\"\"\n",
    "     search publications \n",
    "     return years \n",
    "\"\"\")"
   ]
  },
  {
   "cell_type": "code",
   "execution_count": 19,
   "metadata": {
    "Collapsed": "false",
    "scrolled": true
   },
   "outputs": [
    {
     "data": {
      "text/html": [
       "<div>\n",
       "<style scoped>\n",
       "    .dataframe tbody tr th:only-of-type {\n",
       "        vertical-align: middle;\n",
       "    }\n",
       "\n",
       "    .dataframe tbody tr th {\n",
       "        vertical-align: top;\n",
       "    }\n",
       "\n",
       "    .dataframe thead th {\n",
       "        text-align: right;\n",
       "    }\n",
       "</style>\n",
       "<table border=\"1\" class=\"dataframe\">\n",
       "  <thead>\n",
       "    <tr style=\"text-align: right;\">\n",
       "      <th></th>\n",
       "      <th>altmetric</th>\n",
       "      <th>title</th>\n",
       "    </tr>\n",
       "  </thead>\n",
       "  <tbody>\n",
       "    <tr>\n",
       "      <th>0</th>\n",
       "      <td>2.0</td>\n",
       "      <td>MEMS vibrational energy harvesters</td>\n",
       "    </tr>\n",
       "    <tr>\n",
       "      <th>1</th>\n",
       "      <td>NaN</td>\n",
       "      <td>7. Searching for a New Role in East Asian Regi...</td>\n",
       "    </tr>\n",
       "    <tr>\n",
       "      <th>2</th>\n",
       "      <td>92.0</td>\n",
       "      <td>Self-assembly as a key player for materials na...</td>\n",
       "    </tr>\n",
       "    <tr>\n",
       "      <th>3</th>\n",
       "      <td>NaN</td>\n",
       "      <td>Cancer Immunotherapy Therapeutic Manipulation ...</td>\n",
       "    </tr>\n",
       "    <tr>\n",
       "      <th>4</th>\n",
       "      <td>57.0</td>\n",
       "      <td>Recent advances on fluorescent biomarkers of n...</td>\n",
       "    </tr>\n",
       "    <tr>\n",
       "      <th>5</th>\n",
       "      <td>NaN</td>\n",
       "      <td>54. “Moral Questions of an Altogether Differen...</td>\n",
       "    </tr>\n",
       "    <tr>\n",
       "      <th>6</th>\n",
       "      <td>NaN</td>\n",
       "      <td>9. Disability Rights Approach toward Bioethics?</td>\n",
       "    </tr>\n",
       "    <tr>\n",
       "      <th>7</th>\n",
       "      <td>54.0</td>\n",
       "      <td>Stretchable electronics: functional materials,...</td>\n",
       "    </tr>\n",
       "    <tr>\n",
       "      <th>8</th>\n",
       "      <td>2.0</td>\n",
       "      <td>Thermoelectric properties of sorted semiconduc...</td>\n",
       "    </tr>\n",
       "    <tr>\n",
       "      <th>9</th>\n",
       "      <td>NaN</td>\n",
       "      <td>Fifteen. Threshold 9? Teaching Possible Futures</td>\n",
       "    </tr>\n",
       "  </tbody>\n",
       "</table>\n",
       "</div>"
      ],
      "text/plain": [
       "   altmetric                                              title\n",
       "0        2.0                 MEMS vibrational energy harvesters\n",
       "1        NaN  7. Searching for a New Role in East Asian Regi...\n",
       "2       92.0  Self-assembly as a key player for materials na...\n",
       "3        NaN  Cancer Immunotherapy Therapeutic Manipulation ...\n",
       "4       57.0  Recent advances on fluorescent biomarkers of n...\n",
       "5        NaN  54. “Moral Questions of an Altogether Differen...\n",
       "6        NaN    9. Disability Rights Approach toward Bioethics?\n",
       "7       54.0  Stretchable electronics: functional materials,...\n",
       "8        2.0  Thermoelectric properties of sorted semiconduc...\n",
       "9        NaN    Fifteen. Threshold 9? Teaching Possible Futures"
      ]
     },
     "execution_count": 19,
     "metadata": {},
     "output_type": "execute_result"
    }
   ],
   "source": [
    "import pandas as pd\n",
    "pd.DataFrame(dslquery(\"\"\"\n",
    "     search publications for \"nanotechnology\"\n",
    "     return publications[title+altmetric] \n",
    "     limit 10\n",
    "\"\"\")['publications'])"
   ]
  },
  {
   "cell_type": "markdown",
   "metadata": {
    "Collapsed": "false"
   },
   "source": [
    "---\n",
    "# Want to learn more?\n",
    "\n",
    "Check out the [Dimensions API Lab](https://digital-science.github.io/dimensions-api-lab/) website, which contains many tutorials and reusable Jupyter notebooks for scholarly data analytics. "
   ]
  }
 ],
 "metadata": {
  "kernel_info": {
   "name": "dimcli_env"
  },
  "kernelspec": {
   "display_name": "dimcli_env",
   "language": "python",
   "name": "dimcli_env"
  },
  "language_info": {
   "codemirror_mode": {
    "name": "ipython",
    "version": 3
   },
   "file_extension": ".py",
   "mimetype": "text/x-python",
   "name": "python",
   "nbconvert_exporter": "python",
   "pygments_lexer": "ipython3",
   "version": "3.7.4"
  },
  "nteract": {
   "version": "0.14.5"
  }
 },
 "nbformat": 4,
 "nbformat_minor": 4
}
