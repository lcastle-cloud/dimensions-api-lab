{
 "cells": [
  {
   "cell_type": "markdown",
   "metadata": {
    "Collapsed": "false"
   },
   "source": [
    "<a href=\"https://colab.research.google.com/github/digital-science/dimensions-api-lab/blob/master/3-workshops/2019-04-Technical-University-of-Denmark/10-Industry.ipynb\" target=\"_parent\"><img src=\"https://colab.research.google.com/assets/colab-badge.svg\" alt=\"Open Dimensions API Lab In Google Colab\"/></a>"
   ]
  },
  {
   "cell_type": "markdown",
   "metadata": {
    "Collapsed": "false"
   },
   "source": [
    "## Using GRID and Dimensions together to identify Industry collaboration\n",
    "\n",
    "\n",
    "Because Dimensions uses external identifiers for institutions, you can integrate external data from GRID.ac with Dimensions queries.\n",
    "\n",
    "In this example we download the GRID dataset, and identify all institutions that have an Industry type. The list of industry types is then used to identify industry collaboration within an institution "
   ]
  },
  {
   "cell_type": "code",
   "execution_count": null,
   "metadata": {
    "Collapsed": "false"
   },
   "outputs": [],
   "source": [
    "import pandas as pd\n",
    "from dimcli.shortcuts import dslquery_json as dslquery\n",
    "import zipfile as zf\n",
    "import io\n",
    "import requests"
   ]
  },
  {
   "cell_type": "markdown",
   "metadata": {
    "Collapsed": "false"
   },
   "source": [
    "## First download the GRID dataset, and extract the types.csv file\n",
    "you can get the GRID dataset from here: https://grid.ac/downloads\n",
    "Once unzipped, put the types.csv file in your notebook directory..."
   ]
  },
  {
   "cell_type": "code",
   "execution_count": null,
   "metadata": {
    "Collapsed": "false"
   },
   "outputs": [],
   "source": [
    "#grid_types = pd.read_csv(\"types.csv\")"
   ]
  },
  {
   "cell_type": "markdown",
   "metadata": {
    "Collapsed": "false"
   },
   "source": [
    "## You can also download the latest release directly from Figshare...\n"
   ]
  },
  {
   "cell_type": "code",
   "execution_count": null,
   "metadata": {
    "Collapsed": "false"
   },
   "outputs": [],
   "source": [
    "grid_versions = pd.DataFrame(\n",
    "    requests.get(\"https://api.figshare.com/v2/collections/3812929/articles\").json()\n",
    ").sort_values('published_date', ascending=False)\n",
    "\n",
    "grid_versions.head(2)"
   ]
  },
  {
   "cell_type": "code",
   "execution_count": null,
   "metadata": {
    "Collapsed": "false"
   },
   "outputs": [],
   "source": [
    "grid_download_url = requests.get(grid_versions.loc[1]['url_public_api']).json()['files'][0]['download_url']\n",
    "\n",
    "with zf.ZipFile(\n",
    "                io.BytesIO(requests.get(grid_download_url).content)\n",
    "                ) as thezip:\n",
    "    \n",
    "    grid_types = pd.read_csv(thezip.open('full_tables/types.csv'))"
   ]
  },
  {
   "cell_type": "code",
   "execution_count": null,
   "metadata": {
    "Collapsed": "false"
   },
   "outputs": [],
   "source": [
    "grid_types.head(40)"
   ]
  },
  {
   "cell_type": "code",
   "execution_count": null,
   "metadata": {
    "Collapsed": "false"
   },
   "outputs": [],
   "source": [
    "company_grids = grid_types.loc[grid_types['type'] == 'Company']"
   ]
  },
  {
   "cell_type": "code",
   "execution_count": null,
   "metadata": {
    "Collapsed": "false"
   },
   "outputs": [],
   "source": [
    "company_grids.head()"
   ]
  },
  {
   "cell_type": "code",
   "execution_count": null,
   "metadata": {
    "Collapsed": "false"
   },
   "outputs": [],
   "source": [
    "grids = list(company_grids.grid_id.unique())\n",
    "print(len(grids))"
   ]
  },
  {
   "cell_type": "code",
   "execution_count": null,
   "metadata": {
    "Collapsed": "false"
   },
   "outputs": [],
   "source": [
    "institution = 'grid.147455.6'"
   ]
  },
  {
   "cell_type": "code",
   "execution_count": null,
   "metadata": {
    "Collapsed": "false"
   },
   "outputs": [],
   "source": [
    "def publicationsfromgrid(grids,limit=1000,skip=0):\n",
    "    searchstring = \"\"\"\n",
    "    search publications\n",
    "       where\n",
    "        research_orgs.id = \"{}\"\n",
    "        and research_orgs.id in [{}]\n",
    "        and year > \"2007\"\n",
    "    return publications[id+doi+times_cited+year+author_affiliations] limit {} skip {}\n",
    "    \"\"\".format(institution,\",\".join([ '\"{}\"'.format(g) for g in grids]),limit,skip)\n",
    "    print (searchstring)\n",
    "    return searchstring"
   ]
  },
  {
   "cell_type": "code",
   "execution_count": null,
   "metadata": {
    "Collapsed": "false"
   },
   "outputs": [],
   "source": [
    "def dslsearchpublications(grids):\n",
    "    skip = 0\n",
    "    pubs = []\n",
    "    total_pubs = []\n",
    "    result = {}\n",
    "    while (skip == 0) or (len(pubs) == 1000):\n",
    "        pubs = dslquery(publicationsfromgrid(grids,skip=skip)).get('publications',[])\n",
    "        total_pubs += pubs\n",
    "        skip += 1000      \n",
    "                            \n",
    "    return total_pubs"
   ]
  },
  {
   "cell_type": "code",
   "execution_count": null,
   "metadata": {
    "Collapsed": "false"
   },
   "outputs": [],
   "source": [
    "def publicationsfromgridlist(grids):\n",
    "    pubs=[]\n",
    "    \n",
    "    idchunks = [grids[x:x + 499] for x in range(0, len(grids), 499)]\n",
    "    for ids in idchunks:\n",
    "        pubs += dslsearchpublications(ids)\n",
    "        print(len(pubs))\n",
    "        \n",
    "    return pubs"
   ]
  },
  {
   "cell_type": "code",
   "execution_count": null,
   "metadata": {
    "Collapsed": "false"
   },
   "outputs": [],
   "source": [
    "industry_pubs = publicationsfromgridlist(grids)"
   ]
  },
  {
   "cell_type": "code",
   "execution_count": null,
   "metadata": {
    "Collapsed": "false"
   },
   "outputs": [],
   "source": [
    "len(industry_pubs)"
   ]
  },
  {
   "cell_type": "markdown",
   "metadata": {
    "Collapsed": "false"
   },
   "source": [
    "# Citations from Industry Collaboration"
   ]
  },
  {
   "cell_type": "code",
   "execution_count": null,
   "metadata": {
    "Collapsed": "false"
   },
   "outputs": [],
   "source": [
    "pd.DataFrame(industry_pubs).groupby(['year']).sum().plot(kind='bar')"
   ]
  },
  {
   "cell_type": "code",
   "execution_count": null,
   "metadata": {
    "Collapsed": "false"
   },
   "outputs": [],
   "source": [
    "pd.DataFrame(industry_pubs)[['doi','year']]. \\\n",
    "    groupby(['year']). \\\n",
    "    count(). \\\n",
    "    plot(kind='bar')"
   ]
  },
  {
   "cell_type": "code",
   "execution_count": null,
   "metadata": {
    "Collapsed": "false"
   },
   "outputs": [],
   "source": [
    "industry_aff = [dict( \n",
    "       year = p['year'],\n",
    "       pubid = p['id'],\n",
    "       grid = aff['id'],\n",
    "       inst = aff['name']\n",
    "    \n",
    "     )\n",
    "    for p in industry_pubs\n",
    "    for auth in p.get('author_affiliations', [{}])[0]\n",
    "    for aff in auth.get('affiliations',[])\n",
    "       if aff.get('id','') in grids\n",
    "      \n",
    "]\n",
    "\n"
   ]
  },
  {
   "cell_type": "code",
   "execution_count": null,
   "metadata": {
    "Collapsed": "false"
   },
   "outputs": [],
   "source": [
    "idf = pd.DataFrame(industry_aff).drop_duplicates()"
   ]
  },
  {
   "cell_type": "code",
   "execution_count": null,
   "metadata": {
    "Collapsed": "false"
   },
   "outputs": [],
   "source": [
    "idf[['inst','grid','pubid']]. \\\n",
    "    groupby(['inst','grid']). \\\n",
    "    count(). \\\n",
    "    reset_index(). \\\n",
    "    sort_values(by='pubid', ascending=False)"
   ]
  },
  {
   "cell_type": "markdown",
   "metadata": {
    "Collapsed": "false"
   },
   "source": [
    "---\n",
    "# Want to learn more?\n",
    "\n",
    "Check out the [Dimensions API Lab](https://digital-science.github.io/dimensions-api-lab/) website, which contains many tutorials and reusable Jupyter notebooks for scholarly data analytics. "
   ]
  }
 ],
 "metadata": {
  "kernel_info": {
   "name": "python3"
  },
  "kernelspec": {
   "display_name": "Python 3",
   "language": "python",
   "name": "python3"
  },
  "language_info": {
   "codemirror_mode": {
    "name": "ipython",
    "version": 3
   },
   "file_extension": ".py",
   "mimetype": "text/x-python",
   "name": "python",
   "nbconvert_exporter": "python",
   "pygments_lexer": "ipython3",
   "version": "3.7.4"
  },
  "nteract": {
   "version": "0.14.5"
  }
 },
 "nbformat": 4,
 "nbformat_minor": 4
}
