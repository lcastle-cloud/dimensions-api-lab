{
 "cells": [
  {
   "cell_type": "markdown",
   "metadata": {
    "Collapsed": "false"
   },
   "source": [
    "<a href=\"https://colab.research.google.com/github/digital-science/dimensions-api-lab/blob/master/3-workshops/2019-04-Technical-University-of-Denmark/11-international-collaboration-by-year.ipynb\" target=\"_parent\"><img src=\"https://colab.research.google.com/assets/colab-badge.svg\" alt=\"Open Dimensions API Lab In Google Colab\"/></a>"
   ]
  },
  {
   "cell_type": "markdown",
   "metadata": {
    "Collapsed": "false"
   },
   "source": [
    "# Collaboration Patterns By Year (International, Domestic, Internal)\n",
    "\n",
    "Using the count capability of the API, Dimensions allows you to quickly identify international, domestic, and inernal Collaboration"
   ]
  },
  {
   "cell_type": "code",
   "execution_count": null,
   "metadata": {
    "Collapsed": "false"
   },
   "outputs": [],
   "source": [
    "from dimcli.shortcuts import dslquery_json as dslquery"
   ]
  },
  {
   "cell_type": "code",
   "execution_count": null,
   "metadata": {
    "Collapsed": "false"
   },
   "outputs": [],
   "source": [
    "import pandas as pd"
   ]
  },
  {
   "cell_type": "markdown",
   "metadata": {
    "Collapsed": "false"
   },
   "source": [
    "## Lookup the University that you are interested in"
   ]
  },
  {
   "cell_type": "code",
   "execution_count": null,
   "metadata": {
    "Collapsed": "false"
   },
   "outputs": [],
   "source": [
    "pd.DataFrame(\n",
    "\n",
    "    dslquery(\"\"\"\n",
    "    \n",
    "        search publications \n",
    "            where research_orgs.name ~ \"Melbourne\"\n",
    "        return research_orgs\n",
    "    \n",
    "    \n",
    "    \"\"\")['research_orgs']\n",
    "\n",
    ").head(5)"
   ]
  },
  {
   "cell_type": "code",
   "execution_count": null,
   "metadata": {
    "Collapsed": "false"
   },
   "outputs": [],
   "source": [
    "institution = \"grid.1008.9\""
   ]
  },
  {
   "cell_type": "markdown",
   "metadata": {
    "Collapsed": "false"
   },
   "source": [
    "## Publications output by year"
   ]
  },
  {
   "cell_type": "code",
   "execution_count": null,
   "metadata": {
    "Collapsed": "false"
   },
   "outputs": [],
   "source": [
    "allpubs = pd.DataFrame(\n",
    "\n",
    "    dslquery(\"\"\"\n",
    "    \n",
    "        search publications \n",
    "            where research_orgs.id = \"{}\"\n",
    "            and type=\"article\"\n",
    "            and year > \"2010\"\n",
    "        return year\n",
    "    \n",
    "    \n",
    "    \"\"\".format(institution))['year']\n",
    "\n",
    ")\n",
    "\n",
    "\n",
    "allpubs.columns = ['all_count','year']\n",
    "allpubs.sort_values(by=['year']).plot(kind='bar',x='year')"
   ]
  },
  {
   "cell_type": "markdown",
   "metadata": {
    "Collapsed": "false"
   },
   "source": [
    "## International publications"
   ]
  },
  {
   "cell_type": "code",
   "execution_count": null,
   "metadata": {
    "Collapsed": "false"
   },
   "outputs": [],
   "source": [
    "international = pd.DataFrame(\n",
    "\n",
    "    dslquery(\"\"\"\n",
    "    \n",
    "        search publications \n",
    "            where research_orgs.id = \"{}\"\n",
    "                and type=\"article\"\n",
    "                and count(research_org_countries) > 1\n",
    "                 and year > \"2010\"\n",
    "        return year\n",
    "    \n",
    "    \n",
    "    \"\"\".format(institution))['year']\n",
    "\n",
    ")\n",
    "international.columns = ['international_count','year']\n",
    "international.sort_values(by=['year']).plot(kind='bar',x='year')"
   ]
  },
  {
   "cell_type": "markdown",
   "metadata": {
    "Collapsed": "false"
   },
   "source": [
    "## Domestic"
   ]
  },
  {
   "cell_type": "code",
   "execution_count": null,
   "metadata": {
    "Collapsed": "false"
   },
   "outputs": [],
   "source": [
    "domestic = pd.DataFrame(\n",
    "\n",
    "    dslquery(\"\"\"\n",
    "    \n",
    "        search publications \n",
    "            where research_orgs.id = \"{}\"\n",
    "                and type=\"article\"\n",
    "                and count(research_org_countries) = 1\n",
    "               and year > \"2010\"\n",
    "            \n",
    "        return year\n",
    "    \n",
    "    \n",
    "    \"\"\".format(institution))['year']\n",
    "\n",
    ")\n",
    "domestic.columns = ['domestic_count','year']\n",
    "domestic.sort_values(by=['year']).plot(kind='bar',x='year')"
   ]
  },
  {
   "cell_type": "markdown",
   "metadata": {
    "Collapsed": "false"
   },
   "source": [
    "## Internal"
   ]
  },
  {
   "cell_type": "code",
   "execution_count": null,
   "metadata": {
    "Collapsed": "false"
   },
   "outputs": [],
   "source": [
    "internal = pd.DataFrame(\n",
    "\n",
    "    dslquery(\"\"\"\n",
    "    \n",
    "        search publications \n",
    "            where research_orgs.id = \"{}\"\n",
    "                and type=\"article\"\n",
    "                and count(research_orgs) = 1\n",
    "               and year > \"2010\"\n",
    "            \n",
    "        return year\n",
    "    \n",
    "    \n",
    "    \"\"\".format(institution))['year']\n",
    "\n",
    ")\n",
    "internal.columns = ['internal_count','year']\n",
    "internal.sort_values(by=['year']).plot(kind='bar',x='year')"
   ]
  },
  {
   "cell_type": "code",
   "execution_count": null,
   "metadata": {
    "Collapsed": "false"
   },
   "outputs": [],
   "source": [
    "jdf = allpubs.set_index('year'). \\\n",
    "      join(international.set_index('year')). \\\n",
    "      join(domestic.set_index('year')). \\\n",
    "      join(internal.set_index('year')) \n",
    "      "
   ]
  },
  {
   "cell_type": "code",
   "execution_count": null,
   "metadata": {
    "Collapsed": "false"
   },
   "outputs": [],
   "source": [
    "jdf"
   ]
  },
  {
   "cell_type": "code",
   "execution_count": null,
   "metadata": {
    "Collapsed": "false"
   },
   "outputs": [],
   "source": [
    "jdf.sort_values(by=['year']).plot(kind='bar',figsize=(15,10))"
   ]
  },
  {
   "cell_type": "markdown",
   "metadata": {
    "Collapsed": "false"
   },
   "source": [
    "## How does this compare to Australia?"
   ]
  },
  {
   "cell_type": "code",
   "execution_count": null,
   "metadata": {
    "Collapsed": "false"
   },
   "outputs": [],
   "source": [
    "auallpubs = pd.DataFrame(\n",
    "\n",
    "dslquery(\"\"\"\n",
    "    \n",
    "        search publications \n",
    "            where research_org_countries.name= \"Australia\"\n",
    "            and type=\"article\"\n",
    "            and year > \"2010\"\n",
    "        return year\n",
    "        \n",
    "    \"\"\")['year']\n",
    ")\n",
    "\n",
    "auallpubs.columns = ['all_count','year']\n",
    "\n",
    "auintpubs = pd.DataFrame(\n",
    "\n",
    "dslquery(\"\"\"\n",
    "    \n",
    "        search publications \n",
    "            where research_org_countries.name= \"Australia\"\n",
    "            and type=\"article\"\n",
    "            and year > \"2010\"\n",
    "            and count(research_org_countries) > 1\n",
    "        return year\n",
    "        \n",
    "    \"\"\")['year']\n",
    ")\n",
    "\n",
    "auintpubs.columns = ['all_int_count','year']\n",
    "\n",
    "\n",
    "audompubs = pd.DataFrame(\n",
    "\n",
    "dslquery(\"\"\"\n",
    "    \n",
    "        search publications \n",
    "            where research_org_countries.name= \"Australia\"\n",
    "            and type=\"article\"\n",
    "            and year > \"2010\"\n",
    "            and count(research_org_countries) = 1\n",
    "        return year\n",
    "        \n",
    "    \"\"\")['year']\n",
    ")\n",
    "\n",
    "audompubs.columns = ['all_dom_count','year']\n",
    "\n",
    "auinternalpubs = pd.DataFrame(\n",
    "\n",
    "dslquery(\"\"\"\n",
    "    \n",
    "        search publications \n",
    "            where \n",
    "            research_org_countries.name= \"Australia\"\n",
    "            and count(research_orgs) = 1\n",
    "            and type=\"article\"\n",
    "            and year > \"2010\"\n",
    "        return year\n",
    "        \n",
    "    \"\"\")['year']\n",
    ")\n",
    "\n",
    "auinternalpubs.columns = ['all_internal_count','year']\n",
    "\n",
    "audf = auallpubs.set_index('year'). \\\n",
    "      join(auintpubs.set_index('year')). \\\n",
    "      join(audompubs.set_index('year')). \\\n",
    "      join(auinternalpubs.set_index('year')). \\\n",
    "      sort_values(by=['year'])\n",
    "\n",
    "audf.plot(kind='bar',figsize=(15,15))"
   ]
  },
  {
   "cell_type": "markdown",
   "metadata": {
    "Collapsed": "false"
   },
   "source": [
    "## How does this compare to a different Institution  (University of Toronto)?"
   ]
  },
  {
   "cell_type": "code",
   "execution_count": null,
   "metadata": {
    "Collapsed": "false"
   },
   "outputs": [],
   "source": [
    "institution = \"grid.17063.33\"\n",
    "\n",
    "allpubs = pd.DataFrame(\n",
    "\n",
    "    dslquery(\"\"\"\n",
    "    \n",
    "        search publications \n",
    "            where research_orgs.id = \"{}\"\n",
    "            and type=\"article\"\n",
    "            and year > \"2012\"\n",
    "        return year\n",
    "    \n",
    "    \n",
    "    \"\"\".format(institution))['year']\n",
    "\n",
    ")\n",
    "\n",
    "\n",
    "allpubs.columns = ['all_count','year']\n",
    "\n",
    "international = pd.DataFrame(\n",
    "\n",
    "    dslquery(\"\"\"\n",
    "    \n",
    "        search publications \n",
    "            where research_orgs.id = \"{}\"\n",
    "                and type=\"article\"\n",
    "                and count(research_org_countries) > 1\n",
    "                 and year > \"2012\"\n",
    "        return year\n",
    "    \n",
    "    \n",
    "    \"\"\".format(institution))['year']\n",
    "\n",
    ")\n",
    "international.columns = ['international_count','year']\n",
    "\n",
    "domestic = pd.DataFrame(\n",
    "\n",
    "    dslquery(\"\"\"\n",
    "    \n",
    "        search publications \n",
    "            where research_orgs.id = \"{}\"\n",
    "                and type=\"article\"\n",
    "                and count(research_org_countries) = 1\n",
    "               and year > \"2012\"\n",
    "            \n",
    "        return year\n",
    "    \n",
    "    \n",
    "    \"\"\".format(institution))['year']\n",
    "\n",
    ")\n",
    "domestic.columns = ['domestic_count','year']\n",
    "\n",
    "jdf = allpubs.set_index('year'). \\\n",
    "      join(international.set_index('year')). \\\n",
    "      join(domestic.set_index('year'))\n",
    "\n",
    "jdf.sort_values(by=['year']).plot(kind='bar',figsize=(15,10))"
   ]
  },
  {
   "cell_type": "markdown",
   "metadata": {
    "Collapsed": "false"
   },
   "source": [
    "---\n",
    "# Want to learn more?\n",
    "\n",
    "Check out the [Dimensions API Lab](https://digital-science.github.io/dimensions-api-lab/) website, which contains many tutorials and reusable Jupyter notebooks for scholarly data analytics. "
   ]
  }
 ],
 "metadata": {
  "kernel_info": {
   "name": "python3"
  },
  "kernelspec": {
   "display_name": "Python 3",
   "language": "python",
   "name": "python3"
  },
  "language_info": {
   "codemirror_mode": {
    "name": "ipython",
    "version": 3
   },
   "file_extension": ".py",
   "mimetype": "text/x-python",
   "name": "python",
   "nbconvert_exporter": "python",
   "pygments_lexer": "ipython3",
   "version": "3.7.4"
  },
  "nteract": {
   "version": "0.14.5"
  }
 },
 "nbformat": 4,
 "nbformat_minor": 4
}
