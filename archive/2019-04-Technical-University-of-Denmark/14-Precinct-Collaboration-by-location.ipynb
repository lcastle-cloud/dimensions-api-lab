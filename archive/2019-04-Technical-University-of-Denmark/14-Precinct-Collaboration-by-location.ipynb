{
 "cells": [
  {
   "cell_type": "markdown",
   "metadata": {
    "Collapsed": "false"
   },
   "source": [
    "<a href=\"https://colab.research.google.com/github/digital-science/dimensions-api-lab/blob/master/3-workshops/2019-04-Technical-University-of-Denmark/14-Precinct-Collaboration-by-location.ipynb\" target=\"_parent\"><img src=\"https://colab.research.google.com/assets/colab-badge.svg\" alt=\"Open Dimensions API Lab In Google Colab\"/></a>"
   ]
  },
  {
   "cell_type": "markdown",
   "metadata": {
    "Collapsed": "false"
   },
   "source": [
    "## Using GRID and Dimensions together to identify Collaboration within a region"
   ]
  },
  {
   "cell_type": "code",
   "execution_count": 1,
   "metadata": {
    "Collapsed": "false"
   },
   "outputs": [
    {
     "ename": "ModuleNotFoundError",
     "evalue": "No module named 'geopy'",
     "output_type": "error",
     "traceback": [
      "\u001b[0;31m---------------------------------------------------------------------------\u001b[0m",
      "\u001b[0;31mModuleNotFoundError\u001b[0m                       Traceback (most recent call last)",
      "\u001b[0;32m<ipython-input-1-9f9c6445788b>\u001b[0m in \u001b[0;36m<module>\u001b[0;34m\u001b[0m\n\u001b[1;32m      4\u001b[0m \u001b[0;32mimport\u001b[0m \u001b[0mio\u001b[0m\u001b[0;34m\u001b[0m\u001b[0;34m\u001b[0m\u001b[0m\n\u001b[1;32m      5\u001b[0m \u001b[0;32mimport\u001b[0m \u001b[0mrequests\u001b[0m\u001b[0;34m\u001b[0m\u001b[0;34m\u001b[0m\u001b[0m\n\u001b[0;32m----> 6\u001b[0;31m \u001b[0;32mimport\u001b[0m \u001b[0mgeopy\u001b[0m\u001b[0;34m.\u001b[0m\u001b[0mdistance\u001b[0m\u001b[0;34m\u001b[0m\u001b[0;34m\u001b[0m\u001b[0m\n\u001b[0m",
      "\u001b[0;31mModuleNotFoundError\u001b[0m: No module named 'geopy'"
     ]
    }
   ],
   "source": [
    "from dimcli.shortcuts import dslquery_json as dslquery\n",
    "import pandas as pd\n",
    "import zipfile as zf\n",
    "import io\n",
    "import requests\n",
    "import geopy.distance"
   ]
  },
  {
   "cell_type": "markdown",
   "metadata": {
    "Collapsed": "false"
   },
   "source": [
    "## First download the GRID dataset, and extract the addresses.csv file\n",
    "you can get the GRID dataset from here: https://grid.ac/downloads\n",
    "Once unzipped, put the types.csv file in your notebook directory..."
   ]
  },
  {
   "cell_type": "markdown",
   "metadata": {
    "Collapsed": "false"
   },
   "source": [
    "## you can also download the latest release directly from Figshare...\n"
   ]
  },
  {
   "cell_type": "code",
   "execution_count": 2,
   "metadata": {
    "Collapsed": "false"
   },
   "outputs": [
    {
     "data": {
      "text/html": [
       "<div>\n",
       "<style scoped>\n",
       "    .dataframe tbody tr th:only-of-type {\n",
       "        vertical-align: middle;\n",
       "    }\n",
       "\n",
       "    .dataframe tbody tr th {\n",
       "        vertical-align: top;\n",
       "    }\n",
       "\n",
       "    .dataframe thead th {\n",
       "        text-align: right;\n",
       "    }\n",
       "</style>\n",
       "<table border=\"1\" class=\"dataframe\">\n",
       "  <thead>\n",
       "    <tr style=\"text-align: right;\">\n",
       "      <th></th>\n",
       "      <th>defined_type</th>\n",
       "      <th>doi</th>\n",
       "      <th>group_id</th>\n",
       "      <th>id</th>\n",
       "      <th>published_date</th>\n",
       "      <th>thumb</th>\n",
       "      <th>title</th>\n",
       "      <th>url</th>\n",
       "      <th>url_private_api</th>\n",
       "      <th>url_private_html</th>\n",
       "      <th>url_public_api</th>\n",
       "      <th>url_public_html</th>\n",
       "    </tr>\n",
       "  </thead>\n",
       "  <tbody>\n",
       "    <tr>\n",
       "      <th>0</th>\n",
       "      <td>4</td>\n",
       "      <td>10.6084/m9.figshare.6683654.v1</td>\n",
       "      <td>6072</td>\n",
       "      <td>6683654</td>\n",
       "      <td>2018-06-27T09:50:05Z</td>\n",
       "      <td></td>\n",
       "      <td>GRID release 2018-06-25</td>\n",
       "      <td>https://api.figshare.com/v2/articles/6683654</td>\n",
       "      <td>https://api.figshare.com/v2/account/articles/6...</td>\n",
       "      <td>https://figshare.com/account/articles/6683654</td>\n",
       "      <td>https://api.figshare.com/v2/articles/6683654</td>\n",
       "      <td>https://figshare.com/articles/GRID_release_201...</td>\n",
       "    </tr>\n",
       "    <tr>\n",
       "      <th>1</th>\n",
       "      <td>4</td>\n",
       "      <td>10.6084/m9.figshare.6216392.v1</td>\n",
       "      <td>6072</td>\n",
       "      <td>6216392</td>\n",
       "      <td>2018-05-03T13:02:09Z</td>\n",
       "      <td></td>\n",
       "      <td>GRID release 2018-05-01</td>\n",
       "      <td>https://api.figshare.com/v2/articles/6216392</td>\n",
       "      <td>https://api.figshare.com/v2/account/articles/6...</td>\n",
       "      <td>https://figshare.com/account/articles/6216392</td>\n",
       "      <td>https://api.figshare.com/v2/articles/6216392</td>\n",
       "      <td>https://figshare.com/articles/GRID_release_201...</td>\n",
       "    </tr>\n",
       "  </tbody>\n",
       "</table>\n",
       "</div>"
      ],
      "text/plain": [
       "   defined_type                             doi  group_id       id  \\\n",
       "0             4  10.6084/m9.figshare.6683654.v1      6072  6683654   \n",
       "1             4  10.6084/m9.figshare.6216392.v1      6072  6216392   \n",
       "\n",
       "         published_date thumb                    title  \\\n",
       "0  2018-06-27T09:50:05Z        GRID release 2018-06-25   \n",
       "1  2018-05-03T13:02:09Z        GRID release 2018-05-01   \n",
       "\n",
       "                                            url  \\\n",
       "0  https://api.figshare.com/v2/articles/6683654   \n",
       "1  https://api.figshare.com/v2/articles/6216392   \n",
       "\n",
       "                                     url_private_api  \\\n",
       "0  https://api.figshare.com/v2/account/articles/6...   \n",
       "1  https://api.figshare.com/v2/account/articles/6...   \n",
       "\n",
       "                                url_private_html  \\\n",
       "0  https://figshare.com/account/articles/6683654   \n",
       "1  https://figshare.com/account/articles/6216392   \n",
       "\n",
       "                                 url_public_api  \\\n",
       "0  https://api.figshare.com/v2/articles/6683654   \n",
       "1  https://api.figshare.com/v2/articles/6216392   \n",
       "\n",
       "                                     url_public_html  \n",
       "0  https://figshare.com/articles/GRID_release_201...  \n",
       "1  https://figshare.com/articles/GRID_release_201...  "
      ]
     },
     "execution_count": 2,
     "metadata": {},
     "output_type": "execute_result"
    }
   ],
   "source": [
    "grid_versions = pd.DataFrame(\n",
    "    requests.get(\"https://api.figshare.com/v2/collections/3812929/articles\").json()\n",
    ").sort_values('published_date', ascending=False)\n",
    "\n",
    "grid_versions.head(2)"
   ]
  },
  {
   "cell_type": "code",
   "execution_count": 65,
   "metadata": {
    "Collapsed": "false"
   },
   "outputs": [],
   "source": [
    "grid_download_url = requests.get(grid_versions.loc[1]['url_public_api']).json()['files'][0]['download_url']\n",
    "\n",
    "with zf.ZipFile(\n",
    "                io.BytesIO(requests.get(grid_download_url).content)\n",
    "                ) as thezip:\n",
    "    \n",
    "    grid_addresses = pd.read_csv(thezip.open('full_tables/addresses.csv'),low_memory=False)\n",
    "    grid_institutes = pd.read_csv(thezip.open('full_tables/institutes.csv'),low_memory=False)"
   ]
  },
  {
   "cell_type": "code",
   "execution_count": 70,
   "metadata": {
    "Collapsed": "false"
   },
   "outputs": [],
   "source": [
    "grid_details = grid_institutes.merge(grid_addresses, left_on='grid_id', right_on='grid_id', how='outer')"
   ]
  },
  {
   "cell_type": "code",
   "execution_count": 129,
   "metadata": {
    "Collapsed": "false"
   },
   "outputs": [
    {
     "data": {
      "text/html": [
       "<div>\n",
       "<style scoped>\n",
       "    .dataframe tbody tr th:only-of-type {\n",
       "        vertical-align: middle;\n",
       "    }\n",
       "\n",
       "    .dataframe tbody tr th {\n",
       "        vertical-align: top;\n",
       "    }\n",
       "\n",
       "    .dataframe thead th {\n",
       "        text-align: right;\n",
       "    }\n",
       "</style>\n",
       "<table border=\"1\" class=\"dataframe\">\n",
       "  <thead>\n",
       "    <tr style=\"text-align: right;\">\n",
       "      <th></th>\n",
       "      <th>grid_id</th>\n",
       "      <th>name</th>\n",
       "      <th>wikipedia_url</th>\n",
       "      <th>email_address</th>\n",
       "      <th>established</th>\n",
       "      <th>line_1</th>\n",
       "      <th>line_2</th>\n",
       "      <th>line_3</th>\n",
       "      <th>lat</th>\n",
       "      <th>lng</th>\n",
       "      <th>postcode</th>\n",
       "      <th>primary</th>\n",
       "      <th>city</th>\n",
       "      <th>state</th>\n",
       "      <th>state_code</th>\n",
       "      <th>country</th>\n",
       "      <th>country_code</th>\n",
       "      <th>geonames_city_id</th>\n",
       "      <th>dist_from_melbourne</th>\n",
       "    </tr>\n",
       "  </thead>\n",
       "  <tbody>\n",
       "    <tr>\n",
       "      <th>0</th>\n",
       "      <td>grid.1001.0</td>\n",
       "      <td>Australian National University</td>\n",
       "      <td>http://en.wikipedia.org/wiki/Australian_Nation...</td>\n",
       "      <td>NaN</td>\n",
       "      <td>1946.0</td>\n",
       "      <td>NaN</td>\n",
       "      <td>NaN</td>\n",
       "      <td>NaN</td>\n",
       "      <td>-35.277800</td>\n",
       "      <td>149.120500</td>\n",
       "      <td>NaN</td>\n",
       "      <td>False</td>\n",
       "      <td>Canberra</td>\n",
       "      <td>Australian Capital Territory</td>\n",
       "      <td>AU-ACT</td>\n",
       "      <td>Australia</td>\n",
       "      <td>AU</td>\n",
       "      <td>2172517.0</td>\n",
       "      <td>465.706096</td>\n",
       "    </tr>\n",
       "    <tr>\n",
       "      <th>1</th>\n",
       "      <td>grid.1002.3</td>\n",
       "      <td>Monash University</td>\n",
       "      <td>http://en.wikipedia.org/wiki/Monash_University</td>\n",
       "      <td>NaN</td>\n",
       "      <td>1958.0</td>\n",
       "      <td>NaN</td>\n",
       "      <td>NaN</td>\n",
       "      <td>NaN</td>\n",
       "      <td>-37.908300</td>\n",
       "      <td>145.138000</td>\n",
       "      <td>NaN</td>\n",
       "      <td>False</td>\n",
       "      <td>Melbourne</td>\n",
       "      <td>Victoria</td>\n",
       "      <td>AU-VIC</td>\n",
       "      <td>Australia</td>\n",
       "      <td>AU</td>\n",
       "      <td>2158177.0</td>\n",
       "      <td>19.944366</td>\n",
       "    </tr>\n",
       "    <tr>\n",
       "      <th>2</th>\n",
       "      <td>grid.1003.2</td>\n",
       "      <td>University of Queensland</td>\n",
       "      <td>http://en.wikipedia.org/wiki/University_of_Que...</td>\n",
       "      <td>NaN</td>\n",
       "      <td>1909.0</td>\n",
       "      <td>NaN</td>\n",
       "      <td>NaN</td>\n",
       "      <td>NaN</td>\n",
       "      <td>-27.495964</td>\n",
       "      <td>153.009627</td>\n",
       "      <td>NaN</td>\n",
       "      <td>False</td>\n",
       "      <td>Brisbane</td>\n",
       "      <td>Queensland</td>\n",
       "      <td>AU-QLD</td>\n",
       "      <td>Australia</td>\n",
       "      <td>AU</td>\n",
       "      <td>2174003.0</td>\n",
       "      <td>1368.120576</td>\n",
       "    </tr>\n",
       "    <tr>\n",
       "      <th>3</th>\n",
       "      <td>grid.1004.5</td>\n",
       "      <td>Macquarie University</td>\n",
       "      <td>http://en.wikipedia.org/wiki/Macquarie_University</td>\n",
       "      <td>NaN</td>\n",
       "      <td>1964.0</td>\n",
       "      <td>NaN</td>\n",
       "      <td>NaN</td>\n",
       "      <td>NaN</td>\n",
       "      <td>-33.775259</td>\n",
       "      <td>151.112915</td>\n",
       "      <td>NaN</td>\n",
       "      <td>False</td>\n",
       "      <td>Sydney</td>\n",
       "      <td>New South Wales</td>\n",
       "      <td>AU-NSW</td>\n",
       "      <td>Australia</td>\n",
       "      <td>AU</td>\n",
       "      <td>2147714.0</td>\n",
       "      <td>712.839058</td>\n",
       "    </tr>\n",
       "    <tr>\n",
       "      <th>4</th>\n",
       "      <td>grid.1005.4</td>\n",
       "      <td>UNSW Australia</td>\n",
       "      <td>http://en.wikipedia.org/wiki/University_of_New...</td>\n",
       "      <td>NaN</td>\n",
       "      <td>1949.0</td>\n",
       "      <td>NaN</td>\n",
       "      <td>NaN</td>\n",
       "      <td>NaN</td>\n",
       "      <td>-33.917731</td>\n",
       "      <td>151.230964</td>\n",
       "      <td>NaN</td>\n",
       "      <td>False</td>\n",
       "      <td>Sydney</td>\n",
       "      <td>New South Wales</td>\n",
       "      <td>AU-NSW</td>\n",
       "      <td>Australia</td>\n",
       "      <td>AU</td>\n",
       "      <td>2147714.0</td>\n",
       "      <td>711.126541</td>\n",
       "    </tr>\n",
       "  </tbody>\n",
       "</table>\n",
       "</div>"
      ],
      "text/plain": [
       "       grid_id                            name  \\\n",
       "0  grid.1001.0  Australian National University   \n",
       "1  grid.1002.3               Monash University   \n",
       "2  grid.1003.2        University of Queensland   \n",
       "3  grid.1004.5            Macquarie University   \n",
       "4  grid.1005.4                  UNSW Australia   \n",
       "\n",
       "                                       wikipedia_url email_address  \\\n",
       "0  http://en.wikipedia.org/wiki/Australian_Nation...           NaN   \n",
       "1     http://en.wikipedia.org/wiki/Monash_University           NaN   \n",
       "2  http://en.wikipedia.org/wiki/University_of_Que...           NaN   \n",
       "3  http://en.wikipedia.org/wiki/Macquarie_University           NaN   \n",
       "4  http://en.wikipedia.org/wiki/University_of_New...           NaN   \n",
       "\n",
       "   established line_1 line_2  line_3        lat         lng postcode  primary  \\\n",
       "0       1946.0    NaN    NaN     NaN -35.277800  149.120500      NaN    False   \n",
       "1       1958.0    NaN    NaN     NaN -37.908300  145.138000      NaN    False   \n",
       "2       1909.0    NaN    NaN     NaN -27.495964  153.009627      NaN    False   \n",
       "3       1964.0    NaN    NaN     NaN -33.775259  151.112915      NaN    False   \n",
       "4       1949.0    NaN    NaN     NaN -33.917731  151.230964      NaN    False   \n",
       "\n",
       "        city                         state state_code    country country_code  \\\n",
       "0   Canberra  Australian Capital Territory     AU-ACT  Australia           AU   \n",
       "1  Melbourne                      Victoria     AU-VIC  Australia           AU   \n",
       "2   Brisbane                    Queensland     AU-QLD  Australia           AU   \n",
       "3     Sydney               New South Wales     AU-NSW  Australia           AU   \n",
       "4     Sydney               New South Wales     AU-NSW  Australia           AU   \n",
       "\n",
       "   geonames_city_id  dist_from_melbourne  \n",
       "0         2172517.0           465.706096  \n",
       "1         2158177.0            19.944366  \n",
       "2         2174003.0          1368.120576  \n",
       "3         2147714.0           712.839058  \n",
       "4         2147714.0           711.126541  "
      ]
     },
     "execution_count": 129,
     "metadata": {},
     "output_type": "execute_result"
    }
   ],
   "source": [
    "grid_details.head(5)"
   ]
  },
  {
   "cell_type": "markdown",
   "metadata": {
    "Collapsed": "false"
   },
   "source": [
    "## Calculate distance from a point (In this case, the University of Melbourne)"
   ]
  },
  {
   "cell_type": "code",
   "execution_count": 45,
   "metadata": {
    "Collapsed": "false"
   },
   "outputs": [],
   "source": [
    "institution = 'grid.1008.9'"
   ]
  },
  {
   "cell_type": "code",
   "execution_count": 73,
   "metadata": {
    "Collapsed": "false"
   },
   "outputs": [],
   "source": [
    "def gridcoords(df,grid_id):\n",
    "    rw = df[df['grid_id'] == grid_id]\n",
    "    return (rw.iloc[0]['lat'],rw.iloc[0]['lng'])\n",
    "\n",
    "def getdistance(coord1,coord2):\n",
    "    try:\n",
    "        return geopy.distance.distance(coord1,coord2).km\n",
    "    except:\n",
    "        return None\n",
    "\n",
    "source_coords = gridcoords(grid_details,institution)                                                                 \n",
    "\n",
    "grid_details['dist_from_melbourne'] = grid_details.apply (lambda row: getdistance(source_coords,\n",
    "                                                                (row['lat'],row['lng'])\n",
    "                                                             ),axis=1)"
   ]
  },
  {
   "cell_type": "markdown",
   "metadata": {
    "Collapsed": "false"
   },
   "source": [
    "## Identify Institutions within a 1 km radius of the University of Melbourne"
   ]
  },
  {
   "cell_type": "code",
   "execution_count": 139,
   "metadata": {
    "Collapsed": "false"
   },
   "outputs": [],
   "source": [
    "local_grids =  grid_details[grid_details['dist_from_melbourne'] < 1 ]"
   ]
  },
  {
   "cell_type": "code",
   "execution_count": 140,
   "metadata": {
    "Collapsed": "false"
   },
   "outputs": [
    {
     "name": "stdout",
     "output_type": "stream",
     "text": [
      "29\n"
     ]
    }
   ],
   "source": [
    "grids = list(local_grids.grid_id.unique())\n",
    "print(len(grids))"
   ]
  },
  {
   "cell_type": "code",
   "execution_count": 156,
   "metadata": {
    "Collapsed": "false"
   },
   "outputs": [
    {
     "data": {
      "text/html": [
       "<div>\n",
       "<style scoped>\n",
       "    .dataframe tbody tr th:only-of-type {\n",
       "        vertical-align: middle;\n",
       "    }\n",
       "\n",
       "    .dataframe tbody tr th {\n",
       "        vertical-align: top;\n",
       "    }\n",
       "\n",
       "    .dataframe thead th {\n",
       "        text-align: right;\n",
       "    }\n",
       "</style>\n",
       "<table border=\"1\" class=\"dataframe\">\n",
       "  <thead>\n",
       "    <tr style=\"text-align: right;\">\n",
       "      <th></th>\n",
       "      <th>grid_id</th>\n",
       "      <th>name</th>\n",
       "      <th>wikipedia_url</th>\n",
       "      <th>email_address</th>\n",
       "      <th>established</th>\n",
       "      <th>line_1</th>\n",
       "      <th>line_2</th>\n",
       "      <th>line_3</th>\n",
       "      <th>lat</th>\n",
       "      <th>lng</th>\n",
       "      <th>postcode</th>\n",
       "      <th>primary</th>\n",
       "      <th>city</th>\n",
       "      <th>state</th>\n",
       "      <th>state_code</th>\n",
       "      <th>country</th>\n",
       "      <th>country_code</th>\n",
       "      <th>geonames_city_id</th>\n",
       "      <th>dist_from_melbourne</th>\n",
       "    </tr>\n",
       "  </thead>\n",
       "  <tbody>\n",
       "    <tr>\n",
       "      <th>7</th>\n",
       "      <td>grid.1008.9</td>\n",
       "      <td>University of Melbourne</td>\n",
       "      <td>http://en.wikipedia.org/wiki/University_of_Mel...</td>\n",
       "      <td>NaN</td>\n",
       "      <td>1853.0</td>\n",
       "      <td>NaN</td>\n",
       "      <td>NaN</td>\n",
       "      <td>NaN</td>\n",
       "      <td>-37.797115</td>\n",
       "      <td>144.959972</td>\n",
       "      <td>NaN</td>\n",
       "      <td>False</td>\n",
       "      <td>Melbourne</td>\n",
       "      <td>Victoria</td>\n",
       "      <td>AU-VIC</td>\n",
       "      <td>Australia</td>\n",
       "      <td>AU</td>\n",
       "      <td>2158177.0</td>\n",
       "      <td>0.000000</td>\n",
       "    </tr>\n",
       "    <tr>\n",
       "      <th>36</th>\n",
       "      <td>grid.1042.7</td>\n",
       "      <td>Walter and Eliza Hall Institute of Medical Res...</td>\n",
       "      <td>https://en.wikipedia.org/wiki/Walter_and_Eliza...</td>\n",
       "      <td>NaN</td>\n",
       "      <td>1915.0</td>\n",
       "      <td>NaN</td>\n",
       "      <td>NaN</td>\n",
       "      <td>NaN</td>\n",
       "      <td>-37.798000</td>\n",
       "      <td>144.956000</td>\n",
       "      <td>NaN</td>\n",
       "      <td>False</td>\n",
       "      <td>Melbourne</td>\n",
       "      <td>Victoria</td>\n",
       "      <td>AU-VIC</td>\n",
       "      <td>Australia</td>\n",
       "      <td>AU</td>\n",
       "      <td>2158177.0</td>\n",
       "      <td>0.363357</td>\n",
       "    </tr>\n",
       "  </tbody>\n",
       "</table>\n",
       "</div>"
      ],
      "text/plain": [
       "        grid_id                                               name  \\\n",
       "7   grid.1008.9                            University of Melbourne   \n",
       "36  grid.1042.7  Walter and Eliza Hall Institute of Medical Res...   \n",
       "\n",
       "                                        wikipedia_url email_address  \\\n",
       "7   http://en.wikipedia.org/wiki/University_of_Mel...           NaN   \n",
       "36  https://en.wikipedia.org/wiki/Walter_and_Eliza...           NaN   \n",
       "\n",
       "    established line_1 line_2  line_3        lat         lng postcode  \\\n",
       "7        1853.0    NaN    NaN     NaN -37.797115  144.959972      NaN   \n",
       "36       1915.0    NaN    NaN     NaN -37.798000  144.956000      NaN   \n",
       "\n",
       "    primary       city     state state_code    country country_code  \\\n",
       "7     False  Melbourne  Victoria     AU-VIC  Australia           AU   \n",
       "36    False  Melbourne  Victoria     AU-VIC  Australia           AU   \n",
       "\n",
       "    geonames_city_id  dist_from_melbourne  \n",
       "7          2158177.0             0.000000  \n",
       "36         2158177.0             0.363357  "
      ]
     },
     "execution_count": 156,
     "metadata": {},
     "output_type": "execute_result"
    }
   ],
   "source": [
    "local_grids.head(2)"
   ]
  },
  {
   "cell_type": "markdown",
   "metadata": {
    "Collapsed": "false"
   },
   "source": [
    "## Search for all publications produced by these institutions since 2010"
   ]
  },
  {
   "cell_type": "code",
   "execution_count": 143,
   "metadata": {
    "Collapsed": "false"
   },
   "outputs": [],
   "source": [
    "def publicationsfromgrid(grids,limit=1000,pubskip='qpub'):\n",
    "    searchstring = \"\"\"\n",
    "    search publications\n",
    "       where\n",
    "         research_orgs.id in [{}]\n",
    "        and year >= \"2010\"\n",
    "        and id < \"{}\"\n",
    "    return publications[id+doi+times_cited+year+author_affiliations] sort by id\n",
    "    limit {}\n",
    "    \"\"\".format(\",\".join([ '\"{}\"'.format(g) for g in grids]),pubskip,limit)\n",
    "    #print (searchstring)\n",
    "    return searchstring"
   ]
  },
  {
   "cell_type": "code",
   "execution_count": 144,
   "metadata": {
    "Collapsed": "false"
   },
   "outputs": [],
   "source": [
    "def dslsearchpublications(grids):\n",
    "    pubskip = 'q'\n",
    "    pubs = []\n",
    "    total_pubs = []\n",
    "    result = {}\n",
    "    while (pubskip == 'q') or (len(pubs) == 1000):\n",
    "        pubs = dslquery(publicationsfromgrid(grids,pubskip=pubskip)).get('publications',[])\n",
    "        total_pubs += pubs\n",
    "        pubskip = pubs[len(pubs)-1]['id']  \n",
    "            \n",
    "                            \n",
    "    return total_pubs"
   ]
  },
  {
   "cell_type": "code",
   "execution_count": 145,
   "metadata": {
    "Collapsed": "false"
   },
   "outputs": [],
   "source": [
    "def publicationsfromgridlist(grids):\n",
    "    pubs=[]\n",
    "    \n",
    "    idchunks = [grids[x:x + 499] for x in range(0, len(grids), 499)]\n",
    "    for ids in idchunks:\n",
    "        pubs += dslsearchpublications(ids)\n",
    "        print(len(pubs))\n",
    "        \n",
    "    return pubs"
   ]
  },
  {
   "cell_type": "code",
   "execution_count": null,
   "metadata": {
    "Collapsed": "false"
   },
   "outputs": [],
   "source": [
    "industry_pubs = publicationsfromgridlist(grids)"
   ]
  },
  {
   "cell_type": "code",
   "execution_count": 147,
   "metadata": {
    "Collapsed": "false"
   },
   "outputs": [
    {
     "data": {
      "text/plain": [
       "70215"
      ]
     },
     "execution_count": 147,
     "metadata": {},
     "output_type": "execute_result"
    }
   ],
   "source": [
    "len(industry_pubs)"
   ]
  },
  {
   "cell_type": "markdown",
   "metadata": {
    "Collapsed": "false"
   },
   "source": [
    "## Citations by year of publication for the region"
   ]
  },
  {
   "cell_type": "code",
   "execution_count": 148,
   "metadata": {
    "Collapsed": "false"
   },
   "outputs": [
    {
     "data": {
      "text/plain": [
       "<matplotlib.axes._subplots.AxesSubplot at 0x152f18e10>"
      ]
     },
     "execution_count": 148,
     "metadata": {},
     "output_type": "execute_result"
    },
    {
     "data": {
      "image/png": "[encoded data removed]",
      "text/plain": [
       "<Figure size 432x288 with 1 Axes>"
      ]
     },
     "metadata": {},
     "output_type": "display_data"
    }
   ],
   "source": [
    "pd.DataFrame(industry_pubs).groupby(['year']).sum().plot(kind='bar')"
   ]
  },
  {
   "cell_type": "markdown",
   "metadata": {
    "Collapsed": "false"
   },
   "source": [
    "## Publications by year for the region"
   ]
  },
  {
   "cell_type": "code",
   "execution_count": 149,
   "metadata": {
    "Collapsed": "false"
   },
   "outputs": [
    {
     "data": {
      "text/plain": [
       "<matplotlib.axes._subplots.AxesSubplot at 0x146b6c3c8>"
      ]
     },
     "execution_count": 149,
     "metadata": {},
     "output_type": "execute_result"
    },
    {
     "data": {
      "image/png": "[encoded data removed]",
      "text/plain": [
       "<Figure size 432x288 with 1 Axes>"
      ]
     },
     "metadata": {},
     "output_type": "display_data"
    }
   ],
   "source": [
    "pd.DataFrame(industry_pubs)[['id','year']]. \\\n",
    "    groupby(['year']). \\\n",
    "    count(). \\\n",
    "    plot(kind='bar')"
   ]
  },
  {
   "cell_type": "markdown",
   "metadata": {
    "Collapsed": "false"
   },
   "source": [
    "## Filter Publications list for publications produced by two or more institutions in the region"
   ]
  },
  {
   "cell_type": "code",
   "execution_count": 150,
   "metadata": {
    "Collapsed": "false"
   },
   "outputs": [],
   "source": [
    "industry_aff = [dict( \n",
    "       year = p['year'],\n",
    "       pubid = p['id'],\n",
    "       grid = aff['id'],\n",
    "       inst = aff['name']\n",
    "    \n",
    "     )\n",
    "    for p in industry_pubs\n",
    "    for auth in p.get('author_affiliations', [{}])[0]\n",
    "    for aff in auth.get('affiliations',[])\n",
    "       if aff.get('id','') in grids\n",
    "      \n",
    "]"
   ]
  },
  {
   "cell_type": "code",
   "execution_count": 151,
   "metadata": {
    "Collapsed": "false"
   },
   "outputs": [],
   "source": [
    "idf = pd.DataFrame(industry_aff).drop_duplicates()"
   ]
  },
  {
   "cell_type": "code",
   "execution_count": 152,
   "metadata": {
    "Collapsed": "false"
   },
   "outputs": [
    {
     "data": {
      "text/html": [
       "<div>\n",
       "<style scoped>\n",
       "    .dataframe tbody tr th:only-of-type {\n",
       "        vertical-align: middle;\n",
       "    }\n",
       "\n",
       "    .dataframe tbody tr th {\n",
       "        vertical-align: top;\n",
       "    }\n",
       "\n",
       "    .dataframe thead th {\n",
       "        text-align: right;\n",
       "    }\n",
       "</style>\n",
       "<table border=\"1\" class=\"dataframe\">\n",
       "  <thead>\n",
       "    <tr style=\"text-align: right;\">\n",
       "      <th></th>\n",
       "      <th>inst</th>\n",
       "      <th>grid</th>\n",
       "      <th>pubid</th>\n",
       "    </tr>\n",
       "  </thead>\n",
       "  <tbody>\n",
       "    <tr>\n",
       "      <th>16</th>\n",
       "      <td>University of Melbourne</td>\n",
       "      <td>grid.1008.9</td>\n",
       "      <td>62186</td>\n",
       "    </tr>\n",
       "    <tr>\n",
       "      <th>13</th>\n",
       "      <td>Royal Children's Hospital</td>\n",
       "      <td>grid.416107.5</td>\n",
       "      <td>4356</td>\n",
       "    </tr>\n",
       "    <tr>\n",
       "      <th>14</th>\n",
       "      <td>Royal Melbourne Hospital</td>\n",
       "      <td>grid.416153.4</td>\n",
       "      <td>4193</td>\n",
       "    </tr>\n",
       "    <tr>\n",
       "      <th>20</th>\n",
       "      <td>Walter and Eliza Hall Institute of Medical Res...</td>\n",
       "      <td>grid.1042.7</td>\n",
       "      <td>2695</td>\n",
       "    </tr>\n",
       "    <tr>\n",
       "      <th>7</th>\n",
       "      <td>Florey Institute of Neuroscience and Mental He...</td>\n",
       "      <td>grid.418025.a</td>\n",
       "      <td>1682</td>\n",
       "    </tr>\n",
       "    <tr>\n",
       "      <th>15</th>\n",
       "      <td>Royal Women's Hospital</td>\n",
       "      <td>grid.416259.d</td>\n",
       "      <td>1243</td>\n",
       "    </tr>\n",
       "    <tr>\n",
       "      <th>10</th>\n",
       "      <td>Melbourne Health</td>\n",
       "      <td>grid.429299.d</td>\n",
       "      <td>496</td>\n",
       "    </tr>\n",
       "    <tr>\n",
       "      <th>17</th>\n",
       "      <td>Victorian Infectious Diseases Reference Labora...</td>\n",
       "      <td>grid.433799.3</td>\n",
       "      <td>479</td>\n",
       "    </tr>\n",
       "    <tr>\n",
       "      <th>11</th>\n",
       "      <td>Melbourne Sexual Health Centre</td>\n",
       "      <td>grid.490309.7</td>\n",
       "      <td>251</td>\n",
       "    </tr>\n",
       "    <tr>\n",
       "      <th>8</th>\n",
       "      <td>IBM Research - Australia</td>\n",
       "      <td>grid.481553.e</td>\n",
       "      <td>163</td>\n",
       "    </tr>\n",
       "    <tr>\n",
       "      <th>4</th>\n",
       "      <td>CO2CRC</td>\n",
       "      <td>grid.450289.2</td>\n",
       "      <td>137</td>\n",
       "    </tr>\n",
       "    <tr>\n",
       "      <th>12</th>\n",
       "      <td>Peter Doherty Institute</td>\n",
       "      <td>grid.483778.7</td>\n",
       "      <td>134</td>\n",
       "    </tr>\n",
       "    <tr>\n",
       "      <th>5</th>\n",
       "      <td>CRC for Spatial information</td>\n",
       "      <td>grid.484046.a</td>\n",
       "      <td>103</td>\n",
       "    </tr>\n",
       "    <tr>\n",
       "      <th>18</th>\n",
       "      <td>Victorian Life Sciences Computation Initiative</td>\n",
       "      <td>grid.452643.2</td>\n",
       "      <td>74</td>\n",
       "    </tr>\n",
       "    <tr>\n",
       "      <th>2</th>\n",
       "      <td>Australian and New Zealand Intensive Care Society</td>\n",
       "      <td>grid.489411.1</td>\n",
       "      <td>62</td>\n",
       "    </tr>\n",
       "    <tr>\n",
       "      <th>3</th>\n",
       "      <td>BirdLife Australia</td>\n",
       "      <td>grid.478479.1</td>\n",
       "      <td>34</td>\n",
       "    </tr>\n",
       "    <tr>\n",
       "      <th>0</th>\n",
       "      <td>Australia and New Zealand School of Government</td>\n",
       "      <td>grid.473712.4</td>\n",
       "      <td>16</td>\n",
       "    </tr>\n",
       "    <tr>\n",
       "      <th>19</th>\n",
       "      <td>Victorian Responsible Gambling Foundation</td>\n",
       "      <td>grid.484726.b</td>\n",
       "      <td>5</td>\n",
       "    </tr>\n",
       "    <tr>\n",
       "      <th>1</th>\n",
       "      <td>Australian Mathematical Sciences Institute</td>\n",
       "      <td>grid.467229.c</td>\n",
       "      <td>4</td>\n",
       "    </tr>\n",
       "    <tr>\n",
       "      <th>6</th>\n",
       "      <td>Centre of Excellence for Particle Physics at t...</td>\n",
       "      <td>grid.453169.c</td>\n",
       "      <td>1</td>\n",
       "    </tr>\n",
       "    <tr>\n",
       "      <th>9</th>\n",
       "      <td>Intensive Care Foundation</td>\n",
       "      <td>grid.479943.4</td>\n",
       "      <td>1</td>\n",
       "    </tr>\n",
       "  </tbody>\n",
       "</table>\n",
       "</div>"
      ],
      "text/plain": [
       "                                                 inst           grid  pubid\n",
       "16                            University of Melbourne    grid.1008.9  62186\n",
       "13                          Royal Children's Hospital  grid.416107.5   4356\n",
       "14                           Royal Melbourne Hospital  grid.416153.4   4193\n",
       "20  Walter and Eliza Hall Institute of Medical Res...    grid.1042.7   2695\n",
       "7   Florey Institute of Neuroscience and Mental He...  grid.418025.a   1682\n",
       "15                             Royal Women's Hospital  grid.416259.d   1243\n",
       "10                                   Melbourne Health  grid.429299.d    496\n",
       "17  Victorian Infectious Diseases Reference Labora...  grid.433799.3    479\n",
       "11                     Melbourne Sexual Health Centre  grid.490309.7    251\n",
       "8                            IBM Research - Australia  grid.481553.e    163\n",
       "4                                              CO2CRC  grid.450289.2    137\n",
       "12                            Peter Doherty Institute  grid.483778.7    134\n",
       "5                         CRC for Spatial information  grid.484046.a    103\n",
       "18     Victorian Life Sciences Computation Initiative  grid.452643.2     74\n",
       "2   Australian and New Zealand Intensive Care Society  grid.489411.1     62\n",
       "3                                  BirdLife Australia  grid.478479.1     34\n",
       "0      Australia and New Zealand School of Government  grid.473712.4     16\n",
       "19          Victorian Responsible Gambling Foundation  grid.484726.b      5\n",
       "1          Australian Mathematical Sciences Institute  grid.467229.c      4\n",
       "6   Centre of Excellence for Particle Physics at t...  grid.453169.c      1\n",
       "9                           Intensive Care Foundation  grid.479943.4      1"
      ]
     },
     "execution_count": 152,
     "metadata": {},
     "output_type": "execute_result"
    }
   ],
   "source": [
    "idf[['inst','grid','pubid']]. \\\n",
    "    groupby(['inst','grid']). \\\n",
    "    count(). \\\n",
    "    reset_index(). \\\n",
    "    sort_values(by='pubid', ascending=False)"
   ]
  },
  {
   "cell_type": "code",
   "execution_count": 153,
   "metadata": {
    "Collapsed": "false"
   },
   "outputs": [],
   "source": [
    "ia = pd.DataFrame(industry_aff)\n",
    "\n",
    "def precinct_collab(series):\n",
    "    precinct = [grid\n",
    "             for grid in series.tolist()\n",
    "             if grid in grids ]\n",
    "    if len(set(precinct)) > 1:\n",
    "        return 1\n",
    "    else:\n",
    "        return 0\n",
    "    return \n",
    "\n",
    "iadf =ia.groupby(['pubid','year']). \\\n",
    "     agg({'grid': [precinct_collab],\n",
    "          \n",
    "         }).reset_index()"
   ]
  },
  {
   "cell_type": "code",
   "execution_count": 157,
   "metadata": {
    "Collapsed": "false"
   },
   "outputs": [
    {
     "name": "stderr",
     "output_type": "stream",
     "text": [
      "/usr/local/lib/python3.6/site-packages/pandas/core/generic.py:3108: PerformanceWarning: dropping on a non-lexsorted multi-index without a level parameter may impact performance.\n",
      "  obj = obj._drop_axis(labels, axis, level=level, errors=errors)\n"
     ]
    },
    {
     "data": {
      "text/plain": [
       "<matplotlib.axes._subplots.AxesSubplot at 0x177b31c50>"
      ]
     },
     "execution_count": 157,
     "metadata": {},
     "output_type": "execute_result"
    },
    {
     "data": {
      "image/png": "[encoded data removed]",
      "text/plain": [
       "<Figure size 432x288 with 1 Axes>"
      ]
     },
     "metadata": {},
     "output_type": "display_data"
    }
   ],
   "source": [
    "iadf.groupby('year').sum().plot(kind='bar')"
   ]
  },
  {
   "cell_type": "markdown",
   "metadata": {
    "Collapsed": "false"
   },
   "source": [
    "---\n",
    "# Want to learn more?\n",
    "\n",
    "Check out the [Dimensions API Lab](https://digital-science.github.io/dimensions-api-lab/) website, which contains many tutorials and reusable Jupyter notebooks for scholarly data analytics. "
   ]
  }
 ],
 "metadata": {
  "kernel_info": {
   "name": "python3"
  },
  "kernelspec": {
   "display_name": "Python 3",
   "language": "python",
   "name": "python3"
  },
  "language_info": {
   "codemirror_mode": {
    "name": "ipython",
    "version": 3
   },
   "file_extension": ".py",
   "mimetype": "text/x-python",
   "name": "python",
   "nbconvert_exporter": "python",
   "pygments_lexer": "ipython3",
   "version": "3.7.4"
  },
  "nteract": {
   "version": "0.14.5"
  }
 },
 "nbformat": 4,
 "nbformat_minor": 4
}
