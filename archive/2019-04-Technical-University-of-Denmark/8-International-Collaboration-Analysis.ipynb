{
 "cells": [
  {
   "cell_type": "markdown",
   "metadata": {
    "Collapsed": "false"
   },
   "source": [
    "<a href=\"https://colab.research.google.com/github/digital-science/dimensions-api-lab/blob/master/3-workshops/2019-04-Technical-University-of-Denmark/8-International-Collaboration-Analysis.ipynb\" target=\"_parent\"><img src=\"https://colab.research.google.com/assets/colab-badge.svg\" alt=\"Open Dimensions API Lab In Google Colab\"/></a>"
   ]
  },
  {
   "cell_type": "markdown",
   "metadata": {
    "Collapsed": "false"
   },
   "source": [
    "# International Collaboration Analysis"
   ]
  },
  {
   "cell_type": "code",
   "execution_count": null,
   "metadata": {
    "Collapsed": "false"
   },
   "outputs": [],
   "source": [
    "from dimcli.shortcuts import dslquery_json as dslquery\n",
    "import pandas as pd"
   ]
  },
  {
   "cell_type": "markdown",
   "metadata": {
    "Collapsed": "false"
   },
   "source": [
    "## Identify Single institution papers"
   ]
  },
  {
   "cell_type": "code",
   "execution_count": null,
   "metadata": {
    "Collapsed": "false"
   },
   "outputs": [],
   "source": [
    "sole_institution = pd.DataFrame(\n",
    "    dslquery(\"\"\"\n",
    "        search publications \n",
    "            where count(research_orgs) = 1\n",
    "            and type=\"article\"\n",
    "            and year = [2007:2017]\n",
    "        return research_orgs limit 200\n",
    "        \"\"\")['research_orgs']\n",
    ")\n",
    "sole_institution.head()"
   ]
  },
  {
   "cell_type": "markdown",
   "metadata": {
    "Collapsed": "false"
   },
   "source": [
    "## Identify papers with domestic collaboration"
   ]
  },
  {
   "cell_type": "code",
   "execution_count": null,
   "metadata": {
    "Collapsed": "false"
   },
   "outputs": [],
   "source": [
    "domestic_instituion = pd.DataFrame(\n",
    "    dslquery(\"\"\"\n",
    "        search publications \n",
    "            where count(research_org_countries) = 1\n",
    "            and type=\"article\"\n",
    "            and year = [2007:2017]\n",
    "        return research_orgs limit 200\n",
    "        \"\"\")['research_orgs']\n",
    ")\n",
    "domestic_instituion.head()"
   ]
  },
  {
   "cell_type": "markdown",
   "metadata": {
    "Collapsed": "false"
   },
   "source": [
    "## Identify papers with international collaboration"
   ]
  },
  {
   "cell_type": "code",
   "execution_count": null,
   "metadata": {
    "Collapsed": "false"
   },
   "outputs": [],
   "source": [
    "international_instituion = pd.DataFrame(\n",
    "    dslquery(\"\"\"\n",
    "        search publications \n",
    "            where count(research_org_countries) > 1\n",
    "            and type=\"article\"\n",
    "            and year = [2007:2017]\n",
    "        return research_orgs limit 200\n",
    "        \"\"\")['research_orgs']\n",
    ")\n",
    "international_instituion.head()"
   ]
  },
  {
   "cell_type": "markdown",
   "metadata": {
    "Collapsed": "false"
   },
   "source": [
    "## Join the tables together"
   ]
  },
  {
   "cell_type": "code",
   "execution_count": null,
   "metadata": {
    "Collapsed": "false"
   },
   "outputs": [],
   "source": [
    "sole = sole_institution[['id','name','country_name','count']]\n",
    "sole.columns = ['id','name','country_name','internal publications']"
   ]
  },
  {
   "cell_type": "code",
   "execution_count": null,
   "metadata": {
    "Collapsed": "false"
   },
   "outputs": [],
   "source": [
    "dom = domestic_instituion[['id','count']]\n",
    "dom.columns = ['id','domestic_publications']\n",
    "international = international_instituion[['id','count']]\n",
    "international.columns = ['id','international_publications']\n"
   ]
  },
  {
   "cell_type": "code",
   "execution_count": null,
   "metadata": {
    "Collapsed": "false"
   },
   "outputs": [],
   "source": [
    "jdf = sole.set_index('id').join(dom.set_index('id')).join(international.set_index('id'))\n",
    "\n",
    "jdf['internal_international_ratio'] = jdf['internal publications'] / jdf['international_publications']\n",
    "jdf.head(100)"
   ]
  },
  {
   "cell_type": "markdown",
   "metadata": {
    "Collapsed": "false"
   },
   "source": [
    "## Add a little bit of analysis"
   ]
  },
  {
   "cell_type": "code",
   "execution_count": null,
   "metadata": {
    "Collapsed": "false"
   },
   "outputs": [],
   "source": [
    "def highlight_cols(s):\n",
    "    if s > 1 :\n",
    "        color = 'yellow'\n",
    "    elif s < 1:\n",
    "        color = 'grey'\n",
    "    else:\n",
    "        color = 'white'\n",
    "    return 'background-color: %s' % color\n",
    "\n",
    "jdf.style.applymap(highlight_cols, subset=['internal_international_ratio'])"
   ]
  },
  {
   "cell_type": "markdown",
   "metadata": {
    "Collapsed": "false"
   },
   "source": [
    "---\n",
    "# Want to learn more?\n",
    "\n",
    "Check out the [Dimensions API Lab](https://digital-science.github.io/dimensions-api-lab/) website, which contains many tutorials and reusable Jupyter notebooks for scholarly data analytics. "
   ]
  }
 ],
 "metadata": {
  "kernel_info": {
   "name": "python3"
  },
  "kernelspec": {
   "display_name": "Python 3",
   "language": "python",
   "name": "python3"
  },
  "language_info": {
   "codemirror_mode": {
    "name": "ipython",
    "version": 3
   },
   "file_extension": ".py",
   "mimetype": "text/x-python",
   "name": "python",
   "nbconvert_exporter": "python",
   "pygments_lexer": "ipython3",
   "version": "3.7.4"
  },
  "nteract": {
   "version": "0.14.5"
  }
 },
 "nbformat": 4,
 "nbformat_minor": 4
}
