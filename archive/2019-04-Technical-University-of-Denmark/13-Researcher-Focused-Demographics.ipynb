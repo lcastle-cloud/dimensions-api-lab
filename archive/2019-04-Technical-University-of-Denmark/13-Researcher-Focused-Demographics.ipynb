{
 "cells": [
  {
   "cell_type": "markdown",
   "metadata": {
    "Collapsed": "false"
   },
   "source": [
    "<a href=\"https://colab.research.google.com/github/digital-science/dimensions-api-lab/blob/master/3-workshops/2019-04-Technical-University-of-Denmark/13-Researcher-Focused-Demographics.ipynb\" target=\"_parent\"><img src=\"https://colab.research.google.com/assets/colab-badge.svg\" alt=\"Open Dimensions API Lab In Google Colab\"/></a>"
   ]
  },
  {
   "cell_type": "markdown",
   "metadata": {
    "Collapsed": "false"
   },
   "source": [
    "# Getting Researcher Focused Demographics from the Dimensions API\n",
    "\n",
    "\n",
    "By Using the API and processing the author_affiliations, it is possible to derive quite a number of researcher demographics"
   ]
  },
  {
   "cell_type": "code",
   "execution_count": null,
   "metadata": {
    "Collapsed": "false"
   },
   "outputs": [],
   "source": [
    "import pandas as pd\n",
    "from dimcli.shortcuts import dslquery_json as dslquery"
   ]
  },
  {
   "cell_type": "markdown",
   "metadata": {
    "Collapsed": "false"
   },
   "source": [
    "## 1 Start with a publication selection"
   ]
  },
  {
   "cell_type": "code",
   "execution_count": null,
   "metadata": {
    "Collapsed": "false"
   },
   "outputs": [],
   "source": [
    "def searchPubs(limit=1000, skip=0):\n",
    "    data = \"\"\"search publications \n",
    "          where year in [2017:2018]\n",
    "          and journal.id = \"jour.1048844\"\n",
    "          and type=\"article\"\n",
    "          return publications[id+author_affiliations]\n",
    "          limit {} skip {}\n",
    "    \"\"\".format(limit,skip)\n",
    "    return data"
   ]
  },
  {
   "cell_type": "code",
   "execution_count": null,
   "metadata": {
    "Collapsed": "false"
   },
   "outputs": [],
   "source": [
    "def dslsearchpublications():\n",
    "    skip = 0\n",
    "    pubs = []\n",
    "    total_pubs = []\n",
    "    result = {}\n",
    "    while (skip == 0) or (len(pubs) == 1000):\n",
    "        pubs = dslquery(searchPubs(skip=skip)).get('publications',[])\n",
    "        total_pubs += pubs\n",
    "        skip += 1000      \n",
    "                            \n",
    "    return total_pubs"
   ]
  },
  {
   "cell_type": "code",
   "execution_count": null,
   "metadata": {
    "Collapsed": "false"
   },
   "outputs": [],
   "source": [
    "pubs = dslsearchpublications()"
   ]
  },
  {
   "cell_type": "markdown",
   "metadata": {
    "Collapsed": "false"
   },
   "source": [
    "## 2 Extract researcher ids from the publications"
   ]
  },
  {
   "cell_type": "code",
   "execution_count": null,
   "metadata": {
    "Collapsed": "false"
   },
   "outputs": [],
   "source": [
    "researchers = [ auth.get('researcher_id')\n",
    "                for p in pubs\n",
    "                for auth in p.get('author_affiliations',[{}])[0]\n",
    "                   if auth.get('researcher_id') is not None ]\n",
    "\n"
   ]
  },
  {
   "cell_type": "code",
   "execution_count": null,
   "metadata": {
    "Collapsed": "false"
   },
   "outputs": [],
   "source": [
    "len(set(researchers))"
   ]
  },
  {
   "cell_type": "markdown",
   "metadata": {
    "Collapsed": "false"
   },
   "source": [
    "## 3 Get the publication histories for each of the researchers retrieved\n",
    "\n",
    "Have a cup of tea whilst it completes..."
   ]
  },
  {
   "cell_type": "code",
   "execution_count": null,
   "metadata": {
    "Collapsed": "false"
   },
   "outputs": [],
   "source": [
    "def publicationsfromresearchers(researcherids,limit=1000,skip=0):\n",
    "    searchstring = \"\"\"\n",
    "    search publications\n",
    "       where\n",
    "        researchers.id in [{}]\n",
    "    return publications[id+year+author_affiliations] limit {} skip {}\n",
    "    \"\"\".format(\",\".join([ '\"{}\"'.format(r) for r in researcherids]),limit,skip)\n",
    "    print (searchstring)\n",
    "    return searchstring"
   ]
  },
  {
   "cell_type": "code",
   "execution_count": null,
   "metadata": {
    "Collapsed": "false"
   },
   "outputs": [],
   "source": [
    "def dslsearchpublicationsR(ids):\n",
    "    skip = 0\n",
    "    pubs = []\n",
    "    total_pubs = []\n",
    "    result = {}\n",
    "    while (skip == 0) or (len(pubs) == 1000):\n",
    "        pubs = dslquery(publicationsfromresearchers(ids,skip=skip)).get('publications',[])\n",
    "        total_pubs += pubs\n",
    "        skip += 1000      \n",
    "                            \n",
    "    return total_pubs"
   ]
  },
  {
   "cell_type": "code",
   "execution_count": null,
   "metadata": {
    "Collapsed": "false"
   },
   "outputs": [],
   "source": [
    "def publicationsfromresearcherlist(researcherids):\n",
    "    pubs=[]\n",
    "    \n",
    "    idchunks = [researcherids[x:x + 500] for x in range(0, len(researcherids), 500)]\n",
    "    for ids in idchunks:\n",
    "        results = dslsearchpublicationsR(ids)\n",
    "        pubs += results\n",
    "        print(len(pubs))\n",
    "        \n",
    "    return pubs"
   ]
  },
  {
   "cell_type": "code",
   "execution_count": null,
   "metadata": {
    "Collapsed": "false"
   },
   "outputs": [],
   "source": [
    "respubs = publicationsfromresearcherlist(list(set(researchers)))"
   ]
  },
  {
   "cell_type": "markdown",
   "metadata": {
    "Collapsed": "false"
   },
   "source": [
    "## 4 Extract researcher activity from the output"
   ]
  },
  {
   "cell_type": "code",
   "execution_count": null,
   "metadata": {
    "Collapsed": "false"
   },
   "outputs": [],
   "source": [
    "full_researchers = [ dict( researcher_id = auth.get('researcher_id'),\n",
    "                      first_name = auth.get('first_name'),\n",
    "                      last_name = auth.get('last_name'),    \n",
    "                      year = p.get('year')\n",
    "                    )\n",
    "                for p in respubs\n",
    "                for auth in p.get('author_affiliations',[{}])[0]\n",
    "                   if auth.get('researcher_id') in list(set(researchers)) ]"
   ]
  },
  {
   "cell_type": "code",
   "execution_count": null,
   "metadata": {
    "Collapsed": "false"
   },
   "outputs": [],
   "source": [
    "full_researchers[40]"
   ]
  },
  {
   "cell_type": "code",
   "execution_count": null,
   "metadata": {
    "Collapsed": "false"
   },
   "outputs": [],
   "source": [
    "fridf = pd.DataFrame(full_researchers).drop_duplicates()\n",
    "fridf.head()"
   ]
  },
  {
   "cell_type": "markdown",
   "metadata": {
    "Collapsed": "false"
   },
   "source": [
    "## 5 Derive demographic details for the authors\n",
    "\n",
    "* Based on first name, guess the gender of the author\n",
    "* Based on the number of years, they have published, calculate a publication age (excluding years they have not published in)"
   ]
  },
  {
   "cell_type": "code",
   "execution_count": null,
   "metadata": {
    "Collapsed": "false"
   },
   "outputs": [],
   "source": [
    "import numpy as np\n",
    "import gender_guesser.detector as gender_guesser"
   ]
  },
  {
   "cell_type": "code",
   "execution_count": null,
   "metadata": {
    "Collapsed": "false"
   },
   "outputs": [],
   "source": [
    "d = gender_guesser.Detector(case_sensitive=False)"
   ]
  },
  {
   "cell_type": "code",
   "execution_count": null,
   "metadata": {
    "Collapsed": "false"
   },
   "outputs": [],
   "source": [
    "# define an aggregate function for the gender guesser"
   ]
  },
  {
   "cell_type": "code",
   "execution_count": null,
   "metadata": {
    "Collapsed": "false"
   },
   "outputs": [],
   "source": [
    "def getgender(series):\n",
    "    fnl = list(set([d.get_gender(name.split(' ')[0])\n",
    "             for name in series.tolist()]))\n",
    "    gender = [g for g in fnl if g != 'unknown']\n",
    "    if len(gender) == 1:\n",
    "        return gender[0]\n",
    "    else:\n",
    "        return 'unknown'\n",
    "    return "
   ]
  },
  {
   "cell_type": "code",
   "execution_count": null,
   "metadata": {
    "Collapsed": "false"
   },
   "outputs": [],
   "source": [
    "frdf = fridf.groupby('researcher_id'). \\\n",
    "     agg({'first_name': ['max',getgender],\n",
    "          'year': ['min','max',pd.Series.nunique]\n",
    "         }).reset_index()"
   ]
  },
  {
   "cell_type": "code",
   "execution_count": null,
   "metadata": {
    "Collapsed": "false"
   },
   "outputs": [],
   "source": [
    "frdf.columns = ['researcher_id', 'first_name', 'gender', 'min_year', 'max_year', 'publication_age']\n",
    "frdf = frdf.set_index('researcher_id')"
   ]
  },
  {
   "cell_type": "code",
   "execution_count": null,
   "metadata": {
    "Collapsed": "false"
   },
   "outputs": [],
   "source": [
    "frdf.head()"
   ]
  },
  {
   "cell_type": "markdown",
   "metadata": {
    "Collapsed": "false"
   },
   "source": [
    "## 6 Produce a gender profile for the resaerchers identified"
   ]
  },
  {
   "cell_type": "code",
   "execution_count": null,
   "metadata": {
    "Collapsed": "false"
   },
   "outputs": [],
   "source": [
    "frdf[['gender','first_name']].groupby(['gender']).count()"
   ]
  },
  {
   "cell_type": "markdown",
   "metadata": {
    "Collapsed": "false"
   },
   "source": [
    "## 7 Create a Histogram of researchers by publication age"
   ]
  },
  {
   "cell_type": "code",
   "execution_count": null,
   "metadata": {
    "Collapsed": "false"
   },
   "outputs": [],
   "source": [
    "frdf[['publication_age']].hist(bins=5)"
   ]
  },
  {
   "cell_type": "markdown",
   "metadata": {
    "Collapsed": "false"
   },
   "source": [
    "## ..By publication age and gender"
   ]
  },
  {
   "cell_type": "code",
   "execution_count": null,
   "metadata": {
    "Collapsed": "false"
   },
   "outputs": [],
   "source": [
    "frdf.loc[frdf['gender'] == 'male'][['publication_age']].hist(bins=5)"
   ]
  },
  {
   "cell_type": "code",
   "execution_count": null,
   "metadata": {
    "Collapsed": "false"
   },
   "outputs": [],
   "source": [
    "frdf.loc[frdf['gender'] == 'female'][['publication_age']].hist(bins=5)"
   ]
  },
  {
   "cell_type": "code",
   "execution_count": null,
   "metadata": {
    "Collapsed": "false"
   },
   "outputs": [],
   "source": [
    "frdf.loc[frdf['gender'] == 'andy'][['publication_age']].hist(bins=5)"
   ]
  },
  {
   "cell_type": "markdown",
   "metadata": {
    "Collapsed": "false"
   },
   "source": [
    "## 8 Combine Resaercher Demographic details with Publication properties\n",
    "\n",
    "* Get the number of authors per paper"
   ]
  },
  {
   "cell_type": "code",
   "execution_count": null,
   "metadata": {
    "Collapsed": "false"
   },
   "outputs": [],
   "source": [
    "publications = [ dict(\n",
    "                      pub_id = i,\n",
    "                      author_position = j,\n",
    "                      researcher_id = auth.get('researcher_id')\n",
    "                    )\n",
    "                for i,p in enumerate(pubs)\n",
    "                for j, auth in enumerate(p.get('author_affiliations',[{}])[0])\n",
    "                    if auth.get('researcher_id') is not None\n",
    "                   ]"
   ]
  },
  {
   "cell_type": "code",
   "execution_count": null,
   "metadata": {
    "Collapsed": "false"
   },
   "outputs": [],
   "source": [
    "pub_df = pd.DataFrame(publications)"
   ]
  },
  {
   "cell_type": "code",
   "execution_count": null,
   "metadata": {
    "Collapsed": "false"
   },
   "outputs": [],
   "source": [
    "pub_df.head()"
   ]
  },
  {
   "cell_type": "markdown",
   "metadata": {
    "Collapsed": "false"
   },
   "source": [
    "## Authors per paper"
   ]
  },
  {
   "cell_type": "code",
   "execution_count": null,
   "metadata": {
    "Collapsed": "false"
   },
   "outputs": [],
   "source": [
    "pub_df_grouped = pub_df.groupby('pub_id').count()\n",
    "pub_df_grouped.columns = ['count authors', 'count_researchers']\n",
    "pub_df_grouped.head()"
   ]
  },
  {
   "cell_type": "code",
   "execution_count": null,
   "metadata": {
    "Collapsed": "false"
   },
   "outputs": [],
   "source": [
    "pub_df_grouped[['count authors']].hist(bins=11)"
   ]
  },
  {
   "cell_type": "markdown",
   "metadata": {
    "Collapsed": "false"
   },
   "source": [
    "## Senior publication age per paper"
   ]
  },
  {
   "cell_type": "code",
   "execution_count": null,
   "metadata": {
    "Collapsed": "false"
   },
   "outputs": [],
   "source": [
    "pub_df = pub_df.set_index('researcher_id')"
   ]
  },
  {
   "cell_type": "code",
   "execution_count": null,
   "metadata": {
    "Collapsed": "false"
   },
   "outputs": [],
   "source": [
    "pub_df.head()"
   ]
  },
  {
   "cell_type": "code",
   "execution_count": null,
   "metadata": {
    "Collapsed": "false"
   },
   "outputs": [],
   "source": [
    "#pgdf = pdf.set_index('FORid').join(gdf[['number_of_grants','FORid']].set_index('FORid'))\n",
    "\n",
    "pubsjoined = pub_df.join(frdf)\n",
    "pubsjoined.head()"
   ]
  },
  {
   "cell_type": "code",
   "execution_count": null,
   "metadata": {
    "Collapsed": "false"
   },
   "outputs": [],
   "source": [
    "pubsjoined[['pub_id','publication_age']].groupby('pub_id').max().hist()"
   ]
  },
  {
   "cell_type": "code",
   "execution_count": null,
   "metadata": {
    "Collapsed": "false"
   },
   "outputs": [],
   "source": [
    "pmaxage = pubsjoined[['pub_id','publication_age']].groupby('pub_id').max()"
   ]
  },
  {
   "cell_type": "code",
   "execution_count": null,
   "metadata": {
    "Collapsed": "false"
   },
   "outputs": [],
   "source": [
    "pmerged = pd.merge(pubsjoined, pmaxage, on='pub_id', how='left')\n",
    "pmerged.head(5)"
   ]
  },
  {
   "cell_type": "markdown",
   "metadata": {
    "Collapsed": "false"
   },
   "source": [
    "# Create a histogram of author position of the senior author (by publication age)"
   ]
  },
  {
   "cell_type": "code",
   "execution_count": null,
   "metadata": {
    "Collapsed": "false"
   },
   "outputs": [],
   "source": [
    "pmfiltered = pmerged.loc[pmerged['publication_age_x'] == pmerged['publication_age_y']]"
   ]
  },
  {
   "cell_type": "code",
   "execution_count": null,
   "metadata": {
    "Collapsed": "false"
   },
   "outputs": [],
   "source": [
    "pmfiltered[['author_position']].hist(bins=100)"
   ]
  },
  {
   "cell_type": "markdown",
   "metadata": {
    "Collapsed": "false"
   },
   "source": [
    "# Get the gender of the senior author (by publication age) on the paper"
   ]
  },
  {
   "cell_type": "code",
   "execution_count": null,
   "metadata": {
    "Collapsed": "false"
   },
   "outputs": [],
   "source": [
    "pmfiltered[['gender','pub_id']].groupby('gender').count()"
   ]
  },
  {
   "cell_type": "markdown",
   "metadata": {
    "Collapsed": "false"
   },
   "source": [
    "---\n",
    "# Want to learn more?\n",
    "\n",
    "Check out the [Dimensions API Lab](https://digital-science.github.io/dimensions-api-lab/) website, which contains many tutorials and reusable Jupyter notebooks for scholarly data analytics. "
   ]
  }
 ],
 "metadata": {
  "kernel_info": {
   "name": "python3"
  },
  "kernelspec": {
   "display_name": "Python 3",
   "language": "python",
   "name": "python3"
  },
  "language_info": {
   "codemirror_mode": {
    "name": "ipython",
    "version": 3
   },
   "file_extension": ".py",
   "mimetype": "text/x-python",
   "name": "python",
   "nbconvert_exporter": "python",
   "pygments_lexer": "ipython3",
   "version": "3.7.4"
  },
  "nteract": {
   "version": "0.14.5"
  }
 },
 "nbformat": 4,
 "nbformat_minor": 4
}
